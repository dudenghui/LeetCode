{
 "metadata": {
  "language_info": {
   "codemirror_mode": {
    "name": "ipython",
    "version": 3
   },
   "file_extension": ".py",
   "mimetype": "text/x-python",
   "name": "python",
   "nbconvert_exporter": "python",
   "pygments_lexer": "ipython3",
   "version": "3.7.3"
  },
  "orig_nbformat": 2,
  "kernelspec": {
   "name": "python373jvsc74a57bd0b445a9a934c6138ffaa6e6c504878c62e56d3e974a500d266fd2c1470ca76961",
   "display_name": "Python 3.7.3 64-bit ('base': conda)"
  }
 },
 "nbformat": 4,
 "nbformat_minor": 2,
 "cells": [
  {
   "cell_type": "code",
   "execution_count": null,
   "metadata": {},
   "outputs": [],
   "source": [
    "有向无环图 -> 拓扑排序: 将顶点排成线性序列,使得对于任意一对顶点u和v,若边<u,v>∈E(G)，则u在线性序列中出现在v之前。\n",
    "称这种线性序列为拓扑序列，得到这样的拓扑序列的过程称为拓扑排序。"
   ]
  },
  {
   "source": [
    "对一个有向无环图(Directed Acyclic Graph简称DAG)G进行拓扑排序，是** 「将G中所有顶点排成一个线性序列，使得图中任意一对顶点u和v，若边<u,v>∈E(G)，则u在线性序列中出现在v之前。」**通常，这样的线性序列称为满足拓扑次序(Topological Order)的序列，简称拓扑序列。简单的说，由某个集合上的一个偏序得到该集合上的一个全序，这个操作称之为拓扑排序。"
   ],
   "cell_type": "markdown",
   "metadata": {}
  },
  {
   "source": [
    "# 207. [课程表](https://leetcode-cn.com/problems/course-schedule)\n",
    "\n",
    "你这个学期必须选修numCourses门课程，记为 0 到 numCourses - 1 。在选修某些课程之前需要一些先修课程。先修课程按数组prerequisites给出，其中prerequisites\\[i] = \\[ai, bi]，表示如果要学习课程ai则 必须 先学习课程bi 。\n",
    "\n",
    "例如，先修课程对 \\[0, 1] 表示：想要学习课程 0 ，你需要先完成课程 1 。请你判断是否可能完成所有课程的学习？如果可以，返回 true ；否则，返回 false 。\n",
    "\n",
    "### 本人思路:\n",
    "所有的课应该有一个时间先后的顺序,两门课之间不能产生矛盾,映射到图里也就是说不能组成环装,也就是判断这个图是不是能构成一个生成树\n",
    "\n",
    "### 官方思路:本题是一道经典的「拓扑排序」问题。\n",
    "给定一个包含 n个节点的有向图 GG，我们给出它的节点编号的一种排列，如果满足：\n",
    "> 对于图 G中的任意一条有向边 (u, v)，u在排列中都出现在v的前面。\n",
    "\n",
    "那么称该排列是图 G的「拓扑排序」。根据上述的定义，我们可以得出两个结论：\n",
    "\n",
    "* 如果图 G中存在环（即图G不是「有向无环图」），那么图G不存在拓扑排序。这是因为假设图中存在环 x1, x2⋯,xn,x1，那么 x1在排列中必须出现在 xn的前面，但 xn同时也必须出现在 x1的前面，因此不存在一个满足要求的排列，也就不存在拓扑排序；\n",
    "* 如果图G是有向无环图，那么它的拓扑排序可能不止一种。举一个最极端的例子，如果图G值包含n个节点却没有任何边，那么任意一种编号的排列都可以作为拓扑排序。\n",
    "\n",
    "有了上述的简单分析，我们就可以将本题建模成一个求拓扑排序的问题了：\n",
    "\n",
    "* 我们将每一门课看成一个节点；\n",
    "* 如果想要学习课程A之前必须完成课程B，那么我们从B到A连接一条有向边。这样以来，在拓扑排序中，B 一定出现在A的前面。\n",
    "\n"
   ],
   "cell_type": "markdown",
   "metadata": {}
  },
  {
   "source": [
    "## 方法一:[深度优先遍历](https://leetcode-cn.com/problems/course-schedule/solution/ke-cheng-biao-by-leetcode-solution/)\n",
    "\n",
    "<div font-size='26' color='r'>这个题最好看官方教程</div>\n",
    "\n",
    "我们可以将深度优先搜索的流程与拓扑排序的求解联系起来，用一个栈来存储所有已经搜索完成的节点。\n",
    "\n",
    "假设我们当前搜索到了节点 u，如果它的所有相邻节点都已经搜索完成，那么这些节点都已经在栈中了，此时我们就可以把 u入栈。可以发现，如果我们从栈顶往栈底的顺序看，由于 u处于栈顶的位置，那么 u出现在所有u的相邻节点的前面。因此对于u这个节点而言，它是满足拓扑排序的要求的。这样以来，我们对图进行一遍深度优先搜索。当每个节点进行回溯的时候，我们把该节点放入栈中。最终从栈顶到栈底的序列就是一种拓扑排序。\n",
    "\n",
    "## 方法二:广度优先遍历\n",
    "我们考虑拓扑排序中最前面的节点，该节点一定不会有任何入边，也就是它没有任何的先修课程要求。当我们将一个节点加入答案中后，我们就可以移除它的所有出边，代表着它的相邻节点少了一门先修课程的要求。如果某个相邻节点变成了「没有任何入边的节点」，那么就代表着这门课可以开始学习了。按照这样的流程，我们不断地将没有入边的节点加入答案，直到答案中包含所有的节点（得到了一种拓扑排序）或者不存在没有入边的节点（图中包含环）。\n",
    "\n",
    "我们使用一个队列来进行广度优先搜索。初始时，所有入度为 00 的节点都被放入队列中，它们就是可以作为拓扑排序最前面的节点，并且它们之间的相对顺序是无关紧要的。\n",
    "\n",
    "在广度优先搜索的每一步中，我们取出队首的节点 uu：\n",
    "\n",
    "* 我们将 uu 放入答案中；\n",
    "\n",
    "* 我们移除 uu 的所有出边，也就是将 uu 的所有相邻节点的入度减少 11。如果某个相邻节点 vv 的入度变为 00，那么我们就将 vv 放入队列中。\n",
    "\n",
    "在广度优先搜索的过程结束后。如果答案中包含了这 nn 个节点，那么我们就找到了一种拓扑排序，否则说明图中存在环，也就不存在拓扑排序了。\n"
   ],
   "cell_type": "markdown",
   "metadata": {}
  },
  {
   "cell_type": "code",
   "execution_count": null,
   "metadata": {},
   "outputs": [],
   "source": [
    "class Solution(object):\n",
    "    def canFinish(self, numCourses, prerequisites):\n",
    "        \"\"\"\n",
    "        :type numCourses: int\n",
    "        :type prerequisites: List[List[int]]\n",
    "        :rtype: bool\n",
    "        \"\"\"\n",
    "        '''方法一(官方):深度优先遍历\n",
    "        时间复杂度:O(N+M) 空间复杂度:O(N+M) (N为课程数,M为先修课程数)\n",
    "        '''\n",
    "        # import collections\n",
    "        # edges = collections.defaultdict(list)\n",
    "        # visited = [0] * numCourses\n",
    "        # result = list()\n",
    "        # valid = True\n",
    "        # for info in prerequisites: edges[info[1]].append(info[0])\n",
    "        # def dfs(u):\n",
    "        #     nonlocal valid\n",
    "        #     global result\n",
    "        #     visited[u] = 1\n",
    "        #     for v in edges[u]: # 遍历该节点的下一节点\n",
    "        #         if visited[v] == 0:\n",
    "        #             dfs(v)\n",
    "        #             if not valid: return\n",
    "        #         elif visited[v] == 1:\n",
    "        #             valid = False\n",
    "        #             return\n",
    "        #     visited[u] = 2\n",
    "        #     result.append(u)\n",
    "        # for i in range(numCourses):\n",
    "        #     if valid and not visited[i]: dfs(i)\n",
    "        # return valid\n",
    "        '''方法二(官方):广度优先搜索\n",
    "        时间复杂度:O(N+M) 空间复杂度:O(N+M) (N为课程数,M为先修课程数)\n",
    "        '''\n",
    "        import collections\n",
    "        edges = collections.defaultdict(list) # 边缘(先0后1)\n",
    "        indeg = [0] * numCourses # 入度\n",
    "        for info in prerequisites:\n",
    "            edges[info[1]].append(info[0])\n",
    "            indeg[info[0]] += 1\n",
    "        print(indeg, edges)\n",
    "\n",
    "        q = collections.deque([u for u in range(numCourses) if indeg[u] == 0])\n",
    "        visited = 0\n",
    "        while q:\n",
    "            visited += 1\n",
    "            u = q.popleft()\n",
    "            for v in edges[u]:\n",
    "                indeg[v] -= 1\n",
    "                if indeg[v] == 0: q.append(v)\n",
    "        return visited == numCourses\n",
    "\n",
    "\n",
    "sol = Solution()\n",
    "numCourses = 7\n",
    "prerequisites = [[0,1],[2,0],[2,1],[4,0],[4,5],[5,0],[5,3],[6,5]]\n",
    "print(sol.canFinish(numCourses, prerequisites))"
   ]
  },
  {
   "source": [
    "# 1857. 有向图中最大颜色值(未完全理解,以后还得看)\n",
    "\n",
    "给你一个 有向图 ，它含有 n 个节点和 m 条边。节点编号从 0 到 n - 1 。\n",
    "\n",
    "给你一个字符串 colors ，其中 colors\\[i] 是小写英文字母，表示图中第 i 个节点的 颜色 （下标从 0 开始）。同时给你一个二维数组 edges ，其中 edges\\[j] = \\[aj, bj] 表示从节点 aj 到节点 bj 有一条 有向边 。\n",
    "\n",
    "图中一条有效 路径 是一个点序列 x1 -> x2 -> x3 -> ... -> xk ，对于所有 1 <= i < k ，从 xi 到 xi+1 在图中有一条有向边。路径的 颜色值 是路径中 出现次数最多 颜色的节点数目。\n",
    "\n",
    "请你返回给定图中有效路径里面的 最大颜色值 。如果图中含有环，请返回 -1 。\n",
    "\n",
    "### 个人思路,对节点进行拓扑排序,\n",
    "\n",
    "### [官方思路:](https://leetcode-cn.com/problems/largest-color-value-in-a-directed-graph/solution/you-xiang-tu-zhong-zui-da-yan-se-zhi-by-dmtaa/)\n"
   ],
   "cell_type": "markdown",
   "metadata": {}
  },
  {
   "cell_type": "code",
   "execution_count": 9,
   "metadata": {},
   "outputs": [
    {
     "output_type": "stream",
     "name": "stdout",
     "text": [
      "4\n"
     ]
    }
   ],
   "source": [
    "import collections\n",
    "\n",
    "class Solution:\n",
    "    def largestPathValue(self, colors, edges):\n",
    "        '''方法一(官方):拓扑排序 + 动态规划\n",
    "        利用与上题中方法二相似的方法\n",
    "        时间复杂度:O((n+m)∣Σ∣) 空间复杂度:O(n∣Σ∣+m)\n",
    "        '''\n",
    "        n = len(colors)        \n",
    "        g = collections.defaultdict(list) # 邻接表      \n",
    "        indeg = [0] * n # 节点的入度统计，用于找出拓扑排序中最开始的节点\n",
    "        for x, y in edges:\n",
    "            indeg[y] += 1\n",
    "            g[x].append(y)       \n",
    "        # 记录拓扑排序过程中遇到的节点个数\n",
    "        # 如果最终 found 的值不为 n，说明图中存在环\n",
    "        found = 0\n",
    "        f = [[0] * 26 for _ in range(n)] # n*26\n",
    "        q = collections.deque() # 记录没有入度的节点\n",
    "        for i in range(n):\n",
    "            if indeg[i] == 0: q.append(i)   \n",
    "        while q:\n",
    "            found += 1\n",
    "            u = q.popleft()        \n",
    "            f[u][ord(colors[u]) - ord(\"a\")] += 1 # 将节点 u 对应的颜色增加 1     \n",
    "            for v in g[u]: # 枚举 u 的后继节点 v\n",
    "                indeg[v] -= 1\n",
    "                for c in range(26): # 将 f(v,c) 更新为其与 f(u,c) 的较大值\n",
    "                    f[v][c] = max(f[v][c], f[u][c])\n",
    "                if indeg[v] == 0: q.append(v)\n",
    "                    \n",
    "        if found != n: return -1\n",
    "        ans = 0\n",
    "        for i in range(n): ans = max(ans, max(f[i]))\n",
    "        return ans\n",
    "\n",
    "sol = Solution()\n",
    "colors = \"sssssss\"\n",
    "edges = [[0,1],[2,0],[2,1],[4,0],[4,5],[5,0],[5,3],[6,5]]\n",
    "print(sol.largestPathValue(colors, edges))"
   ]
  },
  {
   "cell_type": "code",
   "execution_count": null,
   "metadata": {},
   "outputs": [],
   "source": []
  },
  {
   "cell_type": "code",
   "execution_count": null,
   "metadata": {},
   "outputs": [],
   "source": []
  },
  {
   "cell_type": "code",
   "execution_count": null,
   "metadata": {},
   "outputs": [],
   "source": []
  },
  {
   "cell_type": "code",
   "execution_count": null,
   "metadata": {},
   "outputs": [],
   "source": []
  },
  {
   "cell_type": "code",
   "execution_count": null,
   "metadata": {},
   "outputs": [],
   "source": []
  },
  {
   "cell_type": "code",
   "execution_count": null,
   "metadata": {},
   "outputs": [],
   "source": []
  },
  {
   "cell_type": "code",
   "execution_count": null,
   "metadata": {},
   "outputs": [],
   "source": []
  },
  {
   "cell_type": "code",
   "execution_count": null,
   "metadata": {},
   "outputs": [],
   "source": []
  }
 ]
}