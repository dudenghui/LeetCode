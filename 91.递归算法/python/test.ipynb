{
 "metadata": {
  "language_info": {
   "codemirror_mode": {
    "name": "ipython",
    "version": 3
   },
   "file_extension": ".py",
   "mimetype": "text/x-python",
   "name": "python",
   "nbconvert_exporter": "python",
   "pygments_lexer": "ipython3",
   "version": "3.7.3"
  },
  "orig_nbformat": 2,
  "kernelspec": {
   "name": "python373jvsc74a57bd0b445a9a934c6138ffaa6e6c504878c62e56d3e974a500d266fd2c1470ca76961",
   "display_name": "Python 3.7.3 64-bit ('base': conda)"
  }
 },
 "nbformat": 4,
 "nbformat_minor": 2,
 "cells": [
  {
   "source": [
    "https://zhuanlan.zhihu.com/p/96084111"
   ],
   "cell_type": "markdown",
   "metadata": {}
  },
  {
   "source": [
    "用递归解题的基本套路（四步曲）：\n",
    "\n",
    "1. 先定义一个函数，明确这个函数的功能，由于递归的特点是问题和子问题都会调用函数自身，所以这个函数的功能一旦确定了， 之后只要找寻问题与子问题的递归关系即可\n",
    "2. 接下来寻找问题与子问题间的关系（即递推公式），这样由于问题与子问题具有相同解决思路，只要子问题调用步骤 1 定义好的函数，问题即可解决。所谓的关系最好能用一个公式表示出来，比如 f(n) = n * f(n-) 这样，如果暂时无法得出明确的公式，用伪代码表示也是可以的, 发现递推关系后，要寻找最终不可再分解的子问题的解，即（临界条件），确保子问题不会无限分解下去。由于第一步我们已经定义了这个函数的功能，所以当问题拆分成子问题时，子问题可以调用步骤 1 定义的函数，符合递归的条件（函数里调用自身）\n",
    "3. 将第二步的递推公式用代码表示出来补充到步骤 1 定义的函数中\n",
    "4. 最后也是很关键的一步，根据问题与子问题的关系，推导出时间复杂度,如果发现递归时间复杂度不可接受，则需转换思路对其进行改造，看下是否有更靠谱的解法"
   ],
   "cell_type": "markdown",
   "metadata": {}
  },
  {
   "source": [
    "## 热身题:求阶乘"
   ],
   "cell_type": "markdown",
   "metadata": {}
  },
  {
   "cell_type": "code",
   "execution_count": 7,
   "metadata": {},
   "outputs": [
    {
     "output_type": "stream",
     "name": "stdout",
     "text": [
      "6\n"
     ]
    }
   ],
   "source": [
    "\n",
    "def cal_factorial(n):\n",
    "    assert type(n) is int\n",
    "    if n <= 1: return 1\n",
    "    return n*cal_factorial(n-1)\n",
    "\n",
    "print(cal_factorial(3))"
   ]
  },
  {
   "source": [
    "## 入门题:\n",
    "一只青蛙一次可以跳一级或两级台阶,例如跳上2级台阶有两种跳法:每次跳一级,跳两次和一次跳两级。问跳上n级台阶有几种跳法?"
   ],
   "cell_type": "markdown",
   "metadata": {}
  },
  {
   "cell_type": "code",
   "execution_count": 7,
   "metadata": {},
   "outputs": [
    {
     "output_type": "stream",
     "name": "stdout",
     "text": [
      "**************方法一******************\n9 8 7 6 5 4 3 3 4 3 5 4 3 3 6 5 4 3 3 4 3 7 6 5 4 3 3 4 3 5 4 3 3 \nthe answer is: 55\n**************方法二******************\n9 8 7 6 5 4 3 \nthe answer is: 55\n{1: 1, 2: 2, 3: 3, 4: 5, 5: 8, 6: 13, 7: 21, 8: 34, 9: 55}\n**************方法三******************\n\nthe answer is: 3\n**************方法四******************\nthe answer is: 55\n"
     ]
    }
   ],
   "source": [
    "'''方法一:自上而下思考问题,如果要跳到n级台阶只能从n-1或n-2级跳,所以问题就转化为跳上n-1和n-2级台阶的跳法,如果f(n)代表跳到n级台阶的跳法,那么f(n)=f(n-1)+f(n-2)。f(1)=1,f(2)=2'''\n",
    "print(\"**************方法一******************\")\n",
    "def cal_n_steps(n):\n",
    "    if n==1: return 1\n",
    "    if n==2: return 2\n",
    "    print(n, end=' ')\n",
    "    return cal_n_steps(n-1) + cal_n_steps(n-2)\n",
    "\n",
    "print('\\nthe answer is:',cal_n_steps(9))\n",
    "'''上述方法在进行递归计算的时候需要进行很多重复的计算,因此时间复杂度大大增加,一般不能为了递归而递归,而是要在解决问题的前提下消耗更少资源(时间和空间)'''\n",
    "\n",
    "'''方法二:由于方法一中进行了很多重复的计算,因此考虑将中间计算结果保存起来,这样如果在之后的计算中碰到同样需要计算的中间态,直接查询即可,这就是典型的以空间换时间'''\n",
    "print(\"**************方法二******************\")\n",
    "map = {1:1,2:2}\n",
    "def cal_n_steps(n):\n",
    "    if map.get(n): return map.get(n)\n",
    "    print(n, end = ' ')\n",
    "    map[n] = cal_n_steps(n-1) + cal_n_steps(n-2)\n",
    "    return map[n]\n",
    "\n",
    "print('\\nthe answer is:',cal_n_steps(9))\n",
    "print(map)\n",
    "\n",
    "'''方法三:上述两种方法都是采用自顶向下的方式解决的,但是我们在计算的时候发现f(n)=f(n-1)+f(n-2)公式是固定的,因此考虑采用自底向上的方法'''\n",
    "print(\"**************方法三******************\")\n",
    "def cal_n_steps(n):\n",
    "    if n==1: return 1\n",
    "    if n==2: return 2\n",
    "    result = 0\n",
    "    pre = 1\n",
    "    next = 2\n",
    "    for i in range(3, n+1):\n",
    "        result = pre + next\n",
    "        pre = next\n",
    "        next = result\n",
    "    return result\n",
    "\n",
    "print('\\nthe answer is:',cal_n_steps(3))\n",
    "print(\"**************方法四******************\")\n",
    "\n",
    "'''方法四:动态规划,这种方法是方法三的复杂版本,与方法二类似'''\n",
    "def cal_n_steps(n):\n",
    "    array = [0]*(n+1)\n",
    "    array[1] = 1\n",
    "    array[2] = 2\n",
    "    for i in range(3, n+1):\n",
    "        array[i] = array[i-1] + array[i-2]\n",
    "    return array[n]\n",
    "\n",
    "print('the answer is:',cal_n_steps(9))"
   ]
  },
  {
   "source": [
    "### 总结:分析问题我们需要采用自上而下的思维，而解决问题有时候采用自下而上的方式能让算法性能得到极大提升,思路比结论重要。\n",
    "## 初级题：反转二叉树\n",
    "1. 定义一个函数，这个函数代表了翻转以 root 为根节点的二叉树\n",
    "```\n",
    "public static class TreeNode {\n",
    "    int val;\n",
    "    TreeNode left;\n",
    "    TreeNode right;\n",
    "    TreeNode(int x) { val = x; }\n",
    "}\n",
    "public TreeNode invertTree(TreeNode root) {\n",
    "}\n",
    "```\n",
    "2. 查找问题与子问题的关系,得出递推公式 我们之前说了，解题要采用自上而下的思考方式，那我们取前面的1,2,3结点来看，对于根节点1来说，假设2,3结点下的节点都已经翻转，那么只要翻转 2,3节点即满足需求。**递归的终止条件是当结点为叶子结点时终止（因为叶子节点没有左右结点）**\n",
    "3. 将第二步的递推公式用代码表示出来补充到步骤 1 定义的函数中。\n",
    "4. 时间复杂度分析 由于我们会对每一个节点都去做翻转，所以时间复杂度是 O(n)，那么空间复杂度呢，这道题的空间复杂度非常有意思，我们一起来看下，由于每次调用 invertTree 函数都相当于一次压栈操作。如果是完全二叉树 ，则树的高度为logn, 即空间复杂度为O(logn)，最坏情况，如果此二叉树是如图所示(只有左节点，没有右节点)，则树的高度即结点的个数 n，此时空间复杂度为 O(n),总的来看，空间复杂度为O(n)。\n"
   ],
   "cell_type": "markdown",
   "metadata": {}
  },
  {
   "cell_type": "code",
   "execution_count": 15,
   "metadata": {},
   "outputs": [
    {
     "output_type": "stream",
     "name": "stdout",
     "text": [
      "[[0], [1, 2], [3, 4, 5, 6]]\n[[0], [2, 1], [6, 5, 4, 3]]\n"
     ]
    }
   ],
   "source": [
    "from struct_base.Binary_Tree import BTree, create_BTree_By_List\n",
    "data = list(range(7))\n",
    "tree = create_BTree_By_List(data)\n",
    "print(tree.levelorder())\n",
    "\n",
    "class TreeNode:\n",
    "    def __init__(self, val=0, left=None, right=None):\n",
    "        self.val = val\n",
    "        self.left = left\n",
    "        self.right = right\n",
    "\n",
    "def invert_tree(root):\n",
    "    if root==None: return None\n",
    "    left = invert_tree(root.left)\n",
    "    right = invert_tree(root.right)\n",
    "    root.right = left\n",
    "    root.left = right\n",
    "    return root\n",
    "\n",
    "\n",
    "inv_tree = invert_tree(tree)\n",
    "print(inv_tree.levelorder())\n",
    "\n"
   ]
  },
  {
   "source": [
    "## 中级题:汉诺塔问题\n",
    "从左到右ABC三个柱子,A柱上从小到大有n个圆盘,现在要将A柱圆盘全部移到C柱上去,期间只有一个原则:一次只能移到一个盘子并且大盘子不能在小盘子上边。求移动的步骤和移动的次数。\n",
    "1. 定义问题的递归函数，明确函数的功能,我们定义这个函数的功能为：把 A 上面的 n 个圆盘经由 B 移到 C\n",
    "```\n",
    "// 将 n 个圆盘从 a 经由 b 移动到 c 上\n",
    "public void hanoid(int n, char a, char b, char c) {\n",
    "}\n",
    "```\n",
    "2. 查找问题与子问题的关系 首先我们看如果 A 柱子上只有两块圆盘该怎么移\n",
    "前面我们多次提到，**分析问题与子问题的关系要采用自上而下的分析方式**，要将 n 个圆盘经由 B 移到 C 柱上去，可以按以下三步来分析:\n",
    "* 将上面的n-1 个圆盘看成是一个圆盘,这样分析思路就与上面提到的只有两块圆盘的思路一致了 \n",
    "* 将上面的 n-1 个圆盘经由C移到B,此时将A底下的那块最大的圆盘移到C \n",
    "* 再将B上的 n-1 个圆盘经由A移到C上\n",
    "\n",
    "```move(n from A to C) = move(n-1 from A to B) + move(A to C) + move(n-1 from B to C`)```\n",
    "\n",
    "从函数的功能上看其实比较容易理解，整个函数定义的功能就是把 A 上的 n 个圆盘 经由 B 移到 C，由于定义好了这个函数的功能，那么接下来的把 n-1 个圆盘 经由 C 移到 B 就可以很自然的调用这个函数,所以明确函数的功能非常重要,按着函数的功能来解释，递归问题其实很好解析，切忌在每一个子问题上层层展开死抠,这样这就陷入了递归的陷阱，计算机都会栈溢出，何况人脑。\n",
    "\n",
    "4.时间复杂度分析 从第三步补充好的函数中我们可以推断出：\n",
    "f(n) = f(n-1) + 1 + f(n-1) = 2f(n-1) + 1 = 2(2f(n-2) + 1) + 1 = 2 * 2 * f(n-2) + 2 + 1 = 22 * f(n-3) + 2 + 1 = 22 * f(n-3) + 2 + 1 = 22 * (2f(n-4) + 1) = 23 * f(n-4) + 22 + 1 = .... // 不断地展开 = 2n-1+ 2n-2 + ....+ 1\n",
    "\n",
    "显然时间复杂度为O(2^n)，很明显指数级别的时间复杂度是不能接受的，汉诺塔非递归的解法比较复杂，大家可以去网上搜一下"
   ],
   "cell_type": "markdown",
   "metadata": {}
  },
  {
   "cell_type": "code",
   "execution_count": 39,
   "metadata": {},
   "outputs": [
    {
     "output_type": "stream",
     "name": "stdout",
     "text": [
      "the steps is: 15\nroute: ['a->b', 'a->c', 'b->c', 'a->b', 'c->a', 'c->b', 'a->b', 'a->c', 'b->c', 'b->a', 'c->a', 'b->c', 'a->b', 'a->c', 'b->c']\n"
     ]
    }
   ],
   "source": [
    "count = 0\n",
    "route = []\n",
    "def hanoid(n, a, b, c):\n",
    "    if n <= 0: return\n",
    "    global count # 声明全局变量\n",
    "    count = count + 1\n",
    "    # 将上面的n-1个圆盘由C转移至B\n",
    "    hanoid(n-1, a, c, b)\n",
    "    # 此时将 A 底下的那块最大的圆盘移到 C\n",
    "    move(a, c)\n",
    "    # 再将 B 上的 n-1 个圆盘经由A移到 C上\n",
    "    hanoid(n-1, b, a, c)\n",
    "\n",
    "def move(a, b):\n",
    "    global route\n",
    "    route.append(f\"{a}->{b}\")\n",
    "    # print(f\"{a}->{b}\")\n",
    "\n",
    "hanoid(4, 'a', 'b', 'c')\n",
    "print(\"the steps is:\",count)\n",
    "print(\"route:\",route)"
   ]
  },
  {
   "source": [
    "## 进阶题\n",
    "假设细胞每一个小时分裂一个子细胞,第三个小时后会死亡,那么n个小时后有多少细胞?\n",
    "\n",
    "1. 定义问题的递归函数，明确函数的功能 我们定义以下函数为 n 个小时后的细胞数\n",
    "```\n",
    "public int allCells(int n) {\n",
    "}\n",
    "```\n",
    "2. 接下来寻找问题与子问题间的关系（即递推公式） 首先我们看一下一个细胞出生到死亡后经历的所有细胞分裂过程:\n",
    "\n",
    "<img src=\"https://pic4.zhimg.com/80/v2-f62bd4113e90eb9f778b75fad856401f_1440w.jpg\" width=50% justify-content: center>\n",
    "\n",
    "图中的 A 代表细胞的初始态, B代表幼年态(细胞分裂一次), C 代表成熟态(细胞分裂两次)，C 再经历一小时后细胞死亡 以 f(n) 代表第 n 小时的细胞分解数 fa(n) 代表第 n 小时处于初始态的细胞数, fb(n) 代表第 n 小时处于幼年态的细胞数 fc(n) 代表第 n 小时处于成熟态的细胞数 则显然 f(n) = fa(n) + fb(n) + fc(n) 那么 fa(n) 等于多少呢，以n = 4 （即一个细胞经历完整的生命周期）为例,仔细看上面的图,可以看出 \n",
    "fa(n) = fa(n-1) + fb(n-1) + fc(n-1), 当 n = 1 时，显然 fa(1) = 1\n",
    "\n",
    " 我们得出的递归公式如下:\n",
    "\n",
    " <img src=\"https://pic3.zhimg.com/80/v2-cadb90613feb34a2f81ce77e5106e80e_1440w.jpg\" width=50%>\n",
    "\n",
    "3. 根据以上递归公式我们补充一下函数的功能\n",
    "只要思路对了,将递推公式转换成代码就简单多了。另外，可以借助画图来观察规律。\n",
    "\n",
    "4. 求时间复杂度 由第二步的递推公式我们知道 f(n) = 2aCell(n-1) + 2aCell(n-2) + aCell(n-3)"
   ],
   "cell_type": "markdown",
   "metadata": {}
  },
  {
   "cell_type": "code",
   "execution_count": 45,
   "metadata": {},
   "outputs": [
    {
     "output_type": "stream",
     "name": "stdout",
     "text": [
      "7\n"
     ]
    }
   ],
   "source": [
    "def f(n):\n",
    "    return fa(n)+fb(n)+fc(n)\n",
    "\n",
    "def fa(n):\n",
    "    if n==1: return 1\n",
    "    return fa(n-1)+fb(n-1)+fc(n-1)\n",
    "\n",
    "def fb(n):\n",
    "    if n==1: return 0\n",
    "    return fa(n-1)\n",
    "\n",
    "def fc(n):\n",
    "    if n==1 or n==2: return 0\n",
    "    return fb(n-1)\n",
    "\n",
    "print(f(4))\n"
   ]
  },
  {
   "source": [
    "## 总结\n",
    "大部分递归题其实还是有迹可寻的， 按照之前总结的解递归的四个步骤可以比较顺利的解开递归题，一些比较复杂的递归题我们需要勤动手，画画图，观察规律，这样能帮助我们快速发现规律，得出递归公式，一旦知道了递归公式，将其转成递归代码就容易多了,很多大厂的递归考题并不能简单地看出递归规律，往往会在递归的基础上多加一些变形，不过万遍不离其宗，我们多采用自顶向下的分析思维，多练习，相信递归不是什么难事"
   ],
   "cell_type": "markdown",
   "metadata": {}
  },
  {
   "cell_type": "code",
   "execution_count": null,
   "metadata": {},
   "outputs": [],
   "source": []
  },
  {
   "cell_type": "code",
   "execution_count": null,
   "metadata": {},
   "outputs": [],
   "source": []
  },
  {
   "cell_type": "code",
   "execution_count": null,
   "metadata": {},
   "outputs": [],
   "source": []
  },
  {
   "cell_type": "code",
   "execution_count": null,
   "metadata": {},
   "outputs": [],
   "source": []
  },
  {
   "cell_type": "code",
   "execution_count": null,
   "metadata": {},
   "outputs": [],
   "source": []
  },
  {
   "cell_type": "code",
   "execution_count": null,
   "metadata": {},
   "outputs": [],
   "source": []
  },
  {
   "cell_type": "code",
   "execution_count": null,
   "metadata": {},
   "outputs": [],
   "source": []
  },
  {
   "cell_type": "code",
   "execution_count": null,
   "metadata": {},
   "outputs": [],
   "source": []
  },
  {
   "cell_type": "code",
   "execution_count": null,
   "metadata": {},
   "outputs": [],
   "source": []
  },
  {
   "cell_type": "code",
   "execution_count": null,
   "metadata": {},
   "outputs": [],
   "source": []
  },
  {
   "cell_type": "code",
   "execution_count": null,
   "metadata": {},
   "outputs": [],
   "source": []
  },
  {
   "cell_type": "code",
   "execution_count": null,
   "metadata": {},
   "outputs": [],
   "source": []
  },
  {
   "cell_type": "code",
   "execution_count": null,
   "metadata": {},
   "outputs": [],
   "source": []
  },
  {
   "cell_type": "code",
   "execution_count": null,
   "metadata": {},
   "outputs": [],
   "source": []
  },
  {
   "cell_type": "code",
   "execution_count": null,
   "metadata": {},
   "outputs": [],
   "source": []
  },
  {
   "cell_type": "code",
   "execution_count": null,
   "metadata": {},
   "outputs": [],
   "source": []
  }
 ]
}