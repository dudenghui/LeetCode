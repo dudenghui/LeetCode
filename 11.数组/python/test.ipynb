{
 "metadata": {
  "language_info": {
   "codemirror_mode": {
    "name": "ipython",
    "version": 3
   },
   "file_extension": ".py",
   "mimetype": "text/x-python",
   "name": "python",
   "nbconvert_exporter": "python",
   "pygments_lexer": "ipython3",
   "version": "3.7.3"
  },
  "orig_nbformat": 2,
  "kernelspec": {
   "name": "python373jvsc74a57bd0b445a9a934c6138ffaa6e6c504878c62e56d3e974a500d266fd2c1470ca76961",
   "display_name": "Python 3.7.3 64-bit (conda)"
  }
 },
 "nbformat": 4,
 "nbformat_minor": 2,
 "cells": [
  {
   "source": [
    "# 两数之和\n",
    "\n",
    "注意到方法一的时间复杂度较高的原因是寻找 target - x 的时间复杂度过高。因此，我们需要一种更优秀的方法，能够快速寻找数组中是否存在目标元素。如果存在，我们需要找出它的索引。\n",
    "\n",
    "使用哈希表，可以将寻找 target - x 的时间复杂度降低到从 O(N)O(N) 降低到 O(1)O(1)。\n",
    "\n",
    "这样我们创建一个哈希表，对于每一个 x，我们首先查询哈希表中是否存在 target - x，然后将 x 插入到哈希表中，即可保证不会让 x 和自己匹配。\n",
    "\n",
    "复杂度分析\n",
    "\n",
    "* 时间复杂度：O(N)O(N)，其中 NN 是数组中的元素数量。对于每一个元素 x，我们可以 O(1)O(1) 地寻找 target - x。\n",
    "\n",
    "* 空间复杂度：O(N)O(N)，其中 NN 是数组中的元素数量。主要为哈希表的开销。\n"
   ],
   "cell_type": "markdown",
   "metadata": {}
  },
  {
   "cell_type": "code",
   "execution_count": 1,
   "metadata": {},
   "outputs": [
    {
     "output_type": "stream",
     "name": "stdout",
     "text": [
      "[3, 7]\n"
     ]
    }
   ],
   "source": [
    "'''方法一'''\n",
    "class Solution(object):\n",
    "    def twoSum(self, nums, target):\n",
    "        \"\"\"\n",
    "        :type nums: List[int]\n",
    "        :type target: int\n",
    "        :rtype: List[int]\n",
    "        \"\"\"\n",
    "        for i in range(len(nums)):\n",
    "            '''暴力法'''\n",
    "            # for j in range(len(nums)):\n",
    "            #     if (nums[i] + nums[j]) == target and i != j:\n",
    "            #         return [i, j]\n",
    "            '''利用python特性'''\n",
    "            if (target-nums[i]) in nums:\n",
    "                for j in range(i+1, len(nums)):\n",
    "                    if target-nums[i]==nums[j]:\n",
    "                        return [i, j]\n",
    "        return []\n",
    "'''方法二'''\n",
    "class Solution(object):\n",
    "    def twoSum(self, nums, target):\n",
    "        \"\"\"\n",
    "        :type nums: List[int]\n",
    "        :type target: int\n",
    "        :rtype: List[int]\n",
    "        \"\"\"\n",
    "        '''哈希表法'''\n",
    "        hashtable = dict()\n",
    "        for i, num in enumerate(nums):\n",
    "            if target-num in hashtable:\n",
    "                return [hashtable[target-num], i]\n",
    "            hashtable[num] = i           \n",
    "        return []\n",
    "\n",
    "nums = [34, 44, 2, 4, 6, 8, 12, 3]\n",
    "target = 7\n",
    "\n",
    "sol = Solution()\n",
    "print(sol.twoSum(nums, target))"
   ]
  },
  {
   "source": [
    "# 2.盛最多水的容器\n",
    "\n",
    "## 双指针\n",
    "\n",
    "直觉告诉我们，应该移动对应数字较小的那个指针（即此时的左指针）。这是因为，由于容纳的水量是由\n",
    "\n",
    "```两个指针指向的数字中较小值 * 指针之间的距离```\n",
    "\n",
    "决定的。如果我们移动数字较大的那个指针，那么前者「两个指针指向的数字中较小值」不会增加，后者「指针之间的距离」会减小，那么这个乘积会减小。因此，我们移动数字较大的那个指针是不合理的。因此，我们移动 数字较小的那个指针。\n",
    "\n",
    "[证明](https://leetcode-cn.com/problems/container-with-most-water/solution/sheng-zui-duo-shui-de-rong-qi-by-leetcode-solution/)\n"
   ],
   "cell_type": "markdown",
   "metadata": {}
  },
  {
   "cell_type": "code",
   "execution_count": 24,
   "metadata": {},
   "outputs": [
    {
     "output_type": "stream",
     "name": "stdout",
     "text": [
      "92\n"
     ]
    }
   ],
   "source": [
    "# 暴力循环\n",
    "class Solution(object):\n",
    "    def maxArea(self, height):\n",
    "        \"\"\"\n",
    "        :type height: List[int]\n",
    "        :rtype: int\n",
    "        \"\"\"\n",
    "        length = len(height)\n",
    "        max = 0\n",
    "        for i in range(length-1):\n",
    "            for j in range(i+1, length):\n",
    "                if self.cal(i, j, height) > max:\n",
    "                    max = self.cal(i, j, height)\n",
    "        return max\n",
    "\n",
    "    def cal(self, i, j, height):\n",
    "        return abs(i-j)*min(height[i], height[j])\n",
    "\n",
    "# 双指针\n",
    "class Solution(object):\n",
    "    def maxArea(self, height):\n",
    "        \"\"\"\n",
    "        :type height: List[int]\n",
    "        :rtype: int\n",
    "        \"\"\"\n",
    "        n = len(height)\n",
    "        ans = 0\n",
    "        i, j = 0, n-1\n",
    "        while i is not j:\n",
    "            ans = max(ans, self.cal(i, j, height))\n",
    "            if height[i] < height[j]:\n",
    "                i = i+1\n",
    "            else:\n",
    "                j = j-1\n",
    "        return ans\n",
    "\n",
    "    def cal(self, i, j, height):\n",
    "        return (j-i)*min(height[i], height[j])\n",
    "\n",
    "sol = Solution()\n",
    "height = [1,23,2,5,25,24,5]\n",
    "print(sol.maxArea(height))"
   ]
  },
  {
   "cell_type": "code",
   "execution_count": 3,
   "metadata": {},
   "outputs": [
    {
     "output_type": "stream",
     "name": "stdout",
     "text": [
      "6\n"
     ]
    }
   ],
   "source": [
    "height = [1,2,3,4,5,6]\n",
    "print(len(height))"
   ]
  },
  {
   "source": [
    "# [删除有序数组中的重复项](https://leetcode-cn.com/problems/remove-duplicates-from-sorted-array/)\n",
    "\n",
    "## 题目描述:\n",
    "\n",
    "给你一个有序数组 nums ，请你 原地 删除重复出现的元素，使每个元素 只出现一次 ，返回删除后数组的新长度。\n",
    "\n",
    "不要使用额外的数组空间，你必须在 原地 修改输入数组 并在使用 O(1) 额外空间的条件下完成。\n",
    "\n",
    "## 原地算法:\n",
    "> 原地算法:（in-place algorithm）是一种使用小的，固定数量的额外之空间来转换资料的算法。当算法执行时，输入的资料通常会被要输出的部分覆盖掉。\n",
    "\n",
    "## 双指针"
   ],
   "cell_type": "markdown",
   "metadata": {}
  },
  {
   "cell_type": "code",
   "execution_count": 98,
   "metadata": {},
   "outputs": [
    {
     "output_type": "stream",
     "name": "stdout",
     "text": [
      "(6, [0, 1, 2, 3, 4, 5])\n"
     ]
    }
   ],
   "source": [
    "class Solution(object):\n",
    "    def removeDuplicates(self, nums):\n",
    "        \"\"\"\n",
    "        :type nums: List[int]\n",
    "        :rtype: int\n",
    "        \"\"\"\n",
    "        if len(nums) == 0:\n",
    "            return 0\n",
    "        '''方法一:难度就是随着元素的移除索引会变化,例如[1,1,1,1,1]就不行'''\n",
    "        # for num in nums:\n",
    "        #     if nums.count(num) > 1:\n",
    "        #         nums.remove(num)\n",
    "\n",
    "        # return len(nums)\n",
    "        '''方法二:就是用一些内置函数,时间复杂度高,并且有限制'''\n",
    "        # i = 0\n",
    "        # while i < len(nums):\n",
    "        #     if nums.count(nums[i]) > 1:\n",
    "        #         nums.remove(nums[i]) # 难度就是随着元素的移除索引会变化\n",
    "        #     else:\n",
    "        #         i = i+1\n",
    "        # return len(nums)\n",
    "        '''方法三:双指针(我特么看错了,这是删除有序数组的重复项,我是删除无序数组的重复项)'''\n",
    "        # n = len(nums)\n",
    "        # fast = slow = 1\n",
    "        # while fast < n:\n",
    "        #     if nums[fast] != nums[fast - 1]:\n",
    "        #         nums[slow] = nums[fast]\n",
    "        #         slow += 1\n",
    "        #     fast += 1\n",
    "        # return slow\n",
    "        '''方法四:我尝试用这种方法求解(结果是这种方法相对于方法三较慢一些,why?难道是while循环比for循环快吗?)'''\n",
    "        ans = 1\n",
    "        for i in range(1,len(nums)):\n",
    "            if nums[i] != nums[i-1]:\n",
    "                nums[ans] = nums[i]\n",
    "                ans += 1\n",
    "            \n",
    "        return ans, nums[0:ans]\n",
    "\n",
    "sol = Solution()\n",
    "# nums = [0,2,3,1,2,4,5,3,5,7]\n",
    "nums = [0,0,1,2,3,3,3,4,5,5]\n",
    "# nums = [1,1,1,1,1,1,1,1,1,1]\n",
    "print(sol.removeDuplicates(nums))"
   ]
  },
  {
   "source": [
    "# 总结:一定考虑边界条件,变量命名不要用关键字!!!\n",
    "一般而言,for-in循环比while循环效率稍低。[链接](https://blog.csdn.net/Vector97/article/details/90136777)"
   ],
   "cell_type": "markdown",
   "metadata": {}
  },
  {
   "source": [
    "# 717. [1比特与2比特字符](https://leetcode-cn.com/problems/1-bit-and-2-bit-characters)\n",
    "\n",
    "有两种特殊字符。第一种字符可以用一比特0来表示。第二种字符可以用两比特(10 或 11)来表示。\n",
    "\n",
    "现给一个由若干比特组成的字符串。问最后一个字符是否必定为一个一比特字符。给定的字符串总是由0结束。\n",
    "\n"
   ],
   "cell_type": "markdown",
   "metadata": {}
  },
  {
   "source": [
    "这道题目我没思路\n",
    "## 方法一：线性扫描\n",
    "我们可以对 $\\mathrm{bits}$数组从左到右扫描来判断最后一位是否为一比特字符。当扫描到第$i$位时，如果 $\\mathrm{bits}[i]=1$，那么说明这是一个两比特字符，将 $i$的值增加2。如果 $\\mathrm{bits}[i]=0$，那么说明这是一个一比特字符，将 $i$的值增加 1。\n",
    "\n",
    "### 复杂度分析\n",
    "\n",
    "* 时间复杂度：O(n)O(n)，其中 nn 是 \\mathrm{bits}bits 数组的长度。\n",
    "* 空间复杂度：O(1)O(1)。\n",
    "\n",
    "## 方法二：贪心\n",
    "三种字符分别为 0，10 和 11，那么 $bits$ 数组中出现的所有 0 都表示一个字符的结束位置（无论其为一比特还是两比特）。因此最后一位是否为一比特字符，只和他**左侧出现的连续的 1 的个数（即它与倒数第二个 0 出现的位置之间的 1 的个数**，如果 $bits$ 数组中只有 1 个 0，那么就是整个数组的长度减一）有关。如果 1 的个数为偶数个，那么最后一位是一比特字符，如果 1 的个数为奇数个，那么最后一位不是一比特字符。\n",
    "\n",
    "### 复杂度分析\n",
    "\n",
    "* 时间复杂度：O(n)O(n)，其中 NN 是 \\mathrm{bits}bits 数组的长度。\n",
    "* 空间复杂度：O(1)O(1)。\n"
   ],
   "cell_type": "markdown",
   "metadata": {}
  },
  {
   "cell_type": "code",
   "execution_count": 131,
   "metadata": {},
   "outputs": [
    {
     "output_type": "stream",
     "name": "stdout",
     "text": [
      "['1', '1', '1', '0']\nFalse\n"
     ]
    }
   ],
   "source": [
    "class Solution(object):\n",
    "    def isOneBitCharacter(self, bits):\n",
    "        \"\"\"\n",
    "        :type bits: List[int]\n",
    "        :rtype: bool\n",
    "        \"\"\"\n",
    "        '''线性扫描一:这种方法容易超出时间限制'''\n",
    "        i = 0\n",
    "        while i < len(bits):\n",
    "            if i == len(bits)-1:\n",
    "                return True\n",
    "            if bits[i] == '1':\n",
    "                i += 2\n",
    "            elif bits[i] == '0':\n",
    "                i += 1\n",
    "        return False\n",
    "        '''线性扫描二(官方)'''\n",
    "        # i = 0\n",
    "        # while i < len(bits) - 1:\n",
    "        #     i += bits[i] + 1\n",
    "        # return i == len(bits) - 1\n",
    "        '''贪心算法一(官方)'''\n",
    "        '''如果 1 的个数为偶数个，那么最后一位是一比特字符，\n",
    "        如果 1 的个数为奇数个，那么最后一位不是一比特字符。'''\n",
    "        # parity = bits.pop()\n",
    "        # while bits and bits.pop(): parity ^= 1 # 亦或(相同为0)\n",
    "        # return parity == 0\n",
    "        '''贪心算法二(self)'''\n",
    "        node = len(bits)-2\n",
    "        while node>-1 and bits[node]==1:\n",
    "            node -= 1\n",
    "        return (len(bits)-node)%2 == 0\n",
    "            \n",
    "sol = Solution()\n",
    "bits = \"1110\"\n",
    "bits = list(bits)\n",
    "print(bits)\n",
    "print(sol.isOneBitCharacter(bits))"
   ]
  },
  {
   "source": [
    "## 总结:关键在于思路,方法一的思路是从头到尾遇0加一,遇1加二直到最后。方法二思路是看最后一个零与倒数第二个零之间1的个数"
   ],
   "cell_type": "markdown",
   "metadata": {}
  },
  {
   "source": [
    "# 其他题:求数组中没有出现的数\n",
    "一个大小为n的数组中包含有从0到n的整数(顺序不定,可包含重复数),问这个数组中没有出现的数为:"
   ],
   "cell_type": "markdown",
   "metadata": {}
  },
  {
   "cell_type": "code",
   "execution_count": 22,
   "metadata": {},
   "outputs": [
    {
     "output_type": "stream",
     "name": "stdout",
     "text": [
      "[3, 1, 5, -2, 5, 4, 7, 4, 3, 2]\n[3, -1, 5, -2, 5, 4, 7, 4, 3, 2]\n[3, -1, 5, -2, 5, -4, 7, 4, 3, 2]\n[3, -1, -5, -2, 5, -4, 7, 4, 3, 2]\n[3, -1, -5, -2, 5, -4, 7, 4, 3, 2]\n[3, -1, -5, -2, -5, -4, 7, 4, 3, 2]\n[3, -1, -5, -2, -5, -4, 7, -4, 3, 2]\n[3, -1, -5, -2, -5, -4, 7, -4, 3, 2]\n[3, -1, -5, -2, -5, -4, 7, -4, 3, 2]\n[3, -1, -5, -2, -5, -4, 7, -4, 3, 2]\n[0, 6, 8, 9]\n"
     ]
    }
   ],
   "source": [
    "class Solution:\n",
    "    def find_num(self, array):\n",
    "        '''方法一(self):遍历法\n",
    "        时间复杂度:O(n) 空间复杂度:O(n)\n",
    "        '''\n",
    "        # ans = []\n",
    "        # l = [0]*len(array)\n",
    "        # for a in array:\n",
    "        #     l[a] += 1\n",
    "        # for i in range(len(l)):\n",
    "        #     if l[i] == 0:\n",
    "        #         ans.append(i)\n",
    "        # return ans\n",
    "        '''方法二(书本):这种也是遍历法,但是非常巧妙地使用了变为负数这种方法,\n",
    "        减小了空间占用(但实际上空间复杂度不变)'''\n",
    "        ans = []\n",
    "        for a in array:\n",
    "            pos = abs(a)\n",
    "            if array[pos] > 0: \n",
    "                # 如果大于0,证明此前没有变化过,如果小于0证明变化过就不用再变了\n",
    "                array[pos] = -array[pos]\n",
    "            print(array)\n",
    "        for i in range(len(array)):\n",
    "            if array[i] > 0:\n",
    "                ans.append(i)\n",
    "        return ans\n",
    "\n",
    "array = [3,1,5,2,5,4,7,4,3,2]\n",
    "sol = Solution()\n",
    "print(sol.find_num(array))\n"
   ]
  },
  {
   "cell_type": "code",
   "execution_count": null,
   "metadata": {},
   "outputs": [],
   "source": []
  }
 ]
}