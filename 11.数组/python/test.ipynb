{
 "metadata": {
  "language_info": {
   "codemirror_mode": {
    "name": "ipython",
    "version": 3
   },
   "file_extension": ".py",
   "mimetype": "text/x-python",
   "name": "python",
   "nbconvert_exporter": "python",
   "pygments_lexer": "ipython3",
   "version": "3.7.3"
  },
  "orig_nbformat": 2,
  "kernelspec": {
   "name": "python373jvsc74a57bd0b445a9a934c6138ffaa6e6c504878c62e56d3e974a500d266fd2c1470ca76961",
   "display_name": "Python 3.7.3 64-bit ('base': conda)"
  }
 },
 "nbformat": 4,
 "nbformat_minor": 2,
 "cells": [
  {
   "source": [
    "# 两数之和\n",
    "\n",
    "注意到方法一的时间复杂度较高的原因是寻找 target - x 的时间复杂度过高。因此，我们需要一种更优秀的方法，能够快速寻找数组中是否存在目标元素。如果存在，我们需要找出它的索引。\n",
    "\n",
    "使用哈希表，可以将寻找 target - x 的时间复杂度降低到从 O(N)O(N) 降低到 O(1)O(1)。\n",
    "\n",
    "这样我们创建一个哈希表，对于每一个 x，我们首先查询哈希表中是否存在 target - x，然后将 x 插入到哈希表中，即可保证不会让 x 和自己匹配。\n",
    "\n",
    "复杂度分析\n",
    "\n",
    "* 时间复杂度：O(N)O(N)，其中 NN 是数组中的元素数量。对于每一个元素 x，我们可以 O(1)O(1) 地寻找 target - x。\n",
    "\n",
    "* 空间复杂度：O(N)O(N)，其中 NN 是数组中的元素数量。主要为哈希表的开销。\n"
   ],
   "cell_type": "markdown",
   "metadata": {}
  },
  {
   "cell_type": "code",
   "execution_count": 1,
   "metadata": {},
   "outputs": [
    {
     "output_type": "stream",
     "name": "stdout",
     "text": [
      "[3, 7]\n"
     ]
    }
   ],
   "source": [
    "'''方法一'''\n",
    "class Solution(object):\n",
    "    def twoSum(self, nums, target):\n",
    "        \"\"\"\n",
    "        :type nums: List[int] \n",
    "        :type target: int\n",
    "        :rtype: List[int]\n",
    "        \"\"\"\n",
    "        for i in range(len(nums)):\n",
    "            '''暴力法'''\n",
    "            # for j in range(len(nums)):\n",
    "            #     if (nums[i] + nums[j]) == target and i != j:\n",
    "            #         return [i, j]\n",
    "            '''利用python特性'''\n",
    "            if (target-nums[i]) in nums:\n",
    "                for j in range(i+1, len(nums)):\n",
    "                    if target-nums[i]==nums[j]:\n",
    "                        return [i, j]\n",
    "        return []\n",
    "'''方法二'''\n",
    "class Solution(object):\n",
    "    def twoSum(self, nums, target):\n",
    "        \"\"\"\n",
    "        :type nums: List[int]\n",
    "        :type target: int\n",
    "        :rtype: List[int]\n",
    "        \"\"\"\n",
    "        '''哈希表法'''\n",
    "        hashtable = dict()\n",
    "        for i, num in enumerate(nums):\n",
    "            if target-num in hashtable:\n",
    "                return [hashtable[target-num], i]\n",
    "            hashtable[num] = i           \n",
    "        return []\n",
    "\n",
    "nums = [34, 44, 2, 4, 6, 8, 12, 3]\n",
    "target = 7\n",
    "\n",
    "sol = Solution()\n",
    "print(sol.twoSum(nums, target))"
   ]
  },
  {
   "source": [
    "# 15. 三数之和\n",
    "给你一个包含 n 个整数的数组 nums，判断 nums 中是否存在三个元素 a，b，c ，使得 a + b + c = 0 ？请你找出所有和为 0 且不重复的三元组。注意：答案中不可以包含重复的三元组。\n",
    "\n",
    "# 18. 四数之和\n",
    "\n",
    "给定一个包含n个整数的数组nums和一个目标值target，判断nums中是否存在四个元素a，b，c 和 d ，使得 a + b + c + d 的值与 target 相等？找出所有满足条件且不重复的四元组。\n",
    "\n",
    "注意：答案中不可以包含重复的四元组。\n"
   ],
   "cell_type": "markdown",
   "metadata": {}
  },
  {
   "cell_type": "code",
   "execution_count": 14,
   "metadata": {},
   "outputs": [
    {
     "output_type": "stream",
     "name": "stdout",
     "text": [
      "四数之和: [[-3, -2, 2, 3], [-3, -1, 1, 3], [-3, 0, 0, 3], [-3, 0, 1, 2], [-2, -1, 0, 3], [-2, -1, 1, 2], [-2, 0, 0, 2], [-1, 0, 0, 1]]\n3\n1 2\n三数之和: [[0, 0, 0]]\n"
     ]
    }
   ],
   "source": [
    "class Solution(object):\n",
    "    def threeSum(self, nums):\n",
    "        '''\n",
    "        固定一位数,双指针搜索剩余两位'''\n",
    "        target = 0\n",
    "        n = len(nums)\n",
    "        if n < 3: return []\n",
    "        print(n)\n",
    "        res = []\n",
    "        nums.sort()\n",
    "        for i in range(0, n-2):\n",
    "            if i>0 and nums[i] == nums[i-1]: continue # 如果重复则进行跳过\n",
    "            left = i+1\n",
    "            right = n-1\n",
    "            while left<right:\n",
    "                print(left,right)\n",
    "                sum = nums[i] + nums[left] + nums[right]\n",
    "                if sum>target: right -= 1\n",
    "                elif sum<target: left += 1\n",
    "                else: \n",
    "                    res.append([nums[i], nums[left], nums[right]])\n",
    "                    while left<right and nums[left] == nums[left+1]: left += 1\n",
    "                    while left<right and nums[right] == nums[right-1]: right -= 1\n",
    "                    left += 1\n",
    "                    right -= 1\n",
    "        return res\n",
    "\n",
    "    def fourSum(self, nums, target):\n",
    "        \"\"\"\n",
    "        :type nums: List[int]\n",
    "        :type target: int\n",
    "        :rtype: List[List[int]]\n",
    "        \"\"\"\n",
    "        ''''方法一(参照官方Java):\n",
    "        固定两位数,搜索剩余两位'''\n",
    "        n = len(nums)\n",
    "        if n < 4: return []\n",
    "        res = []\n",
    "        nums.sort()\n",
    "        for i in range(0, n-3):\n",
    "            if i>0 and nums[i] == nums[i-1]: continue # 如果重复则进行跳过\n",
    "            for j in range(i+1, n-2):\n",
    "                if j>i+1 and nums[j] == nums[j-1]: continue # 如果重复则进行跳过\n",
    "                part_sum = nums[i] + nums[j]\n",
    "                left = j+1\n",
    "                right = n-1\n",
    "                while left<right:\n",
    "                    sum = part_sum + nums[left] + nums[right]\n",
    "                    if sum>target: right -= 1\n",
    "                    elif sum<target: left += 1\n",
    "                    else: \n",
    "                        res.append([nums[i], nums[j], nums[left], nums[right]])\n",
    "                        # break\n",
    "                        while left<right and nums[left] == nums[left+1]: left += 1\n",
    "                        while left<right and nums[right] == nums[right-1]: right -= 1\n",
    "                        left += 1\n",
    "                        right -= 1\n",
    "        return res \n",
    "\n",
    "nums = [1,0,-1,0,-2,2]\n",
    "target = 0\n",
    "'''第一次提交的时候在'res.append'之后直接break,但其实忽略了很多之间的内容,不可取'''\n",
    "nums = [-3,-2,-1,0,0,1,2,3]\n",
    "target = 0\n",
    "sol = Solution()\n",
    "print(\"四数之和:\", sol.fourSum(nums, target))\n",
    "print(\"三数之和:\", sol.threeSum([0,0,0]))"
   ]
  },
  {
   "source": [
    "# 16. 最接近的三数之和\n",
    "给定一个包括 n 个整数的数组 nums 和 一个目标值 target。找出 nums 中的三个整数，使得它们的和与 target 最接近。返回这三个数的和。假定每组输入只存在唯一答案。\n"
   ],
   "cell_type": "markdown",
   "metadata": {}
  },
  {
   "cell_type": "code",
   "execution_count": 58,
   "metadata": {},
   "outputs": [
    {
     "output_type": "stream",
     "name": "stdout",
     "text": [
      "3\n"
     ]
    }
   ],
   "source": [
    "class Solution(object):\n",
    "    def threeSumClosest(self, nums, target):\n",
    "        \"\"\"\n",
    "        :type nums: List[int]\n",
    "        :type target: int\n",
    "        :rtype: int\n",
    "        \"\"\"\n",
    "        '''(self)'''\n",
    "        # nums.sort()\n",
    "        # n = len(nums)\n",
    "        # res = 10**4\n",
    "        # for i in range(n-2):\n",
    "        #     if i>0 and nums[i] == nums[i-1]: continue\n",
    "        #     left = i+1\n",
    "        #     right = n-1\n",
    "        #     while left<right:\n",
    "        #         sum = nums[i] + nums[left] + nums[right]\n",
    "        #         if abs(sum-target) < abs(res-target): \n",
    "        #             res = sum\n",
    "        #         if sum < target: \n",
    "        #             left += 1\n",
    "        #             while left<right and nums[left] == nums[left-1]: left += 1\n",
    "        #         else: \n",
    "        #             right -= 1\n",
    "        #             while left<right and nums[right] == nums[right+1]: right -= 1\n",
    "        # return res\n",
    "        '''官方:时间空间复杂度表现都比我的好'''\n",
    "        nums.sort()\n",
    "        n = len(nums)\n",
    "        best = 10**7    \n",
    "        # 枚举 a\n",
    "        for i in range(n):\n",
    "            # 保证和上一次枚举的元素不相等\n",
    "            if i > 0 and nums[i] == nums[i - 1]: continue\n",
    "            # 使用双指针枚举 b 和 c\n",
    "            j, k = i + 1, n - 1\n",
    "            while j < k:\n",
    "                s = nums[i] + nums[j] + nums[k]\n",
    "                # 如果和为 target 直接返回答案\n",
    "                if s == target: return target\n",
    "                if abs(s - target) < abs(best - target): best = s\n",
    "                if s > target:\n",
    "                    # 如果和大于 target，移动 c 对应的指针\n",
    "                    k0 = k - 1\n",
    "                    # 移动到下一个不相等的元素\n",
    "                    while j < k0 and nums[k0] == nums[k]:\n",
    "                        k0 -= 1\n",
    "                    k = k0\n",
    "                else:\n",
    "                    # 如果和小于 target，移动 b 对应的指针\n",
    "                    j0 = j + 1\n",
    "                    # 移动到下一个不相等的元素\n",
    "                    while j0 < k and nums[j0] == nums[j]:\n",
    "                        j0 += 1\n",
    "                    j = j0\n",
    "        return best\n",
    "\n",
    "nums = [0,2,1,-3]\n",
    "nums = [1,1,-1]\n",
    "nums = [1,1,1,1]\n",
    "target = 1\n",
    "sol = Solution()\n",
    "print(sol.threeSumClosest(nums, target))"
   ]
  },
  {
   "source": [
    "# 2.盛最多水的容器\n",
    "\n",
    "## 双指针\n",
    "\n",
    "直觉告诉我们，应该移动对应数字较小的那个指针（即此时的左指针）。这是因为，由于容纳的水量是由\n",
    "\n",
    "```两个指针指向的数字中较小值 * 指针之间的距离```\n",
    "\n",
    "决定的。如果我们移动数字较大的那个指针，那么前者「两个指针指向的数字中较小值」不会增加，后者「指针之间的距离」会减小，那么这个乘积会减小。因此，我们移动数字较大的那个指针是不合理的。因此，我们移动 数字较小的那个指针。\n",
    "\n",
    "[证明](https://leetcode-cn.com/problems/container-with-most-water/solution/sheng-zui-duo-shui-de-rong-qi-by-leetcode-solution/)\n"
   ],
   "cell_type": "markdown",
   "metadata": {}
  },
  {
   "cell_type": "code",
   "execution_count": 24,
   "metadata": {},
   "outputs": [
    {
     "output_type": "stream",
     "name": "stdout",
     "text": [
      "92\n"
     ]
    }
   ],
   "source": [
    "# 暴力循环\n",
    "class Solution(object):\n",
    "    def maxArea(self, height):\n",
    "        \"\"\"\n",
    "        :type height: List[int]\n",
    "        :rtype: int\n",
    "        \"\"\"\n",
    "        length = len(height)\n",
    "        max = 0\n",
    "        for i in range(length-1):\n",
    "            for j in range(i+1, length):\n",
    "                if self.cal(i, j, height) > max:\n",
    "                    max = self.cal(i, j, height)\n",
    "        return max\n",
    "\n",
    "    def cal(self, i, j, height):\n",
    "        return abs(i-j)*min(height[i], height[j])\n",
    "\n",
    "# 双指针\n",
    "class Solution(object):\n",
    "    def maxArea(self, height):\n",
    "        \"\"\"\n",
    "        :type height: List[int]\n",
    "        :rtype: int\n",
    "        \"\"\"\n",
    "        n = len(height)\n",
    "        ans = 0\n",
    "        i, j = 0, n-1\n",
    "        while i is not j:\n",
    "            ans = max(ans, self.cal(i, j, height))\n",
    "            if height[i] < height[j]:\n",
    "                i = i+1\n",
    "            else:\n",
    "                j = j-1\n",
    "        return ans\n",
    "\n",
    "    def cal(self, i, j, height):\n",
    "        return (j-i)*min(height[i], height[j])\n",
    "\n",
    "sol = Solution()\n",
    "height = [1,23,2,5,25,24,5]\n",
    "print(sol.maxArea(height))"
   ]
  },
  {
   "source": [
    "# 42. [接雨水](https://leetcode-cn.com/problems/trapping-rain-water/solution/jie-yu-shui-by-leetcode-solution-tuvc/)\n",
    "给定 n 个非负整数表示每个宽度为 1 的柱子的高度图，计算按此排列的柱子，下雨之后能接多少雨水。\n",
    "![](https://assets.leetcode-cn.com/aliyun-lc-upload/uploads/2018/10/22/rainwatertrap.png)\n",
    "\n",
    "## 个人思路:\n",
    "寻找联通的部分,在分别计算各个联通部分的雨水量.联通部分必须从两边开始找,找到边缘局部最大的那个值,再依次向里找\n",
    "## 官方思路:\n",
    "对于下标i，下雨后水能到达的最大高度等于下标i两边的最大高度的最小值，下标i处能接的雨水量等于下标i处的水能到达的最大高度减去height\\[i]。"
   ],
   "cell_type": "markdown",
   "metadata": {}
  },
  {
   "cell_type": "code",
   "execution_count": 17,
   "metadata": {},
   "outputs": [
    {
     "output_type": "stream",
     "name": "stdout",
     "text": [
      "每个下标的左边最大值和右边最大值: [0, 1, 1, 2, 2, 2, 2, 3, 3, 3, 3, 3] [3, 3, 3, 3, 3, 3, 3, 3, 2, 2, 2, 1]\n6\n"
     ]
    }
   ],
   "source": [
    "class Solution(object):\n",
    "    def trap(self, height):\n",
    "        \"\"\"\n",
    "        :type height: List[int]\n",
    "        :rtype: int\n",
    "        \"\"\"\n",
    "        '''方法一(self):'''\n",
    "        # n = len(height)\n",
    "        # if n<3: return 0\n",
    "        # res = 0\n",
    "        # p = start = 0\n",
    "        # while p<n:\n",
    "        #     if height[p]>height[p+1]: # 找到开始点\n",
    "        #         start = p\n",
    "        #         print(\"start:\", start)\n",
    "        #         while p<n-1:\n",
    "        #             if height[p] >= height[start]:\n",
    "        #                 print(p)\n",
    "        #                 h = min(height[start], height[p])\n",
    "        #                 # 计算水量\n",
    "        #                 for i in range(start+1, p):\n",
    "        #                     res += h-height[i]\n",
    "        #                     print(\"res:\", res)\n",
    "        #                 break\n",
    "        #             p += 1\n",
    "        #     p += 1\n",
    "        # return res\n",
    "        '''方法二(官方):动态规划\n",
    "        时间复杂度:O(n) 空间复杂度:O(n)\n",
    "        '''\n",
    "        if not height: return 0\n",
    "        n = len(height)\n",
    "        leftMax = [height[0]] + [0] * (n - 1)\n",
    "        for i in range(1, n): leftMax[i] = max(leftMax[i - 1], height[i])\n",
    "        rightMax = [0] * (n - 1) + [height[n - 1]]\n",
    "        for i in range(n - 2, -1, -1): rightMax[i] = max(rightMax[i + 1], height[i])\n",
    "        print(\"每个下标的左边最大值和右边最大值:\", leftMax, rightMax)\n",
    "        ans = sum(min(leftMax[i], rightMax[i]) - height[i] for i in range(n))\n",
    "        return ans\n",
    "        '''方法三(官方):单调栈\n",
    "        '''\n",
    "        ans = 0\n",
    "        stack = list()\n",
    "        n = len(height)\n",
    "        for i, h in enumerate(height):\n",
    "            while stack and h > height[stack[-1]]:\n",
    "                top = stack.pop()\n",
    "                if not stack: break\n",
    "                left = stack[-1]\n",
    "                currWidth = i - left - 1\n",
    "                currHeight = min(height[left], height[i]) - height[top]\n",
    "                ans += currWidth * currHeight\n",
    "            stack.append(i)\n",
    "        return ans\n",
    "        '''方法三：双指针'''\n",
    "        ans = 0\n",
    "        left, right = 0, len(height) - 1\n",
    "        leftMax = rightMax = 0\n",
    "        while left < right:\n",
    "            leftMax = max(leftMax, height[left])\n",
    "            rightMax = max(rightMax, height[right])\n",
    "            if height[left] < height[right]:\n",
    "                ans += leftMax - height[left]\n",
    "                left += 1\n",
    "            else:\n",
    "                ans += rightMax - height[right]\n",
    "                right -= 1\n",
    "        \n",
    "        return ans\n",
    "\n",
    "height = [0,1,0,2,1,0,1,3,2,1,2,1]\n",
    "sol = Solution()\n",
    "print(sol.trap(height))"
   ]
  },
  {
   "source": [
    "# 238. 除自身以外数组的乘积\n",
    "给你一个长度为 n 的整数数组 nums，其中 n > 1，返回输出数组 output ，其中 output\\[i] 等于 nums 中除 nums\\[i] 之外其余各元素的乘积。\n",
    "\n",
    "提示：题目数据保证数组之中任意元素的全部前缀元素和后缀（甚至是整个数组）的乘积都在 32 位整数范围内。\n",
    "\n",
    "说明: 请不要使用除法，且在 O(n) 时间复杂度内完成此题。"
   ],
   "cell_type": "markdown",
   "metadata": {}
  },
  {
   "cell_type": "code",
   "execution_count": 19,
   "metadata": {},
   "outputs": [
    {
     "output_type": "stream",
     "name": "stdout",
     "text": [
      "[24, 12, 8, 6]\n"
     ]
    }
   ],
   "source": [
    "class Solution(object):\n",
    "    def productExceptSelf(self, nums):\n",
    "        \"\"\"\n",
    "        :type nums: List[int]\n",
    "        :rtype: List[int]\n",
    "        \"\"\"\n",
    "        '''方法一：左右乘积列表\n",
    "        我们不必将所有数字的乘积除以给定索引处的数字得到相应的答案，\n",
    "        而是利用索引左侧所有数字的乘积和右侧所有数字的乘积（即前缀与后缀）相乘得到答案。\\\n",
    "        '''\n",
    "        if not nums: return []\n",
    "        n = len(nums)\n",
    "        res = [0]*n\n",
    "        L = [1]+[0]*(n-1)\n",
    "        R = [0]*(n-1)+[1]\n",
    "        for i in range(1,n): L[i] = L[i-1]*nums[i-1]\n",
    "        for i in range(n-2,-1,-1): R[i] = R[i+1]*nums[i+1]\n",
    "        for i in range(n): res[i] = L[i] * R[i]\n",
    "        return res\n",
    "        '''方法二(官方):空间复杂度为1(输出数组不算进空间复杂度中)'''\n",
    "        length = len(nums)\n",
    "        answer = [0]*length # answer[i] 表示索引 i 左侧所有元素的乘积\n",
    "        answer[0] = 1 # 因为索引为 '0' 的元素左侧没有元素， 所以 answer[0] = 1\n",
    "        for i in range(1, length): answer[i] = nums[i - 1] * answer[i - 1]\n",
    "        R = 1 # R 为右侧所有元素的乘积，刚开始右边没有元素，所以 R = 1\n",
    "        for i in reversed(range(length)):\n",
    "            answer[i] = answer[i] * R # 对于索引 i，左边的乘积为 answer[i]，右边的乘积为 R\n",
    "            R *= nums[i] # R 需要包含右边所有的乘积，所以计算下一个结果时需要将当前值乘到 R 上\n",
    "        return answer\n",
    "\n",
    "\n",
    "nums = [1,2,3,4]\n",
    "sol = Solution()\n",
    "print(sol.productExceptSelf(nums))"
   ]
  },
  {
   "source": [
    "# [删除有序数组中的重复项](https://leetcode-cn.com/problems/remove-duplicates-from-sorted-array/)\n",
    "\n",
    "## 题目描述:\n",
    "\n",
    "给你一个有序数组 nums ，请你原地删除重复出现的元素，使每个元素只出现一次 ，返回删除后数组的新长度。不要使用额外的数组空间，你必须在原地修改输入数组 并在使用 O(1) 额外空间的条件下完成。\n",
    "\n",
    "## 原地算法:\n",
    "> 原地算法:（in-place algorithm）是一种使用小的，固定数量的额外之空间来转换资料的算法。当算法执行时，输入的资料通常会被要输出的部分覆盖掉。\n",
    "\n",
    "## 双指针"
   ],
   "cell_type": "markdown",
   "metadata": {}
  },
  {
   "cell_type": "code",
   "execution_count": 98,
   "metadata": {},
   "outputs": [
    {
     "output_type": "stream",
     "name": "stdout",
     "text": [
      "(6, [0, 1, 2, 3, 4, 5])\n"
     ]
    }
   ],
   "source": [
    "class Solution(object):\n",
    "    def removeDuplicates(self, nums):\n",
    "        \"\"\"\n",
    "        :type nums: List[int]\n",
    "        :rtype: int\n",
    "        \"\"\"\n",
    "        if len(nums) == 0:\n",
    "            return 0\n",
    "        '''方法一:难度就是随着元素的移除索引会变化,例如[1,1,1,1,1]就不行'''\n",
    "        # for num in nums:\n",
    "        #     if nums.count(num) > 1:\n",
    "        #         nums.remove(num)\n",
    "\n",
    "        # return len(nums)\n",
    "        '''方法二:就是用一些内置函数,时间复杂度高,并且有限制'''\n",
    "        # i = 0\n",
    "        # while i < len(nums):\n",
    "        #     if nums.count(nums[i]) > 1:\n",
    "        #         nums.remove(nums[i]) # 难度就是随着元素的移除索引会变化\n",
    "        #     else:\n",
    "        #         i = i+1\n",
    "        # return len(nums)\n",
    "        '''方法三:双指针(我特么看错了,这是删除有序数组的重复项,我是删除无序数组的重复项)'''\n",
    "        # n = len(nums)\n",
    "        # fast = slow = 1\n",
    "        # while fast < n:\n",
    "        #     if nums[fast] != nums[fast - 1]:\n",
    "        #         nums[slow] = nums[fast]\n",
    "        #         slow += 1\n",
    "        #     fast += 1\n",
    "        # return slow\n",
    "        '''方法四:我尝试用这种方法求解(结果是这种方法相对于方法三较慢一些,why?难道是while循环比for循环快吗?)'''\n",
    "        ans = 1\n",
    "        for i in range(1,len(nums)):\n",
    "            if nums[i] != nums[i-1]:\n",
    "                nums[ans] = nums[i]\n",
    "                ans += 1\n",
    "            \n",
    "        return ans, nums[0:ans]\n",
    "\n",
    "sol = Solution()\n",
    "# nums = [0,2,3,1,2,4,5,3,5,7]\n",
    "nums = [0,0,1,2,3,3,3,4,5,5]\n",
    "# nums = [1,1,1,1,1,1,1,1,1,1]\n",
    "print(sol.removeDuplicates(nums))"
   ]
  },
  {
   "source": [
    "# 总结:一定考虑边界条件,变量命名不要用关键字!!!\n",
    "一般而言,for-in循环比while循环效率稍低。[链接](https://blog.csdn.net/Vector97/article/details/90136777)"
   ],
   "cell_type": "markdown",
   "metadata": {}
  },
  {
   "source": [
    "# 717. [1比特与2比特字符](https://leetcode-cn.com/problems/1-bit-and-2-bit-characters)\n",
    "\n",
    "有两种特殊字符。第一种字符可以用一比特0来表示。第二种字符可以用两比特(10 或 11)来表示。\n",
    "\n",
    "现给一个由若干比特组成的字符串。问最后一个字符是否必定为一个一比特字符。给定的字符串总是由0结束。\n",
    "\n"
   ],
   "cell_type": "markdown",
   "metadata": {}
  },
  {
   "source": [
    "这道题目我没思路\n",
    "## 方法一：线性扫描\n",
    "我们可以对 $\\mathrm{bits}$数组从左到右扫描来判断最后一位是否为一比特字符。当扫描到第i位时，如果 bits[i]=1，那么说明这是一个两比特字符，将i的值增加2。如果bits[i]=0，那么说明这是一个一比特字符，将i的值增加 1。\n",
    "\n",
    "### 复杂度分析\n",
    "\n",
    "* 时间复杂度：O(n)，其中n是bits数组的长度。\n",
    "* 空间复杂度：O(1)。\n",
    "\n",
    "## 方法二：贪心\n",
    "三种字符分别为 0，10 和 11，那么 $bits$ 数组中出现的所有 0 都表示一个字符的结束位置（无论其为一比特还是两比特）。因此最后一位是否为一比特字符，只和他**左侧出现的连续的 1 的个数（即它与倒数第二个 0 出现的位置之间的 1 的个数**，如果 $bits$ 数组中只有 1 个 0，那么就是整个数组的长度减一）有关。如果 1 的个数为偶数个，那么最后一位是一比特字符，如果 1 的个数为奇数个，那么最后一位不是一比特字符。\n",
    "\n",
    "### 复杂度分析\n",
    "\n",
    "* 时间复杂度：O(n)，其中N是bits数组的长度。\n",
    "* 空间复杂度：O(1)。\n"
   ],
   "cell_type": "markdown",
   "metadata": {}
  },
  {
   "cell_type": "code",
   "execution_count": 1,
   "metadata": {},
   "outputs": [
    {
     "output_type": "stream",
     "name": "stdout",
     "text": [
      "['1', '1', '1', '0']\nFalse\n"
     ]
    }
   ],
   "source": [
    "class Solution(object):\n",
    "    def isOneBitCharacter(self, bits):\n",
    "        \"\"\"\n",
    "        :type bits: List[int]\n",
    "        :rtype: bool\n",
    "        \"\"\"\n",
    "        '''线性扫描一:这种方法容易超出时间限制'''\n",
    "        i = 0\n",
    "        while i < len(bits):\n",
    "            if i == len(bits)-1:\n",
    "                return True\n",
    "            if bits[i] == '1':\n",
    "                i += 2\n",
    "            elif bits[i] == '0':\n",
    "                i += 1\n",
    "        return False\n",
    "        '''线性扫描二(官方)'''\n",
    "        # i = 0\n",
    "        # while i < len(bits) - 1:\n",
    "        #     i += bits[i] + 1\n",
    "        # return i == len(bits) - 1\n",
    "        '''贪心算法一(官方)'''\n",
    "        '''如果 1 的个数为偶数个，那么最后一位是一比特字符，\n",
    "        如果 1 的个数为奇数个，那么最后一位不是一比特字符。'''\n",
    "        # parity = bits.pop()\n",
    "        # while bits and bits.pop(): parity ^= 1 # 亦或(相同为0)\n",
    "        # return parity == 0\n",
    "        '''贪心算法二(self)'''\n",
    "        node = len(bits)-2\n",
    "        while node>-1 and bits[node]==1:\n",
    "            node -= 1\n",
    "        return (len(bits)-node)%2 == 0\n",
    "            \n",
    "sol = Solution()\n",
    "bits = \"1110\"\n",
    "bits = list(bits)\n",
    "print(bits)\n",
    "print(sol.isOneBitCharacter(bits))"
   ]
  },
  {
   "source": [
    "## 总结:关键在于思路,方法一的思路是从头到尾遇0加一,遇1加二直到最后。方法二思路是看最后一个零与倒数第二个零之间1的个数"
   ],
   "cell_type": "markdown",
   "metadata": {}
  },
  {
   "source": [
    "# 其他题:求数组中没有出现的数\n",
    "一个大小为n的数组中包含有从0到n的整数(顺序不定,可包含重复数),问这个数组中没有出现的数为:"
   ],
   "cell_type": "markdown",
   "metadata": {}
  },
  {
   "cell_type": "code",
   "execution_count": 2,
   "metadata": {},
   "outputs": [
    {
     "output_type": "stream",
     "name": "stdout",
     "text": [
      "[3, 1, 5, -2, 5, 4, 7, 4, 3, 2]\n[3, -1, 5, -2, 5, 4, 7, 4, 3, 2]\n[3, -1, 5, -2, 5, -4, 7, 4, 3, 2]\n[3, -1, -5, -2, 5, -4, 7, 4, 3, 2]\n[3, -1, -5, -2, 5, -4, 7, 4, 3, 2]\n[3, -1, -5, -2, -5, -4, 7, 4, 3, 2]\n[3, -1, -5, -2, -5, -4, 7, -4, 3, 2]\n[3, -1, -5, -2, -5, -4, 7, -4, 3, 2]\n[3, -1, -5, -2, -5, -4, 7, -4, 3, 2]\n[3, -1, -5, -2, -5, -4, 7, -4, 3, 2]\n[0, 6, 8, 9]\n"
     ]
    }
   ],
   "source": [
    "class Solution:\n",
    "    def find_num(self, array):\n",
    "        '''方法一(self):遍历法\n",
    "        时间复杂度:O(n) 空间复杂度:O(n)\n",
    "        '''\n",
    "        # ans = []\n",
    "        # l = [0]*len(array)\n",
    "        # for a in array:\n",
    "        #     l[a] += 1\n",
    "        # for i in range(len(l)):\n",
    "        #     if l[i] == 0:\n",
    "        #         ans.append(i)\n",
    "        # return ans\n",
    "        '''方法二(书本):这种也是遍历法,但是非常巧妙地使用了变为负数这种方法,\n",
    "        减小了空间占用(但实际上空间复杂度不变)'''\n",
    "        ans = []\n",
    "        for a in array:\n",
    "            pos = abs(a)\n",
    "            if array[pos] > 0: \n",
    "                # 如果大于0,证明此前没有变化过,如果小于0证明变化过就不用再变了\n",
    "                array[pos] = -array[pos]\n",
    "            print(array)\n",
    "        for i in range(len(array)):\n",
    "            if array[i] > 0:\n",
    "                ans.append(i)\n",
    "        return ans\n",
    "\n",
    "array = [3,1,5,2,5,4,7,4,3,2]\n",
    "sol = Solution()\n",
    "print(sol.find_num(array))\n"
   ]
  },
  {
   "cell_type": "code",
   "execution_count": null,
   "metadata": {},
   "outputs": [],
   "source": []
  }
 ]
}