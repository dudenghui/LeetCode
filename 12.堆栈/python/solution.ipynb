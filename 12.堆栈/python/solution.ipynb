{
 "metadata": {
  "language_info": {
   "codemirror_mode": {
    "name": "ipython",
    "version": 3
   },
   "file_extension": ".py",
   "mimetype": "text/x-python",
   "name": "python",
   "nbconvert_exporter": "python",
   "pygments_lexer": "ipython3",
   "version": "3.7.3-final"
  },
  "orig_nbformat": 2,
  "kernelspec": {
   "name": "python3",
   "display_name": "Python 3",
   "language": "python"
  }
 },
 "nbformat": 4,
 "nbformat_minor": 2,
 "cells": [
  {
   "source": [
    "# [栈](https://leetcode-cn.com/leetbook/detail/queue-stack/?utm_campaign=leetbook&utm_medium=%E9%A2%98%E5%BA%93&utm_source=leetcode-cn&utm_term=%E9%A2%98%E5%BA%93%E9%A1%B5%E6%A0%87%E7%AD%BE&gio_link_id=Y9J3KmaR)\n",
    "\n",
    "栈（Stack）又名堆栈，它是一种重要的数据结构。从数据结构角度看，栈也是线性表，其特殊性在于栈的基本操作是线性表操作的子集，它是操作受限的线性表，因此，可称为限定性的数据结构。限定它仅在表尾进行插入或删除操作。表尾称为栈顶，相应地，表头称为栈底。栈的基本操作除了在栈顶进行插入和删除外，还有栈的初始化，判空以及取栈顶元素等。\n",
    "\n"
   ],
   "cell_type": "markdown",
   "metadata": {}
  },
  {
   "source": [
    "## 1021 Delete parentheses\n",
    "\n",
    "删除最外边的括号"
   ],
   "cell_type": "markdown",
   "metadata": {}
  },
  {
   "cell_type": "code",
   "execution_count": 117,
   "metadata": {},
   "outputs": [],
   "source": [
    "class Solution:\r\n",
    "    def removeOuterParentheses(self, S):\r\n",
    "        stack = []\r\n",
    "        result = ''\r\n",
    "        for i in S:\r\n",
    "            if i == '(':\r\n",
    "                stack.append(i)\r\n",
    "                if len(stack) > 1: # 入栈且栈的长度大于1，不需要去掉\r\n",
    "                    result += '('\r\n",
    "            else:\r\n",
    "                stack.pop()\r\n",
    "                if len(stack) != 0: # 出栈且栈的长度不等于0，不需要去掉\r\n",
    "                    result += ')'\r\n",
    "        return result"
   ]
  },
  {
   "cell_type": "code",
   "execution_count": 118,
   "metadata": {},
   "outputs": [],
   "source": [
    "class Solution:\n",
    "    def removeOuterParentheses(self, S):\n",
    "        result = ''\n",
    "        level =0\n",
    "\n",
    "        for c in S:\n",
    "            if c == ')':\n",
    "                level -= 1\n",
    "            if (level >= 1):\n",
    "                result += c\n",
    "            if c == '(':\n",
    "                level += 1\n",
    "\n",
    "        return result"
   ]
  },
  {
   "cell_type": "code",
   "execution_count": 119,
   "metadata": {},
   "outputs": [
    {
     "output_type": "stream",
     "name": "stdout",
     "text": [
      "()()()\n"
     ]
    }
   ],
   "source": [
    "S = \"(()())(())\"\n",
    "sol = Solution()\n",
    "print(sol.removeOuterParentheses(S))"
   ]
  },
  {
   "source": [
    "## 20 有效的括号\n",
    "\n",
    "给定一个只包括 '('，')'，'{'，'}'，'['，']' 的字符串，判断字符串是否有效。\n",
    "\n",
    "有效字符串需满足：\n",
    "\n",
    "* 左括号必须用相同类型的右括号闭合。\n",
    "* 左括号必须以正确的顺序闭合。\n",
    "* 注意空字符串可被认为是有效字符串。\n",
    "\n",
    "https://leetcode-cn.com/problems/valid-parentheses\n",
    "\n"
   ],
   "cell_type": "markdown",
   "metadata": {}
  },
  {
   "cell_type": "code",
   "execution_count": 120,
   "metadata": {},
   "outputs": [],
   "source": [
    "class Solution(object):\n",
    "    def isValid(self, s):\n",
    "        \"\"\"\n",
    "        :type s: str\n",
    "        :rtype: bool\n",
    "        \"\"\"\n",
    "        stack = []\n",
    "        for i,c in enumerate(s):\n",
    "            if c == '(' or c == '[' or c == '{':\n",
    "                stack.append(c)\n",
    "            else:\n",
    "                if (c == ')' and stack[-1] =='(') or (c == ']' and stack[-1] =='[') or (c == '}' and stack[-1] =='{'):\n",
    "                    stack.pop()\n",
    "                else:\n",
    "                    return False\n",
    "        return True"
   ]
  },
  {
   "cell_type": "code",
   "execution_count": 121,
   "metadata": {},
   "outputs": [
    {
     "output_type": "stream",
     "name": "stdout",
     "text": [
      "False\n"
     ]
    }
   ],
   "source": [
    "string = '{(){}]}'\n",
    "sol = Solution()\n",
    "print(sol.isValid(string))"
   ]
  },
  {
   "source": [
    "但是如果string为''或者'(('等时候就不对了"
   ],
   "cell_type": "markdown",
   "metadata": {}
  },
  {
   "cell_type": "code",
   "execution_count": 122,
   "metadata": {},
   "outputs": [],
   "source": [
    "class Solution(object):\n",
    "    def isValid(self, s):\n",
    "        \"\"\"\n",
    "        :type s: str\n",
    "        :rtype: bool\n",
    "        \"\"\"\n",
    "        stack = []\n",
    "        \n",
    "        for i,c in enumerate(s):\n",
    "            if c == '(' or c == '[' or c == '{':\n",
    "                stack.append(c)\n",
    "            else:\n",
    "                if (c == ')' and stack[-1] =='(') or (c == ']' and stack[-1] =='[') or (c == '}' and stack[-1] =='{'):\n",
    "                    stack.pop()\n",
    "                else:\n",
    "                    return False\n",
    "        if len(stack) == 0:\n",
    "            return True\n",
    "        else:\n",
    "            return False\n",
    "        "
   ]
  },
  {
   "cell_type": "code",
   "execution_count": 123,
   "metadata": {},
   "outputs": [
    {
     "output_type": "stream",
     "name": "stdout",
     "text": [
      "False\n"
     ]
    }
   ],
   "source": [
    "string = '(])'\n",
    "sol = Solution()\n",
    "print(sol.isValid(string))"
   ]
  },
  {
   "source": [
    "但是这样应付不来'}'这样的情况，因此再改"
   ],
   "cell_type": "markdown",
   "metadata": {}
  },
  {
   "cell_type": "code",
   "execution_count": 125,
   "metadata": {},
   "outputs": [
    {
     "output_type": "stream",
     "name": "stdout",
     "text": [
      "False\n"
     ]
    }
   ],
   "source": [
    "class Solution(object):\n",
    "    def isValid(self, s):\n",
    "        \"\"\"\n",
    "        :type s: str\n",
    "        :rtype: bool\n",
    "        \"\"\"\n",
    "        stack = []\n",
    "        for i,c in enumerate(s):\n",
    "            if c == '(' or c == '[' or c == '{':\n",
    "                stack.append(c)\n",
    "            elif len(stack) > 0:\n",
    "                if (c == ')' and stack[-1] =='(') or (c == ']' and stack[-1] =='[') or (c == '}' and stack[-1] =='{'):\n",
    "                    stack.pop()\n",
    "                else:\n",
    "                    return False\n",
    "            else:\n",
    "                return False\n",
    "        if len(stack) == 0:\n",
    "            return True\n",
    "        else:\n",
    "            return False\n",
    "\n",
    "string = ')'\n",
    "sol = Solution()\n",
    "print(sol.isValid(string))"
   ]
  },
  {
   "source": [
    "### 在写代码的时候，考虑的情况尽可能多，想的尽量周到\n",
    "\n",
    "### 接下来就看一下别人的代码"
   ],
   "cell_type": "markdown",
   "metadata": {}
  },
  {
   "cell_type": "code",
   "execution_count": 126,
   "metadata": {},
   "outputs": [
    {
     "output_type": "stream",
     "name": "stdout",
     "text": [
      "False\n"
     ]
    }
   ],
   "source": [
    "# 这个思路很牛皮呀，感觉这个题有点被它的标签 栈 给困住思路了，其实在写的时候意识到了最里边肯定是一对括号，但我的想法就是一个一个遍历，通过判断删除，而不是通过这样的方法\n",
    "class Solution:\n",
    "    def isValid(self, s):\n",
    "        while '{}' in s or '()' in s or '[]' in s:\n",
    "            s = s.replace('{}', '')\n",
    "            s = s.replace('[]', '')\n",
    "            s = s.replace('()', '')\n",
    "        return s == ''\n",
    "string = ')'\n",
    "sol = Solution()\n",
    "print(sol.isValid(string))\n",
    "# 但是这个方法在形式上简洁，时间、空间复杂度比较高"
   ]
  },
  {
   "cell_type": "code",
   "execution_count": 172,
   "metadata": {},
   "outputs": [
    {
     "output_type": "stream",
     "name": "stdout",
     "text": [
      "False\n"
     ]
    }
   ],
   "source": [
    "# 另一种思路\n",
    "class Solution(object):\n",
    "    def isValid(self, s):\n",
    "        stack = []\n",
    "        for c in s:\n",
    "            if c == '{':\n",
    "                stack.append('}')\n",
    "            elif c == '[':\n",
    "                stack.append(']')\n",
    "            elif c == '(':\n",
    "                stack.append(')')\n",
    "            elif c == ')' or c == ']' or c == '}':\n",
    "                if len(stack)==0 or c!=stack.pop():\n",
    "                    return False\n",
    "        return len(stack)==0\n",
    "        \n",
    "class Solution:\n",
    "    def isValid(self, s: str) -> bool:\n",
    "        dic = {')':'(',']':'[','}':'{'}\n",
    "        stack = []\n",
    "        for i in s:\n",
    "            if stack and i in dic:\n",
    "                if stack[-1] == dic[i]: stack.pop()\n",
    "                else: return False\n",
    "            else: stack.append(i)\n",
    "            \n",
    "        return not stack\n",
    "\n",
    "string = '}'\n",
    "sol = Solution()\n",
    "print(sol.isValid(string))\n"
   ]
  },
  {
   "source": [
    "## 注意：\n",
    "```\n",
    "a = []\n",
    "if a:\n",
    "    print(\"sss\")\n",
    "```\n",
    "列表可以直接判断是否为空，如果为空，则为False\n",
    "\n",
    "## [Python 判断一个列表是否为空列表](https://blog.csdn.net/coco56/article/details/97916467)\n",
    "\n",
    "方法1（推荐）：在Python中，False,0,’’,[],{},()都视为假，因此可以直接进行逻辑运算。此方法效率最高。\n",
    "\n",
    "方法2：调用len方法，查看元素个数是否为0。此方法效率较低。\n",
    "\n",
    "方法3：让解释器再生成一个空列表，并将这个空列表与list_temp进行比较。此方法效率最低。"
   ],
   "cell_type": "markdown",
   "metadata": {}
  },
  {
   "source": [
    "## 总结：\n",
    "1.这是一个使用栈来解决的经典问题，主要是通过遍历快速找到不合格的情况，如果所有都合格那么才可以判断为合格。\n",
    "\n",
    "针对这样的问题，可以先通过判断不合格的特殊情况快速结束判断，例如可以首先判断字符串是否为奇数如果为奇数那么一定是不合格的\n",
    "\n",
    "2. 栈适合解决的问题，由于栈先进后出的特点，比价适合解决具有时间先后关系的数据\n",
    "\n",
    "![](https://pic.leetcode-cn.com/baa8829ac398e665eb645dca29eadd631e2b337e05022aa5a678e091471a4913-20.gif)"
   ],
   "cell_type": "markdown",
   "metadata": {}
  },
  {
   "cell_type": "code",
   "execution_count": 131,
   "metadata": {},
   "outputs": [
    {
     "output_type": "stream",
     "name": "stdout",
     "text": [
      "False\n"
     ]
    }
   ],
   "source": [
    "# 改进的方法，如果字符串中不只是包含几个括号\n",
    "class Solution(object):\n",
    "    def isValid(self, s):\n",
    "        stack = []\n",
    "        for i,c in enumerate(s):\n",
    "            if c == '(' or c == '[' or c == '{':\n",
    "                stack.append(c)\n",
    "            elif c == ')' or c == ']' or c == '}':\n",
    "                if len(stack) > 0:\n",
    "                    if (c == ')' and stack[-1] =='(') or (c == ']' and stack[-1] =='[') or (c == '}' and stack[-1] =='{'):\n",
    "                        stack.pop()\n",
    "                    else:\n",
    "                        return False\n",
    "                else:\n",
    "                    return False\n",
    "        if len(stack) == 0:\n",
    "            return True\n",
    "        else:\n",
    "            return False\n",
    "\n",
    "string = '(())a{s'\n",
    "sol = Solution()\n",
    "print(sol.isValid(string))"
   ]
  },
  {
   "source": [
    "# 921. 使括号有效的最少添加\n",
    "\n",
    "给定一个由 '(' 和 ')' 括号组成的字符串 S，我们需要添加最少的括号（ '(' 或是 ')'，可以在任何位置），以使得到的括号字符串有效。\n",
    "\n",
    "从形式上讲，只有满足下面几点之一，括号字符串才是有效的：\n",
    "\n",
    "* 它是一个空字符串，或者\n",
    "* 它可以被写成 AB （A 与 B 连接）, 其中 A 和 B 都是有效字符串，或者\n",
    "* 它可以被写作 (A)，其中 A 是有效字符串。\n",
    "\n",
    "给定一个括号字符串，返回为使结果字符串有效而必须添加的最少括号数"
   ],
   "cell_type": "markdown",
   "metadata": {}
  },
  {
   "cell_type": "code",
   "execution_count": 192,
   "metadata": {},
   "outputs": [
    {
     "output_type": "stream",
     "name": "stdout",
     "text": [
      "2\n"
     ]
    }
   ],
   "source": [
    "class Solution(object):\n",
    "    def minAddToMakeValid(self, s):\n",
    "        stack = []\n",
    "        num = 0\n",
    "        for c in s:\n",
    "            if c == '(':\n",
    "                stack.append(')')\n",
    "            else:\n",
    "                if len(stack)==0 or c!=stack[-1]:\n",
    "                    num += 1\n",
    "                else:\n",
    "                    stack.pop()\n",
    "        return num+len(stack)\n",
    "\n",
    "class Solution:\n",
    "    def minAddToMakeValid(self, S: str) -> int:\n",
    "        while '()' in S:\n",
    "            S=S.replace('()','')\n",
    "        return len(S)\n",
    "\n",
    "string = ')('\n",
    "print(Solution().minAddToMakeValid(string))"
   ]
  },
  {
   "cell_type": "code",
   "execution_count": 193,
   "metadata": {},
   "outputs": [
    {
     "output_type": "stream",
     "name": "stdout",
     "text": [
      "2\n"
     ]
    }
   ],
   "source": [
    "# 增加难度，括号的种类增加\n",
    "class Solution(object):\n",
    "    def minAddToMakeValid(self, s):\n",
    "        stack = []\n",
    "        num = 0\n",
    "        for c in s:\n",
    "            if c == '{':\n",
    "                stack.append('}')\n",
    "            elif c == '[':\n",
    "                stack.append(']')\n",
    "            elif c == '(':\n",
    "                stack.append(')')\n",
    "            elif c == ')' or c == ']' or c == '}':\n",
    "                if len(stack)==0 or c!=stack[-1]:\n",
    "                    num += 1\n",
    "                if len(stack)>0:\n",
    "                    if c==stack[-1]:\n",
    "                        stack.pop()\n",
    "        return num+len(stack)\n",
    "\n",
    "string = '}{)}'\n",
    "print(Solution().minAddToMakeValid(string))"
   ]
  },
  {
   "cell_type": "code",
   "execution_count": null,
   "metadata": {},
   "outputs": [],
   "source": []
  }
 ]
}