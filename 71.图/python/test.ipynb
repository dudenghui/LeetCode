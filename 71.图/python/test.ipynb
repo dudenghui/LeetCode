{
 "metadata": {
  "language_info": {
   "codemirror_mode": {
    "name": "ipython",
    "version": 3
   },
   "file_extension": ".py",
   "mimetype": "text/x-python",
   "name": "python",
   "nbconvert_exporter": "python",
   "pygments_lexer": "ipython3",
   "version": "3.7.3"
  },
  "orig_nbformat": 2,
  "kernelspec": {
   "name": "python373jvsc74a57bd0b445a9a934c6138ffaa6e6c504878c62e56d3e974a500d266fd2c1470ca76961",
   "display_name": "Python 3.7.3 64-bit ('base': conda)"
  }
 },
 "nbformat": 4,
 "nbformat_minor": 2,
 "cells": [
  {
   "cell_type": "code",
   "execution_count": null,
   "metadata": {},
   "outputs": [],
   "source": []
  },
  {
   "source": [
    "## 图的表示方法\n",
    "1. 邻接矩阵\n",
    "\n",
    "如图为一个无向图，要用具体的数值表示节点之间的关系，可以使用邻接矩阵，假设这个矩阵是A,Aij就表示第i个节点和第j个节点是否相连，为1表示相连，0表示不相连。\n",
    "\n",
    "<img src=\"https://img-blog.csdn.net/20180307142022725?watermark/2/text/aHR0cDovL2Jsb2cuY3Nkbi5uZXQvcXFfMzk0MjI2NDI=/font/5a6L5L2T/fontsize/400/fill/I0JBQkFCMA==/dissolve/70\" width=50%>\n",
    "\n",
    "2. 邻接表\n",
    "\n",
    "用邻接矩阵来表示，每一行表示一个节点与其他所有节点是否相连，但对于邻接表来说，一行只代表和他相连的节点：\n",
    "\n",
    "<img src=\"https://img-blog.csdn.net/20180307142657760?watermark/2/text/aHR0cDovL2Jsb2cuY3Nkbi5uZXQvcXFfMzk0MjI2NDI=/font/5a6L5L2T/fontsize/400/fill/I0JBQkFCMA==/dissolve/70\" width=50%>\n",
    "\n",
    "可见邻接表在空间上是更省资源的。邻接表适合表示稀疏图，邻接矩阵适合表示稠密图。\n",
    "\n",
    "\n",
    "\n",
    "\n",
    "\n"
   ],
   "cell_type": "markdown",
   "metadata": {}
  },
  {
   "source": [
    "[实现](https://blog.csdn.net/qq_39422642/article/details/79473289)"
   ],
   "cell_type": "markdown",
   "metadata": {}
  },
  {
   "source": [
    "# Dijkstra算法和Floyed算法"
   ],
   "cell_type": "markdown",
   "metadata": {}
  },
  {
   "cell_type": "code",
   "execution_count": 4,
   "metadata": {},
   "outputs": [
    {
     "output_type": "stream",
     "name": "stdout",
     "text": [
      "**********************dijkstra算法************************\n点到各点的距离:\n [0, 1, 8, 4, 13, 17]\n**********************floyed算法************************\n各个顶点的最短路径(无向图):\nv1--v2  dist_min: 1\tpath:v1--v2\nv1--v3  dist_min: 8\tpath:v1--v3\nv1--v4  dist_min: 4\tpath:v1--v4\nv1--v5  dist_min: 13\tpath:v1--v5\nv1--v6  dist_min: 17\tpath:v1--v6\nv2--v3  dist_min: 7\tpath:v2--v4--v3\nv2--v4  dist_min: 3\tpath:v2--v4\nv2--v5  dist_min: 12\tpath:v2--v4--v3--v5\nv2--v6  dist_min: 16\tpath:v2--v5--v6\nv3--v4  dist_min: 12\tpath:v3--v2--v4\nv3--v5  dist_min: 5\tpath:v3--v5\nv3--v6  dist_min: 9\tpath:v3--v5--v6\nv4--v5  dist_min: 9\tpath:v4--v3--v5\nv4--v6  dist_min: 13\tpath:v4--v5--v6\nv5--v6  dist_min: 4\tpath:v5--v6\n前驱矩阵P:\n [[0 1 2 3 4 5]\n [0 1 3 3 3 4]\n [1 1 2 1 4 4]\n [1 1 2 3 2 4]\n [2 2 2 3 4 5]\n [3 3 4 3 4 5]]\n最短路径矩阵:\n [[ 0  1  8  4 13 17]\n [ 1  0  7  3 12 16]\n [10  9  0 12  5  9]\n [ 4  3  4  0  9 13]\n [15 14  5 13  0  4]\n [19 18  9 15  4  0]]\n"
     ]
    }
   ],
   "source": [
    "from pic import dijkstra, floyed\n",
    "\n",
    "inf = 10086\n",
    "# 定义有向图\n",
    "mgraph_d = [[0,   1,   12,  inf, inf, inf],\n",
    "            [inf, 0,   9,   3,   inf, inf],\n",
    "            [inf, inf, 0,   inf, 5,   inf],\n",
    "            [inf, inf, 4,   0,   13,  15 ],\n",
    "            [inf, inf, inf, inf, 0,   4  ],\n",
    "            [inf, inf, inf, inf, inf, 0  ]]\n",
    "# 定义无向图\n",
    "mgraph_n = [[0,   1,   12,  inf, inf, inf],\n",
    "            [1,   0,   9,   3,   inf, inf],\n",
    "            [12,  9,   0,   inf, 5,   inf],\n",
    "            [inf, 3,   4,   0,   13,  15 ],\n",
    "            [inf, inf, 5,   13,  0,   4  ],\n",
    "            [inf, inf, inf, 15,  4,   0  ]]\n",
    "print(\"**********************dijkstra算法************************\")\n",
    "dis = dijkstra(0, mgraph_n)\n",
    "print(\"点到各点的距离:\\n\", dis)\n",
    "print(\"**********************floyed算法************************\")\n",
    "floy = floyed(mgraph_n, isDirection = False)\n",
    "print(\"最短路径矩阵:\\n\", floy)"
   ]
  },
  {
   "cell_type": "code",
   "execution_count": 5,
   "metadata": {},
   "outputs": [
    {
     "output_type": "stream",
     "name": "stdout",
     "text": [
      "Mon May 17 20:45:57 2021\n"
     ]
    }
   ],
   "source": [
    "import time\n",
    "print(time.asctime(time.localtime()))"
   ]
  },
  {
   "source": [
    "# 133. [克隆图](https://leetcode-cn.com/problems/clone-graph/)\n",
    "\n",
    "给你无向 连通 图中一个节点的引用，请你返回该图的 深拷贝（克隆）。图中的每个节点都包含它的值 val（int） 和其邻居的列表（list[Node]）。\n",
    "```\n",
    "class Node {\n",
    "    public int val;\n",
    "    public List<Node> neighbors;\n",
    "}\n",
    "```\n",
    "测试用例格式：简单起见，每个节点的值都和它的索引相同。例如，第一个节点值为 1（val = 1），第二个节点值为 2（val = 2），以此类推。该图在测试用例中使用邻接列表表示。\n",
    "\n"
   ],
   "cell_type": "markdown",
   "metadata": {}
  },
  {
   "cell_type": "code",
   "execution_count": 5,
   "metadata": {},
   "outputs": [
    {
     "output_type": "stream",
     "name": "stdout",
     "text": [
      "value: 1 neighbors: [2, 4]\nvalue: 2 neighbors: [1, 3]\nvalue: 3 neighbors: [2, 4]\nvalue: 4 neighbors: [1, 3]\n拷贝结果:\nvalue: 4 neighbors: [1, 3]\nvalue: 2 neighbors: [1, 3]\nvalue: 1 neighbors: [2, 4]\nvalue: 3 neighbors: [2, 4]\n"
     ]
    }
   ],
   "source": [
    "# Definition for a Node.\n",
    "class Node(object):\n",
    "    def __init__(self, val = 0, neighbors = None):\n",
    "        self.val = val\n",
    "        self.neighbors = neighbors if neighbors is not None else []\n",
    "\n",
    "class Solution(object):\n",
    "    def cloneGraph(self, node):\n",
    "        \"\"\"\n",
    "        :type node: Node\n",
    "        :rtype: Node\n",
    "        \"\"\"\n",
    "        '''方法一(self):利用栈进行广度优先遍历'''\n",
    "        if node is None:\n",
    "            return\n",
    "        stack = []  # 建立空栈、建立空集合\n",
    "        nodeSet = {}\n",
    "        nodeSet[node] = node\n",
    "        stack.append(node)\n",
    "        while len(stack) > 0:\n",
    "            cur = stack.pop()  # 弹出最近入栈的节点\n",
    "            for n in cur.neighbors:  # 遍历该节点的邻接节点\n",
    "                if n not in nodeSet:\n",
    "                    # 把节点压入 邻接节点压入 登记节点 打印节点值 退出当前循环\n",
    "                    stack.append(n)\n",
    "                    nodeSet[n] = node\n",
    "                    break\n",
    "        return nodeSet[node]\n",
    "        '''方法二(官方):深度优先搜索\n",
    "        对于一张图而言，它的深拷贝即构建一张与原图结构，值均一样的图，\n",
    "        但是其中的节点不再是原来图节点的引用。\n",
    "        在这种方法中,采用递归的方法对图进行深度优先遍历\n",
    "        时间复杂度:O(N) 空间复杂度:O(N)\n",
    "        '''\n",
    "    #     if not node: return node\n",
    "    #     # 如果该节点已经被访问过了，则直接从哈希表中取出对应的克隆节点返回\n",
    "    #     if node in self.visited: return self.visited[node]\n",
    "    #     # 克隆节点，注意到为了深拷贝我们不会克隆它的邻居的列表\n",
    "    #     clone_node = Node(node.val, [])      \n",
    "    #     self.visited[node] = clone_node # 哈希表存储\n",
    "    #     # 遍历该节点的邻居并更新克隆节点的邻居列表\n",
    "    #     if node.neighbors: \n",
    "    #         clone_node.neighbors = [self.cloneGraph(n) for n in node.neighbors]\n",
    "    #     return clone_node\n",
    "\n",
    "    # def __init__(self):\n",
    "    #     self.visited = {}\n",
    "        '''方法二(精选):深度优先搜索\n",
    "        https://leetcode-cn.com/problems/clone-graph/solution/dfs-he-bfs-by-powcai/\n",
    "        '''\n",
    "        lookup = {}\n",
    "        def dfs(node):\n",
    "            #print(node.val)\n",
    "            if not node: return\n",
    "            if node in lookup: return lookup[node]\n",
    "            clone = Node(node.val, [])\n",
    "            lookup[node] = clone\n",
    "            for n in node.neighbors: clone.neighbors.append(dfs(n))\n",
    "            return clone\n",
    "        return dfs(node)\n",
    "        '''总结:应该返回的是原图的拷贝,也是指的返回一个节点,\n",
    "        而不是直接返回节点的列表'''\n",
    "\n",
    "        '''方法三(官方):广度优先遍历\n",
    "        时间复杂度:O(N) 空间复杂度:O(N)\n",
    "        '''\n",
    "        if not node: return node\n",
    "        visited = {} # 由于不适用递归的方法,所以可以写在函数内 \n",
    "        from collections import deque       \n",
    "        queue = deque([node]) # 将题目给定的节点添加到队列 \n",
    "        visited[node] = Node(node.val, []) # 克隆第一个节点并存储到哈希表中\n",
    "        # 广度优先搜索\n",
    "        while queue:         \n",
    "            n = queue.popleft() # 取出队列的头节点         \n",
    "            for neighbor in n.neighbors: # 遍历该节点的邻居\n",
    "                if neighbor not in visited:\n",
    "                    # 如果没有被访问过，就克隆并存储在哈希表中\n",
    "                    visited[neighbor] = Node(neighbor.val, [])\n",
    "                    queue.append(neighbor) # 将邻居节点加入队列中\n",
    "                # 更新当前节点的邻居列表\n",
    "                visited[n].neighbors.append(visited[neighbor])\n",
    "        return visited[node]\n",
    "        '''方法三(精选):广度优先遍历'''\n",
    "        from collections import deque\n",
    "        lookup = {}\n",
    "        def bfs(node):\n",
    "            if not node: return\n",
    "            clone = Node(node.val, [])\n",
    "            lookup[node] = clone\n",
    "            queue = deque()\n",
    "            queue.appendleft(node)\n",
    "            while queue:\n",
    "                tmp = queue.pop()\n",
    "                for n in tmp.neighbors:\n",
    "                    if n not in lookup:\n",
    "                        lookup[n] = Node(n.val, [])\n",
    "                        queue.appendleft(n)\n",
    "                    lookup[tmp].neighbors.append(lookup[n])\n",
    "            return clone\n",
    "        return bfs(node)\n",
    "\n",
    "# val = ['A', 'B', 'C', 'D']\n",
    "adjList = [[2,4],[1,3],[2,4],[1,3]]\n",
    "node_list = [Node(val=i+1) for i in range(len(adjList))]\n",
    "for i, node in enumerate(node_list):\n",
    "    node.neighbors = [node_list[j-1] for j in adjList[i]]\n",
    "for node in node_list:\n",
    "    print(\"value:\", node.val, \"neighbors:\", [n.val for n in node.neighbors])\n",
    "\n",
    "sol = Solution()\n",
    "node = sol.cloneGraph(node_list[0])\n",
    "from pic import dfs\n",
    "node_set = dfs(node)\n",
    "print(\"拷贝结果:\")\n",
    "for node in node_set:\n",
    "    print(\"value:\", node.val, \"neighbors:\", [n.val for n in node.neighbors])\n",
    "    \n"
   ]
  },
  {
   "cell_type": "code",
   "execution_count": null,
   "metadata": {},
   "outputs": [],
   "source": [
    "# 207. [课程表](https://leetcode-cn.com/problems/course-schedule)\n",
    "\n",
    "你这个学期必须选修numCourses门课程，记为 0 到 numCourses - 1 。在选修某些课程之前需要一些先修课程。先修课程按数组prerequisites给出，其中prerequisites[i] = [ai, bi]，表示如果要学习课程ai则 必须 先学习课程bi 。\n",
    "\n",
    "例如，先修课程对 [0, 1] 表示：想要学习课程 0 ，你需要先完成课程 1 。请你判断是否可能完成所有课程的学习？如果可以，返回 true ；否则，返回 false 。\n",
    "\n",
    "### 本人思路:\n",
    "所有的课应该有一个时间先后的顺序,两门课之间不能产生矛盾,映射到图里也就是说不能组成环装,也就是判断这个图是不是能构成一个生成树\n",
    "\n",
    "### 官方思路:本题是一道经典的「拓扑排序」问题。\n",
    "给定一个包含 n个节点的有向图 GG，我们给出它的节点编号的一种排列，如果满足：\n",
    "> 对于图 G中的任意一条有向边 (u, v)，u在排列中都出现在v的前面。\n",
    "\n",
    "那么称该排列是图 G的「拓扑排序」。根据上述的定义，我们可以得出两个结论：\n",
    "\n",
    "* 如果图 G中存在环（即图G不是「有向无环图」），那么图G不存在拓扑排序。这是因为假设图中存在环 x1, x2⋯,xn,x1，那么 x1在排列中必须出现在 xn的前面，但 xn同时也必须出现在 x1的前面，因此不存在一个满足要求的排列，也就不存在拓扑排序；\n",
    "* 如果图G是有向无环图，那么它的拓扑排序可能不止一种。举一个最极端的例子，如果图G值包含n个节点却没有任何边，那么任意一种编号的排列都可以作为拓扑排序。\n",
    "\n",
    "有了上述的简单分析，我们就可以将本题建模成一个求拓扑排序的问题了：\n",
    "\n",
    "* 我们将每一门课看成一个节点；\n",
    "* 如果想要学习课程A之前必须完成课程B，那么我们从B到A连接一条有向边。这样以来，在拓扑排序中，B 一定出现在A的前面。\n",
    "\n"
   ]
  },
  {
   "cell_type": "code",
   "execution_count": 11,
   "metadata": {},
   "outputs": [
    {
     "output_type": "stream",
     "name": "stdout",
     "text": [
      "False\n"
     ]
    }
   ],
   "source": [
    "class Solution(object):\n",
    "    def canFinish(self, numCourses, prerequisites):\n",
    "        \"\"\"\n",
    "        :type numCourses: int\n",
    "        :type prerequisites: List[List[int]]\n",
    "        :rtype: bool\n",
    "        \"\"\"\n",
    "        '''方法一(官方):深度优先遍历\n",
    "        时间复杂度:O(N+M) 空间复杂度:O(N+M) (N为课程数,M为先修课程数)\n",
    "        '''\n",
    "        import collections\n",
    "        edges = collections.defaultdict(list)\n",
    "        visited = [0] * numCourses\n",
    "        result = list()\n",
    "        valid = True\n",
    "        for info in prerequisites: edges[info[1]].append(info[0])\n",
    "        \n",
    "        def dfs(u):\n",
    "            nonlocal valid\n",
    "            visited[u] = 1\n",
    "            for v in edges[u]:\n",
    "                if visited[v] == 0:\n",
    "                    dfs(v)\n",
    "                    if not valid: return\n",
    "                elif visited[v] == 1:\n",
    "                    valid = False\n",
    "                    return\n",
    "            visited[u] = 2\n",
    "            result.append(u)\n",
    "    \n",
    "        for i in range(numCourses):\n",
    "            if valid and not visited[i]: dfs(i)\n",
    "        return valid\n",
    "        '''方法二(官方):广度优先搜索'''\n",
    "        edges = collections.defaultdict(list)\n",
    "        indeg = [0] * numCourses\n",
    "        for info in prerequisites:\n",
    "            edges[info[1]].append(info[0])\n",
    "            indeg[info[0]] += 1\n",
    "        \n",
    "        q = collections.deque([u for u in range(numCourses) if indeg[u] == 0])\n",
    "        visited = 0\n",
    "        while q:\n",
    "            visited += 1\n",
    "            u = q.popleft()\n",
    "            for v in edges[u]:\n",
    "                indeg[v] -= 1\n",
    "                if indeg[v] == 0: q.append(v)\n",
    "        return visited == numCourses\n",
    "\n",
    "\n",
    "sol = Solution()\n",
    "print(sol.canFinish(2, [[0,1], [1,0]]))"
   ]
  },
  {
   "cell_type": "code",
   "execution_count": null,
   "metadata": {},
   "outputs": [],
   "source": []
  },
  {
   "cell_type": "code",
   "execution_count": null,
   "metadata": {},
   "outputs": [],
   "source": []
  },
  {
   "cell_type": "code",
   "execution_count": null,
   "metadata": {},
   "outputs": [],
   "source": []
  },
  {
   "cell_type": "code",
   "execution_count": null,
   "metadata": {},
   "outputs": [],
   "source": []
  },
  {
   "cell_type": "code",
   "execution_count": null,
   "metadata": {},
   "outputs": [],
   "source": []
  },
  {
   "cell_type": "code",
   "execution_count": null,
   "metadata": {},
   "outputs": [],
   "source": []
  },
  {
   "cell_type": "code",
   "execution_count": null,
   "metadata": {},
   "outputs": [],
   "source": []
  }
 ]
}