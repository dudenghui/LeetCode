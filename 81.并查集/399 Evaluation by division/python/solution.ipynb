{
 "metadata": {
  "language_info": {
   "codemirror_mode": {
    "name": "ipython",
    "version": 3
   },
   "file_extension": ".py",
   "mimetype": "text/x-python",
   "name": "python",
   "nbconvert_exporter": "python",
   "pygments_lexer": "ipython3",
   "version": "3.7.3"
  },
  "orig_nbformat": 2,
  "kernelspec": {
   "name": "python373jvsc74a57bd0b445a9a934c6138ffaa6e6c504878c62e56d3e974a500d266fd2c1470ca76961",
   "display_name": "Python 3.7.3 64-bit ('base': conda)"
  }
 },
 "nbformat": 4,
 "nbformat_minor": 2,
 "cells": [
  {
   "cell_type": "code",
   "execution_count": 1,
   "metadata": {},
   "outputs": [],
   "source": [
    "# 作者：MiloMusiala\n",
    "# 链接：https://leetcode-cn.com/problems/evaluate-division/solution/pythonbing-cha-ji-fu-mo-ban-by-milomusia-kfsu/\n",
    "# 来源：力扣（LeetCode）\n",
    "# 著作权归作者所有。商业转载请联系作者获得授权，非商业转载请注明出处。"
   ]
  },
  {
   "source": [
    "# [并查集](https://leetcode-cn.com/problems/number-of-provinces/solution/python-duo-tu-xiang-jie-bing-cha-ji-by-m-vjdr/)\n",
    "\n",
    "## 基本概念\n",
    "\n",
    "* 并查集是一种数据结构\n",
    "* 并查集这三个字，一个字代表一个意思。\n",
    "* 并（Union），代表合并\n",
    "* 查（Find），代表查找\n",
    "* 集（Set），代表这是一个以字典为基础的数据结构，它的基本功能是合并集合中的元素，查找集合中的元素\n",
    "* 并查集的典型应用是有关连通分量的问题\n",
    "* 并查集解决单个问题（添加，合并，查找）的时间复杂度都是O(1)。因此，并查集可以应用到在线算法中\n",
    "\n",
    "## 并查集的实现\n",
    "\n",
    "数据结构：并查集跟树有些类似，只不过她跟树是相反的。在树这个数据结构里面，每个节点会记录它的子节点。在并查集里，每个节点会记录它的父节点。\n",
    "\n",
    "<img src=\"https://pic.leetcode-cn.com/1609980000-ofFjdW-%E5%B9%BB%E7%81%AF%E7%89%871.JPG\" width=50%>\n",
    "\n",
    "可以看到，如果节点是相互连通的（从一个节点可以到达另一个节点），那么他们在同一棵树里，或者说在同一个集合里，或者说他们的祖先是相同的。\n",
    "\n",
    "## 初始化\n",
    "当把一个新节点添加到并查集中，它的父节点应该为空\n",
    "\n",
    "<img src=\"https://pic.leetcode-cn.com/1609980044-MZZZkZ-%E5%B9%BB%E7%81%AF%E7%89%872.JPG\" width=50%>\n",
    "\n",
    "## 合并两个节点\n",
    "如果发现两个节点是连通的，那么就要把他们合并，也就是他们的祖先是相同的。这里究竟把谁当做父节点一般是没有区别的。\n",
    "\n",
    "<img src=\"https://pic.leetcode-cn.com/1609980079-JmfIbX-%E5%B9%BB%E7%81%AF%E7%89%874.JPG\" width=50%>\n",
    "\n",
    "## 两节点是否连通\n",
    "我们判断两个节点是否处于同一个连通分量的时候，就需要判断它们的祖先是否相同\n",
    "\n",
    "## 查找祖先\n",
    "查找祖先的方法是：如果节点的父节点不为空，那就不断迭代。\n",
    "\n",
    "<img src=\"https://pic.leetcode-cn.com/1609980128-GpUyoj-%E5%B9%BB%E7%81%AF%E7%89%877.JPG\" width=50%>\n",
    "\n",
    "这里有一个优化的点：如果我们树很深，比如说退化成链表，那么每次查询的效率都会非常低。所以我们要做一下路径压缩。也就是把树的深度固定为二。\n",
    "\n",
    "<img src=\"https://pic.leetcode-cn.com/1609980188-XcJBuX-%E5%B9%BB%E7%81%AF%E7%89%8711.JPG\" width=50%>\n",
    "\n",
    "这么做可行的原因是，并查集只是记录了节点之间的连通关系，而节点相互连通只需要有一个相同的祖先就可以了。\n",
    "\n",
    "路径压缩可以用递归，也可以迭代。这里用迭代的方法。\n"
   ],
   "cell_type": "markdown",
   "metadata": {}
  },
  {
   "cell_type": "code",
   "execution_count": 3,
   "metadata": {},
   "outputs": [],
   "source": [
    "class UnionFind:\n",
    "    def __init__(self):\n",
    "        \"\"\"\n",
    "        记录每个节点的父节点,记录每个节点到根节点的权重\n",
    "        \"\"\"\n",
    "        self.father = {}\n",
    "        self.value = {}\n",
    "    \n",
    "    def find(self,x): # 边查边更新\n",
    "        \"\"\"\n",
    "        查找根节点 路径压缩 更新权重\n",
    "        \"\"\"\n",
    "        root = x    \n",
    "        base = 1 # 节点更新权重的时候要放大的倍数\n",
    "        while self.father[root] != None: # 查找根节点及与根节点距离\n",
    "            root = self.father[root]\n",
    "            base *= self.value[root]     \n",
    "        while x != root: # 更新根节点及与根节点距离、压缩路径\n",
    "            original_father = self.father[x]\n",
    "            self.value[x] *= base\n",
    "            base /= self.value[original_father]\n",
    "            self.father[x] = root\n",
    "            x = original_father\n",
    "        return root\n",
    "\n",
    "    def merge(self,x,y,val):\n",
    "        \"\"\"\n",
    "        合并两个节点\n",
    "        \"\"\"\n",
    "        root_x,root_y = self.find(x),self.find(y) \n",
    "        if root_x != root_y:\n",
    "            self.father[root_x] = root_y\n",
    "            self.value[root_x] = self.value[y] * val / self.value[x]\n",
    "\n",
    "    def is_connected(self,x,y):\n",
    "        \"\"\"\n",
    "        两节点是否相连\n",
    "        \"\"\"\n",
    "        return x in self.value and y in self.value and self.find(x) == self.find(y)\n",
    "    \n",
    "    def add(self,x):\n",
    "        \"\"\"\n",
    "        添加新节点，初始化权重为1.0\n",
    "        \"\"\"\n",
    "        if x not in self.father:\n",
    "            self.father[x] = None\n",
    "            self.value[x] = 1.0"
   ]
  },
  {
   "source": [
    "# 399. 除法求值\n",
    "\n",
    "给你一个变量对数组equations和一个实数值数组values作为已知条件，其 equations\\[i] =\\[Ai,Bi]和values\\[i]共同表示等式 Ai/Bi = values\\[i]。每个Ai或Bi是一个表示单个变量的字符串。\n",
    "\n",
    "另有一些以数组queries表示的问题，其中queries\\[j]=\\[Cj,Dj]表示第j个问题，请你根据已知条件找出Cj/Dj =?的结果作为答案。\n",
    "\n",
    "返回所有问题的答案 。如果存在某个无法确定的答案，则用 -1.0 替代这个答案。如果问题中出现了给定的已知条件中没有出现的字符串，也需要用 -1.0 替代这个答案。\n",
    "\n",
    "注意：输入总是有效的。你可以假设除法运算中不会出现除数为 0 的情况，且不存在任何矛盾的结果。\n"
   ],
   "cell_type": "markdown",
   "metadata": {}
  },
  {
   "cell_type": "code",
   "execution_count": 13,
   "metadata": {},
   "outputs": [
    {
     "output_type": "stream",
     "name": "stdout",
     "text": [
      "单纯的并集： {'a': 'b', 'b': 'c', 'c': None} {'a': 2.0, 'b': 3.0, 'c': 1.0}\n查找更新之后： {'a': 'c', 'b': 'c', 'c': None} {'a': 6.0, 'b': 3.0, 'c': 1.0}\nresults: [6.0, 0.5, -1.0, 1.0, -1.0]\n"
     ]
    }
   ],
   "source": [
    "class Solution:\n",
    "    def calcEquation(self, equations, values, queries):\n",
    "        '''\n",
    "            equations: List[List[str]]\n",
    "            values: List[float], \n",
    "            queries: List[List[str]]) \n",
    "            out: List[float]\n",
    "        '''\n",
    "        uf = UnionFind()\n",
    "        for (a,b),val in zip(equations,values):\n",
    "            uf.add(a)\n",
    "            uf.add(b)\n",
    "            uf.merge(a,b,val)\n",
    "        \n",
    "        res = [-1.0] * len(queries)\n",
    "        print(\"单纯的并集：\", uf.father, uf.value)\n",
    "        '''\n",
    "            在以上的步骤当中，主要是将两两之间的节点联系起来，\n",
    "            如果添加的节点当中有以前的子节点，那么更新该节点\n",
    "            到根节点之间的节点的根节点，而不更新该节点的子节\n",
    "            点的根节点。\n",
    "            在下面的步骤中，判断两个节点是否有相同的根节点，\n",
    "            判断过程中更新该节点与根节点之间节点的根节点。\n",
    "        '''\n",
    "        for i,(a,b) in enumerate(queries):\n",
    "            if uf.is_connected(a,b):\n",
    "                res[i] = uf.value[a] / uf.value[b]\n",
    "        print(\"查找更新之后：\", uf.father, uf.value)\n",
    "        return res\n",
    "\n",
    "equations = [[\"a\", \"b\"], [\"b\", \"c\"]]\n",
    "values = [2.0, 3.0]\n",
    "queries = [[\"a\", \"c\"], [\"b\", \"a\"], [\"a\", \"e\"], [\"a\", \"a\"], [\"x\", \"x\"]]\n",
    "\n",
    "sol = Solution()\n",
    "results = sol.calcEquation(equations, values, queries)\n",
    "print(\"results:\",results)\n",
    "\n",
    "# print(\"**************************练习2***********************************\")\n",
    "# equations = [[\"a\",\"b\"],[\"b\",\"c\"],[\"bc\",\"cd\"]]\n",
    "# values = [1.5,2.5,5.0]\n",
    "# queries = [[\"a\",\"c\"],[\"c\",\"b\"],[\"bc\",\"cd\"],[\"cd\",\"bc\"],[\"cd\",\"b\"]]\n",
    "# sol = Solution()\n",
    "# results = sol.calcEquation(equations, values, queries)\n",
    "# print(\"results:\",results)\n"
   ]
  },
  {
   "cell_type": "code",
   "execution_count": 10,
   "metadata": {},
   "outputs": [
    {
     "output_type": "execute_result",
     "data": {
      "text/plain": [
       "1"
      ]
     },
     "metadata": {},
     "execution_count": 10
    }
   ],
   "source": [
    "1"
   ]
  }
 ]
}