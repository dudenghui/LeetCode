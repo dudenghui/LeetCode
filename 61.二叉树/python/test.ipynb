{
 "metadata": {
  "language_info": {
   "codemirror_mode": {
    "name": "ipython",
    "version": 3
   },
   "file_extension": ".py",
   "mimetype": "text/x-python",
   "name": "python",
   "nbconvert_exporter": "python",
   "pygments_lexer": "ipython3",
   "version": "3.7.3"
  },
  "orig_nbformat": 2,
  "kernelspec": {
   "name": "python373jvsc74a57bd0b445a9a934c6138ffaa6e6c504878c62e56d3e974a500d266fd2c1470ca76961",
   "display_name": "Python 3.7.3 64-bit (conda)"
  }
 },
 "nbformat": 4,
 "nbformat_minor": 2,
 "cells": [
  {
   "cell_type": "code",
   "execution_count": null,
   "metadata": {},
   "outputs": [],
   "source": []
  },
  {
   "source": [
    "# 二叉树函数使用"
   ],
   "cell_type": "markdown",
   "metadata": {}
  },
  {
   "cell_type": "code",
   "execution_count": 2,
   "metadata": {},
   "outputs": [
    {
     "output_type": "stream",
     "name": "stdout",
     "text": [
      "先序遍历为:\n['A', ['B', ['D', ['H', ['P'], ['Q']], ['I', ['R'], ['S']]], ['E', ['J', ['T'], ['U']], ['K', ['V'], ['W']]]], ['C', ['F', ['L', ['X'], ['Y']], ['M', ['Z']]], ['G', ['N'], ['O']]]]\n\n树的高度为5.\n\n层序遍历为:\n[['A'], ['B', 'C'], ['D', 'E', 'F', 'G'], ['H', 'I', 'J', 'K', 'L', 'M', 'N', 'O'], ['P', 'Q', 'R', 'S', 'T', 'U', 'V', 'W', 'X', 'Y', 'Z']]\n\n叶子节点为：\nP Q R S T U V W X Y Z N O "
     ]
    }
   ],
   "source": [
    "from Binary_Tree import BTree, create_BTree_By_List\n",
    "\n",
    "array = 'ABCDEFGHIJKLMNOPQRSTUVWXYZ'\n",
    "tree = create_BTree_By_List(array)\n",
    "print('先序遍历为:')\n",
    "print(tree.preorder())\n",
    "height = tree.height()\n",
    "print('\\n树的高度为%s.\\n'%height)\n",
    "print('层序遍历为:')\n",
    "level_order = tree.levelorder()\n",
    "print(level_order)\n",
    "print('\\n叶子节点为：')\n",
    "tree.leaves()"
   ]
  },
  {
   "source": [
    "# 101.对称二叉树\n",
    "给定一个二叉树，检查它是否是镜像对称的。\n",
    "\n",
    "我的思路是对二叉树进行层序遍历,单独取出每一层,看每一层的数是不是回文数\n",
    "\n",
    "# 100.相同的树\n",
    "给你两棵二叉树的根节点 p 和 q ，编写一个函数来检验这两棵树是否相同。如果两个树在结构上相同，并且节点具有相同的值，则认为它们是相同的。"
   ],
   "cell_type": "markdown",
   "metadata": {}
  },
  {
   "cell_type": "code",
   "execution_count": 22,
   "metadata": {},
   "outputs": [
    {
     "output_type": "stream",
     "name": "stdout",
     "text": [
      "1 2 3 5 4 2 4 3 5 \npreorder: [1, [2, [3, [5], []], [4, [], []]], [2, [4, [], []], [3, [], [5]]]]\nlevelorder: [[1], [2, 2], [3, 4, 4, 3], [5, None, None, None, None, None, None, 5]]\nTrue\n[[1], [2, 2], [3, 4, 4, 3]]\n[[1], [2, 2], [3, 4, 4, 3]]\nTrue\n"
     ]
    }
   ],
   "source": [
    "class TreeNode:\n",
    "    def __init__(self, val=0, left=None, right=None):\n",
    "        self.val = val\n",
    "        self.left = left\n",
    "        self.right = right\n",
    "\n",
    "class Solution:\n",
    "    def isSymmetric(self, root: TreeNode) -> bool:\n",
    "        '''方法一(self 不能验证):使用层序遍历获得每层的节点值,判断每层的节点值是否为回文数'''\n",
    "        # \n",
    "        # def isHuiwen(array):\n",
    "        #     if len(array) == 1: return True\n",
    "        #     start = 0\n",
    "        #     end = len(array)-1\n",
    "        #     while start<end:\n",
    "        #         if array[start] is not array[end]:\n",
    "        #             return False\n",
    "        #         start += 1\n",
    "        #         end -= 1\n",
    "        #     return True\n",
    "\n",
    "        # level_order_list = tree.levelorder()\n",
    "        # for level_order in level_order_list:\n",
    "        #     if not isHuiwen(level_order):\n",
    "        #         return False\n",
    "        # return True\n",
    "        '''方法二(官方):递归\n",
    "        同时满足下列条件时两个树互为镜像:\n",
    "        1. 两个根节点具有相同的值\n",
    "        2. 每一棵树的左子树都和另一棵树的右子树镜像对称\n",
    "        我们可以实现这样一个递归函数，通过「同步移动」两个指针的方法来遍历这棵树，\n",
    "        pp 指针和 qq 指针一开始都指向这棵树的根，随后 pp 右移时，qq 左移，pp 左移时，qq 右移。\n",
    "        每次检查当前 pp 和 qq 节点的值是否相等，如果相等再判断左右子树是否对称。\n",
    "        复杂度:时间O(n),空间O(n)\n",
    "        '''\n",
    "    #     return self.check(root, root)\n",
    "    \n",
    "    # def check(self, p, q):\n",
    "    #     if (p == None) and (q == None): return True\n",
    "    #     if (p == None) or (q == None): return False\n",
    "    #     return (p.val == q.val) and self.check(p.left, q.right) and \\\n",
    "    #         self.check(p.right, q.left)\n",
    "        '''方法二(官方):迭代\n",
    "        首先我们引入一个队列，这是把递归程序改写成迭代程序的常用方法。\n",
    "        初始化时我们把根节点入队两次。每次提取两个结点并比较它们的值\n",
    "        （队列中每两个连续的结点应该是相等的，而且它们的子树互为镜像），\n",
    "        然后将两个结点的左右子结点按相反的顺序插入队列中。当队列为空时，\n",
    "        或者我们检测到树不对称（即从队列中取出两个不相等的连续结点）时，该算法结束。\n",
    "        复杂度:与方法二相同\n",
    "        '''\n",
    "        return self.check(root, root)\n",
    "    \n",
    "    def check(self, u, v):\n",
    "        q = [u, v]\n",
    "        while q:\n",
    "            u = q.pop(0)\n",
    "            v = q.pop(0)\n",
    "            if (u == None) and (v == None): continue\n",
    "            if ((u == None) or (v == None)) or (u.val != v.val): return False\n",
    "            q.append(u.left)\n",
    "            q.append(v.right)\n",
    "            q.append(u.right)\n",
    "            q.append(v.left)\n",
    "        return True\n",
    "\n",
    "    def isSameTree(self, p: TreeNode, q: TreeNode) -> bool:\n",
    "        return self.check_same(p, q)\n",
    "\n",
    "    def check_same(self, p, q):\n",
    "        if (p == None) and (q == None): return True\n",
    "        if (p == None) or (q == None): return False\n",
    "        return (p.val == q.val) and self.check_same(p.left, q.left) and \\\n",
    "            self.check_same(p.right, q.right)\n",
    "\n",
    "from Binary_Tree import BTree, create_BTree_By_List\n",
    "data = list(range(7))\n",
    "data = [1,2,2,3,4,4,3,5,None,None,None,None,None,None,5]\n",
    "tree = create_BTree_By_List(data)\n",
    "print('\\npreorder:',tree.preorder())\n",
    "print('levelorder:',tree.levelorder())\n",
    "\n",
    "sol = Solution()\n",
    "print(sol.isSymmetric(tree))\n",
    "\n",
    "p = create_BTree_By_List([1,2,2,3,4,4,3])\n",
    "q = create_BTree_By_List([1,2,2,3,4,4,3])\n",
    "print(p.levelorder())\n",
    "print(q.levelorder())\n",
    "print(sol.isSameTree(p, p))"
   ]
  },
  {
   "source": [
    "# 94. 二叉树的中序遍历 [链接](https://leetcode-cn.com/problems/binary-tree-inorder-traversal/solution/er-cha-shu-de-zhong-xu-bian-li-by-leetcode-solutio/)\n",
    "\n",
    "给定一个二叉树的根节点 root ，返回它的 中序 遍历。\n",
    "\n",
    "## Morris 中序遍历\n",
    "思路与算法:\n",
    "\n",
    "Morris 遍历算法是另一种遍历二叉树的方法，它能将非递归的中序遍历空间复杂度降为 O(1)。\n",
    "\n",
    "Morris 遍历算法整体步骤如下（假设当前遍历到的节点为 xx）：\n",
    "\n",
    "* 如果x无左孩子，先将x的值加入答案数组，再访问x的右孩子，即x = x.right。\n",
    "* 如果x有左孩子，则找到 xx 左子树上最右的节点（即左子树中序遍历的最后一个节点，x在中序遍历中的前驱节点），我们记为predecessor。根据predecessor的右孩子是否为空，进行如下操作。\n",
    "    * 如果predecessor 的右孩子为空，则将其右孩子指向x，然后访问x的左孩子，即x = x.left。\n",
    "    * 如果predecessor 的右孩子不为空，则此时其右孩子指向x，说明我们已经遍历完x 的左子树，我们将 predecessor 的右孩子置空，将x 的值加入答案数组，然后访问x 的右孩子，即 x = x.right。\n",
    "* 重复上述操作，直至访问完整棵树。\n",
    "\n",
    "其实整个过程我们就多做一步：假设当前遍历到的节点为x，将x的左子树中最右边的节点的右孩子指向x，这样在左子树遍历完成后我们通过这个指向走回了x，且能通过这个指向知晓我们已经遍历完成了左子树，而不用再通过栈来维护，省去了栈的空间复杂度。\n",
    "\n",
    "### 性能由优到差：Morris遍历 > 递归 > 非递归(栈)"
   ],
   "cell_type": "markdown",
   "metadata": {}
  },
  {
   "cell_type": "code",
   "execution_count": 94,
   "metadata": {},
   "outputs": [
    {
     "output_type": "stream",
     "name": "stdout",
     "text": [
      "[4, 2, 5, 1, 6, 3, 7]\n"
     ]
    }
   ],
   "source": [
    "class TreeNode:\n",
    "    def __init__(self, val=0, left=None, right=None):\n",
    "        self.val = val\n",
    "        self.left = left\n",
    "        self.right = right\n",
    "\n",
    "n = 0\n",
    "class Solution:\n",
    "    out = []\n",
    "    def inorderTraversal(self, root):\n",
    "        '''方法一(self):递归 这种方法是遍历求值,但是题意是遍历求节点'''\n",
    "    #     if root is None: return []\n",
    "    #     self.inorder(root)\n",
    "    #     return self.out\n",
    "    # def inorder(self, root):\n",
    "    #     if root.left is not None: self.inorder(root.left)\n",
    "    #     if root is not None: self.out.append(root.val)\n",
    "    #     if root.right is not None: self.inorder(root.right)\n",
    "        '''方法二(官方):递归\n",
    "        时间复杂度:O(n) 空间复杂度:O(n)\n",
    "        '''\n",
    "    #     res = list()\n",
    "    #     self.inorder(root, res)\n",
    "    #     return res\n",
    "    # def inorder(self, root, res):\n",
    "    #     if root is None: return\n",
    "    #     self.inorder(root.left, res)\n",
    "    #     res.append(root.val)\n",
    "    #     self.inorder(root.right, res)\n",
    "        '''方法三(官方):迭代,方法一的递归函数我们也可以用迭代的方式实现，两种方式是等价的，\n",
    "        区别在于递归的时候隐式地维护了一个栈，而我们在迭代的时候需要显式地将这个栈模拟出来，\n",
    "        其他都相同\n",
    "        时间复杂度：O(n) 空间复杂度：O(n)\n",
    "        '''\n",
    "        # res = list()\n",
    "        # stk = list()\n",
    "        # while (root is not None) or (len(stk) is not 0):\n",
    "        #     while root is not None:\n",
    "        #         stk.append(root)\n",
    "        #         root = root.left\n",
    "        #     root = stk.pop()\n",
    "        #     res.append(root.val)\n",
    "        #     root = root.right\n",
    "        # return res\n",
    "        '''方法三(官方)：Morris中序遍历\n",
    "        时间复杂度：O(n) 空间复杂度：O(1)\n",
    "        '''\n",
    "        res = list()\n",
    "        predecessor = TreeNode()\n",
    "        while root is not None:\n",
    "            # 如果没有左孩子，则直接访问右孩子\n",
    "            if root.left is None: \n",
    "                res.append(root.val)\n",
    "                root = root.right\n",
    "            else:\n",
    "                # predecessor 节点就是当前 root 节点向左走一步，然后一直向右走至无法走为止\n",
    "                predecessor = root.left\n",
    "                while predecessor.right is not None and predecessor.right is not root:\n",
    "                    predecessor = predecessor.right\n",
    "                # 让 predecessor 的右指针指向 root，继续遍历左子树\n",
    "                if predecessor.right is None: \n",
    "                    predecessor.right = root\n",
    "                    root = root.left\n",
    "                # 说明左子树已经访问完了，我们需要断开链接\n",
    "                else:\n",
    "                    predecessor.right = None\n",
    "                    res.append(root.val)\n",
    "                    root = root.right\n",
    "        return res\n",
    "\n",
    "from Binary_Tree import BTree, create_BTree_By_List\n",
    "data = list(range(1,8))\n",
    "tree = create_BTree_By_List(data)\n",
    "\n",
    "sol = Solution()\n",
    "print(sol.inorderTraversal(tree))"
   ]
  },
  {
   "source": [
    "## 总结:\n",
    "对于二叉树的遍历和访问,大多是使用递归和迭代的方法,在本题中迭代方法中,使用了压栈的方式将节点按照左中右的顺序一个个地放入栈中,在依次读取值,达到迭代访问的目的。"
   ],
   "cell_type": "markdown",
   "metadata": {}
  },
  {
   "source": [
    "# 96.不同的二叉搜索树 [链接](https://leetcode-cn.com/problems/unique-binary-search-trees/solution/bu-tong-de-er-cha-sou-suo-shu-by-leetcode-solution/)\n",
    "\n",
    "给你一个整数 n ，求恰由 n 个节点组成且节点值从 1 到 n 互不相同的 二叉搜索树 有多少种？返回满足题意的二叉搜索树的种数。\n",
    "\n",
    "真的没有思路\n",
    "\n",
    "方法一:动态规划\n",
    "\n",
    "给定一个有序序列 1⋯n，为了构建出一棵二叉搜索树，我们可以遍历每个数字i，将该数字作为树根，将 1⋯(i−1) 序列作为左子树，将 (i+1)⋯n 序列作为右子树。接着我们可以按照同样的方式递归构建左子树和右子树。\n",
    "\n",
    "在上述构建的过程中，由于根的值不同，因此我们能保证每棵二叉搜索树是唯一的。\n",
    "\n",
    "由此可见，原问题可以分解成规模较小的两个子问题，且子问题的解可以复用。因此，我们可以想到使用动态规划来求解本题。\n",
    "\n",
    "方法二:数学\n",
    "\n",
    "# 95. 不同的二叉搜索树 II\n",
    "\n",
    "给定一个整数 n，生成所有由 1 ... n 为节点所组成的 二叉搜索树 。"
   ],
   "cell_type": "markdown",
   "metadata": {}
  },
  {
   "cell_type": "code",
   "execution_count": 111,
   "metadata": {},
   "outputs": [
    {
     "output_type": "stream",
     "name": "stdout",
     "text": [
      "[1, 1, 2, 5]\n"
     ]
    }
   ],
   "source": [
    "class Solution:\n",
    "    def numTrees(self, n):\n",
    "        \"\"\"\n",
    "        :type n: int\n",
    "        :rtype: int\n",
    "        \"\"\"\n",
    "        '''解法一(官方):动态规划\n",
    "        时间复杂度 : O(n^2) 空间复杂度:O(n)\n",
    "        '''\n",
    "        G = [0]*(n+1)\n",
    "        G[0], G[1] = 1, 1  \n",
    "        for i in range(2, n+1):\n",
    "            for j in range(1, i+1):\n",
    "                G[i] += G[j-1] * G[i-j]\n",
    "\n",
    "        return G[n]\n",
    "        '''解法二(官方):数学公式\n",
    "        时间复杂度:O(n) 空间复杂度:O(1)\n",
    "        '''\n",
    "        # C = 1\n",
    "        # for i in range(0, n):\n",
    "        #     C = C * 2*(2*i+1)/(i+2)\n",
    "        # return int(C)\n",
    "\n",
    "    def generateTrees(self, n):\n",
    "        res = list()\n",
    "        res[0] = [None]\n",
    "        res[1] =  \n",
    "\n",
    "\n",
    "\n",
    "sol = Soluion()\n",
    "print(sol.numTrees(3))"
   ]
  },
  {
   "cell_type": "code",
   "execution_count": 2,
   "metadata": {},
   "outputs": [
    {
     "output_type": "stream",
     "name": "stdout",
     "text": [
      "[1, [2]]\n"
     ]
    }
   ],
   "source": [
    "a = [1]\n",
    "b = [2]\n",
    "a.append()\n",
    "print(a)"
   ]
  },
  {
   "cell_type": "code",
   "execution_count": null,
   "metadata": {},
   "outputs": [],
   "source": []
  },
  {
   "cell_type": "code",
   "execution_count": null,
   "metadata": {},
   "outputs": [],
   "source": []
  },
  {
   "cell_type": "code",
   "execution_count": null,
   "metadata": {},
   "outputs": [],
   "source": []
  },
  {
   "cell_type": "code",
   "execution_count": null,
   "metadata": {},
   "outputs": [],
   "source": []
  },
  {
   "cell_type": "code",
   "execution_count": null,
   "metadata": {},
   "outputs": [],
   "source": []
  }
 ]
}