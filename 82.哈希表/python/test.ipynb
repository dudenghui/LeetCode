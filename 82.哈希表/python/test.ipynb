{
 "metadata": {
  "language_info": {
   "codemirror_mode": {
    "name": "ipython",
    "version": 3
   },
   "file_extension": ".py",
   "mimetype": "text/x-python",
   "name": "python",
   "nbconvert_exporter": "python",
   "pygments_lexer": "ipython3",
   "version": "3.7.3"
  },
  "orig_nbformat": 2,
  "kernelspec": {
   "name": "python373jvsc74a57bd0b445a9a934c6138ffaa6e6c504878c62e56d3e974a500d266fd2c1470ca76961",
   "display_name": "Python 3.7.3 64-bit ('base': conda)"
  }
 },
 "nbformat": 4,
 "nbformat_minor": 2,
 "cells": [
  {
   "source": [
    "# 哈希表\n",
    "哈希表是一种根据关键码去寻找值的数据映射结构，该结构通过把关键码映射的位置去寻找存放值的地方。\n",
    "\n",
    "哈希表是种数据结构，它可以提供快速的插入操作和查找操作。不论哈希表中有多少数据，插入和删除（有时包括侧除）只需要接近常量的时间即0(1）的时间级。实际上，这只需要几条机器指令。\n",
    "\n"
   ],
   "cell_type": "markdown",
   "metadata": {}
  },
  {
   "source": [
    "# 3. 无重复字符的最长子串\n",
    "给定一个字符串，请你找出其中不含有重复字符的最长子串的长度。\n",
    "\n",
    "## 滑动窗口\n",
    "其实就是一个队列,比如例题中的 abcabcbb，进入这个队列（窗口）为 abc 满足题目要求，当再进入a，队列变成了abca，这时候不满足要求。所以，我们要移动这个队列！\n",
    "\n",
    "如何移动？我们只要把队列的左边的元素移出就行了，直到满足题目要求！一直维持这样的队列，找出队列出现最长的长度时候，求出解！\n",
    "\n",
    "时间复杂度：O(n)\n",
    "\n",
    "## 集合set()\n",
    "```\n",
    "s = set()\n",
    "s.add(a)\n",
    "s.remove(a)\n",
    "```\n",
    "集合里的元素是按照顺序排列的,并且不能有重复的元素,上述的滑动窗口可以使用set()来实现"
   ],
   "cell_type": "markdown",
   "metadata": {}
  },
  {
   "cell_type": "code",
   "execution_count": 1,
   "metadata": {},
   "outputs": [
    {
     "output_type": "stream",
     "name": "stdout",
     "text": [
      "5\n"
     ]
    }
   ],
   "source": [
    "class Solution(object):\n",
    "    def lengthOfLongestSubstring(self, s):\n",
    "        \"\"\"\n",
    "        :type s: str\n",
    "        :rtype: int\n",
    "        \"\"\"\n",
    "        '''方法一(self):滑动窗口法\n",
    "        时间复杂度:O(N) 空间复杂度:O(Σ)\n",
    "        这种方法本来思路很简单,但是绕了好久才写出正确答案,原因是理不清小循环里的顺序关系,\n",
    "        到底是应该先判断还是先得到结果,总之就是思路不清晰就直接上手做了,还是应该整理清楚\n",
    "        自己的思路再开始编码。\n",
    "        '''\n",
    "        # ans = 0\n",
    "        # if len(s) == 0: return ans\n",
    "        # if len(s) == 1: return ans + 1\n",
    "        # for i in range(len(s)):\n",
    "        #     hashmap = dict()\n",
    "        #     if ans < len(s)-i:\n",
    "        #         for j in range(i, len(s)):   \n",
    "        #             if s[j] in hashmap: break\n",
    "        #             hashmap[s[j]] = j\n",
    "        #             if j-i+1 > ans: ans = j-i+1\n",
    "        # return ans\n",
    "        '''方法一(改良):''' \n",
    "        # ans = 0\n",
    "        # for i in range(len(s)):\n",
    "        #     hashmap = dict()\n",
    "        #     j = i\n",
    "        #     while ans < len(s)-i and j < len(s) and s[j] not in hashmap:\n",
    "        #         hashmap[s[j]] = j\n",
    "        #         ans = max(ans, j-i+1)\n",
    "        #         j += 1\n",
    "        # return ans\n",
    "        '''方法二(官方):'''\n",
    "        occ = set() # 哈希集合，记录每个字符是否出现过\n",
    "        # 右指针，初始值为 -1，相当于我们在字符串的左边界的左侧，还没有开始移动\n",
    "        rk = -1\n",
    "        ans = 0\n",
    "        for i in range(len(s)):\n",
    "            if i != 0: occ.remove(s[i - 1]) # 左指针向右移动一格，移除一个字符\n",
    "            while ans < len(s)-i and rk + 1 < len(s) and s[rk + 1] not in occ:     \n",
    "                occ.add(s[rk + 1]) # 不断地移动右指针\n",
    "                rk += 1\n",
    "            ans = max(ans, rk - i + 1) # 第 i 到 rk 个字符是一个极长的无重复字符子串\n",
    "        return ans\n",
    "\n",
    "\n",
    "str = \"helloworld\"\n",
    "# str = \"a\"\n",
    "# str = \"abcabcbb\"\n",
    "sol = Solution()\n",
    "print(sol.lengthOfLongestSubstring(str))"
   ]
  },
  {
   "source": [
    "## 总结:\n",
    "** 重要 **\n",
    "<div color='r'>haha</div>\n",
    "\n",
    "使用官方的算法二比自己写的算法一在时间复杂度上要快太多了,关键是它采用的是一种滑动窗口的算法,复杂度是O(n),而自己的方法是接近双层遍历,复杂度要高出一个量级,复杂度为O(n*n).方法二打消了我的一个疑惑,就是它通过一个一个地添加和移除数列中的元素,以是否有重复元素为边界条件,构建一个动态的双指针,这种方法非常高明,有很大的借鉴意义。"
   ],
   "cell_type": "markdown",
   "metadata": {}
  },
  {
   "source": [
    "## 知识点:set()\n",
    "set()数据结构存储不重复的元素"
   ],
   "cell_type": "markdown",
   "metadata": {}
  },
  {
   "cell_type": "code",
   "execution_count": 3,
   "metadata": {},
   "outputs": [
    {
     "output_type": "stream",
     "name": "stdout",
     "text": [
      "{1, 2, 3}\n{1, 3}\n"
     ]
    }
   ],
   "source": [
    "occ = set()\n",
    "occ.add(2)\n",
    "occ.add(3)\n",
    "occ.add(1)\n",
    "print(occ)\n",
    "occ.remove(2)\n",
    "print(occ)"
   ]
  },
  {
   "source": [
    "# 395. 至少有K个重复字符的最长子串\n",
    "给你一个字符串s和一个整数k，请你找出s中的最长子串， 要求该子串中的每一字符出现次数都不少于k 。返回这一子串的长度。\n",
    "\n",
    "## 方法(精选)\n",
    "* 递归最基本的是记住递归函数的含义（务必牢记函数定义）：本题的 longestSubstring(s, k) 函数表示的就是题意，即求一个最长的子字符串的长度，该子字符串中每个字符出现的次数都最少为k。函数入参s 是表示源字符串；k是限制条件，即子字符串中每个字符最少出现的次数；函数返回结果是满足题意的最长子字符串长度。\n",
    "\n",
    "* 递归的终止条件（能直接写出的最简单 case）：如果字符串s 的长度少于k，那么一定不存在满足题意的子字符串，返回 0；\n",
    "\n",
    "* 调用递归（重点）：如果一个字符 cc 在 ss 中出现的次数少于 kk 次，那么 ss 中所有的包含 cc 的子字符串都不能满足题意。所以，应该在 ss 的所有不包含 cc 的子字符串中继续寻找结果：把 ss 按照 cc 分割（分割后每个子串都不包含 cc），得到很多子字符串 tt；下一步要求 tt 作为源字符串的时候，它的最长的满足题意的子字符串长度（到现在为止，我们把大问题分割为了小问题(ss → tt)）。此时我们发现，恰好已经定义了函数 longestSubstring(s, k) 就是来解决这个问题的！所以直接把 longestSubstring(s, k) 函数拿来用，于是形成了递归。\n",
    "\n",
    "* 未进入递归时的返回结果：如果 ss 中的每个字符出现的次数都大于 kk 次，那么 ss 就是我们要求的字符串，直接返回该字符串的长度。\n",
    "\n",
    "总之，通过上面的分析，我们看出了：我们不是为了递归而递归。而是因为我们把大问题拆解成了小问题，恰好有函数可以解决小问题，所以直接用这个函数。由于这个函数正好是本身，所以我们把此现象叫做递归。小问题是原因，递归是结果。而递归函数到底怎么一层层展开与终止的，不要用大脑去想，这是计算机干的事。我们只用把递归函数当做一个能解决问题的黑箱就够了，把更多的注意力放在拆解子问题、递归终止条件、递归函数的正确性上来。\n"
   ],
   "cell_type": "markdown",
   "metadata": {}
  },
  {
   "cell_type": "code",
   "execution_count": 22,
   "metadata": {},
   "outputs": [
    {
     "output_type": "stream",
     "name": "stdout",
     "text": [
      "2\n"
     ]
    }
   ],
   "source": [
    "class Solution(object):\n",
    "    def longestSubstring(self, s, k):\n",
    "        \"\"\"\n",
    "        :type s: str\n",
    "        :type k: int\n",
    "        :rtype: int\n",
    "        \"\"\"\n",
    "\n",
    "\n",
    "        '''方法(精选):递归法\n",
    "        重点：我们在调用递归函数的时候，把递归函数当做普通函数（黑箱）来调用，即明白该函数的\n",
    "        输入输出是什么，而不用管此函数内部在做什么。\n",
    "        这种方法的思路是利用题目的特点,采用递归和分治结合的方法,定义一个函数计算题目答案,在具体的执行上,通过遍历该字符串的元素集,判断是否在该字符串中每一个元素的数量都不小于k,如果均不小于K那么返回该字符串的长度,如果有小于k的那么满足要求的子串肯定不包含该元素,以该元素为分界点分割字符串并分别判断两个子字符串的满足题意的答案并且取较大的那个。\n",
    "        按照递归题的思路进行分析的话：\n",
    "        1.定义函数(只关心输入输出)，输入为字符串和k,输出为满足要求的最长子串长度\n",
    "        2.问题与子问题的关系(问题和子问题必须具有相同的解决思路和结束条件),这里采用分治法,将子问题设计为字符串进行分割后的子字符串\n",
    "        3.将步骤二表达出来\n",
    "        4.终止条件,如果该字符串长度小于k,那么返回0,如果字符串各个元素均满足数量不小于的要求,返回字符串长度,否则继续迭代\n",
    "        '''\n",
    "        if len(s) < k:\n",
    "            return 0\n",
    "        for c in set(s):\n",
    "            if s.count(c) < k:\n",
    "                return max(self.longestSubstring(t, k) for t in s.split(c))\n",
    "        return len(s)\n",
    "\n",
    "\n",
    "str = \"helloworld\"\n",
    "# str = \"a\"\n",
    "# str = \"abcabcbb\"\n",
    "sol = Solution()\n",
    "print(sol.longestSubstring(str, 2))"
   ]
  },
  {
   "cell_type": "code",
   "execution_count": 13,
   "metadata": {},
   "outputs": [
    {
     "output_type": "stream",
     "name": "stdout",
     "text": [
      "['h', 'lloworld']\n"
     ]
    }
   ],
   "source": [
    "str = \"helloworld\"\n",
    "print(str.split(\"e\"))"
   ]
  },
  {
   "cell_type": "code",
   "execution_count": null,
   "metadata": {},
   "outputs": [],
   "source": []
  },
  {
   "cell_type": "code",
   "execution_count": null,
   "metadata": {},
   "outputs": [],
   "source": []
  },
  {
   "cell_type": "code",
   "execution_count": null,
   "metadata": {},
   "outputs": [],
   "source": []
  },
  {
   "cell_type": "code",
   "execution_count": null,
   "metadata": {},
   "outputs": [],
   "source": []
  },
  {
   "cell_type": "code",
   "execution_count": null,
   "metadata": {},
   "outputs": [],
   "source": []
  },
  {
   "cell_type": "code",
   "execution_count": null,
   "metadata": {},
   "outputs": [],
   "source": []
  },
  {
   "cell_type": "code",
   "execution_count": null,
   "metadata": {},
   "outputs": [],
   "source": []
  },
  {
   "cell_type": "code",
   "execution_count": null,
   "metadata": {},
   "outputs": [],
   "source": []
  },
  {
   "cell_type": "code",
   "execution_count": null,
   "metadata": {},
   "outputs": [],
   "source": []
  },
  {
   "cell_type": "code",
   "execution_count": null,
   "metadata": {},
   "outputs": [],
   "source": []
  },
  {
   "cell_type": "code",
   "execution_count": null,
   "metadata": {},
   "outputs": [],
   "source": []
  },
  {
   "cell_type": "code",
   "execution_count": null,
   "metadata": {},
   "outputs": [],
   "source": []
  },
  {
   "cell_type": "code",
   "execution_count": null,
   "metadata": {},
   "outputs": [],
   "source": []
  },
  {
   "cell_type": "code",
   "execution_count": null,
   "metadata": {},
   "outputs": [],
   "source": []
  },
  {
   "cell_type": "code",
   "execution_count": null,
   "metadata": {},
   "outputs": [],
   "source": []
  },
  {
   "cell_type": "code",
   "execution_count": null,
   "metadata": {},
   "outputs": [],
   "source": []
  },
  {
   "cell_type": "code",
   "execution_count": null,
   "metadata": {},
   "outputs": [],
   "source": []
  },
  {
   "cell_type": "code",
   "execution_count": null,
   "metadata": {},
   "outputs": [],
   "source": []
  },
  {
   "cell_type": "code",
   "execution_count": null,
   "metadata": {},
   "outputs": [],
   "source": []
  },
  {
   "cell_type": "code",
   "execution_count": null,
   "metadata": {},
   "outputs": [],
   "source": []
  },
  {
   "cell_type": "code",
   "execution_count": null,
   "metadata": {},
   "outputs": [],
   "source": []
  },
  {
   "cell_type": "code",
   "execution_count": null,
   "metadata": {},
   "outputs": [],
   "source": []
  },
  {
   "cell_type": "code",
   "execution_count": null,
   "metadata": {},
   "outputs": [],
   "source": []
  },
  {
   "cell_type": "code",
   "execution_count": null,
   "metadata": {},
   "outputs": [],
   "source": []
  },
  {
   "cell_type": "code",
   "execution_count": null,
   "metadata": {},
   "outputs": [],
   "source": []
  },
  {
   "cell_type": "code",
   "execution_count": null,
   "metadata": {},
   "outputs": [],
   "source": []
  }
 ]
}