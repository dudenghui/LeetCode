{
 "metadata": {
  "language_info": {
   "codemirror_mode": {
    "name": "ipython",
    "version": 3
   },
   "file_extension": ".py",
   "mimetype": "text/x-python",
   "name": "python",
   "nbconvert_exporter": "python",
   "pygments_lexer": "ipython3",
   "version": "3.7.3"
  },
  "orig_nbformat": 2,
  "kernelspec": {
   "name": "python373jvsc74a57bd0b445a9a934c6138ffaa6e6c504878c62e56d3e974a500d266fd2c1470ca76961",
   "display_name": "Python 3.7.3 64-bit ('base': conda)"
  }
 },
 "nbformat": 4,
 "nbformat_minor": 2,
 "cells": [
  {
   "cell_type": "code",
   "execution_count": 136,
   "metadata": {},
   "outputs": [
    {
     "output_type": "stream",
     "name": "stdout",
     "text": [
      "[1, 2, 3, 3, 3, 4, 4, 6, 7]\n"
     ]
    }
   ],
   "source": [
    "# 排序算法\n",
    "class Sort:\n",
    "    '''冒泡\n",
    "    时间复杂度:O(n^2) 空间复杂度:O(1)\n",
    "    '''\n",
    "    def bubble_sort(self, array):\n",
    "        tem = 0\n",
    "        for i in range(len(array)-1,0,-1):\n",
    "            flag = 0\n",
    "            for j in range(0, i):\n",
    "                if array[j] > array[j+1]:\n",
    "                    tem = array[j]\n",
    "                    array[j] = array[j+1]\n",
    "                    array[j+1] = tem\n",
    "                    flag = 1 # flag为1表示有交换,排序没有结束\n",
    "            print(array, flag)\n",
    "            if flag == 0: return array\n",
    "    '''选择\n",
    "    时间复杂度:O(n^2) 空间复杂度:O(1)\n",
    "    '''\n",
    "    def select_sort(self, array):\n",
    "        for i in range(len(array),0,-1):\n",
    "            max_num = array[0]\n",
    "            index = 0\n",
    "            for j in range(0, i):\n",
    "                if array[j] > max_num:\n",
    "                    max_num = max(max_num, array[j])\n",
    "                    index = j\n",
    "            print(array, index, j)\n",
    "            array.append(array.pop(index))\n",
    "        array.reverse()\n",
    "        return array\n",
    "    '''插入\n",
    "    时间复杂度:O(n^2) 空间复杂度:O(1)\n",
    "    '''\n",
    "    def incert_sort(self, array):\n",
    "        for i in range(1, len(array)):\n",
    "            value = array[i]\n",
    "            pos = i\n",
    "            while pos > 0 and array[pos-1]>value:\n",
    "                array[pos] = array[pos-1]\n",
    "                pos -= 1\n",
    "            array[pos] = value\n",
    "        return array\n",
    "    '''归并\n",
    "    时间复杂度:O(nlog_{2}^{n}) 空间复杂度:O(n)\n",
    "    '''\n",
    "    def merge_sort(self, array):\n",
    "        self.sort(array, 0, len(array)-1)\n",
    "        return array\n",
    "\n",
    "    def sort(self, array, left, right):\n",
    "        if left < right: \n",
    "            middle = int((left + (right - 1)) / 2)      \n",
    "            self.sort(array, left, middle) \n",
    "            self.sort(array, middle+1, right) \n",
    "            self.merge(array, left, middle, right) \n",
    "\n",
    "    def merge(self, array, left, middle, right):\n",
    "        print(array, left, middle, right)\n",
    "        temp = [0]*(right-left+1)\n",
    "        i = left\n",
    "        j = middle + 1\n",
    "        k = 0\n",
    "        while i <= middle and j <= right:\n",
    "            if array[i] <= array[j]: \n",
    "                temp[k] = array[i]\n",
    "                k += 1\n",
    "                i += 1\n",
    "            else:\n",
    "                temp[k] = array[j]    \n",
    "                k += 1\n",
    "                j += 1\n",
    "        while i <= middle: # 补充左半部分\n",
    "            temp[k] = array[i] \n",
    "            k += 1\n",
    "            i += 1  \n",
    "        while j <= right: # 补充右半部分\n",
    "            temp[k] = array[j] \n",
    "            k += 1\n",
    "            j += 1\n",
    "        for i in range(0, k):\n",
    "            array[left+i] = temp[i] # 排序数据替换\n",
    "\n",
    "    '''快速排序\n",
    "    时间复杂度:O(nlog2n) 空间复杂度:O(log2n)    \n",
    "    '''\n",
    "    def fast_sort(self, array):\n",
    "        self.qsort(array, 0, len(array)-1)\n",
    "        return array\n",
    "\n",
    "    def qsort(self, array, left, right):\n",
    "        if left < right:\n",
    "            pivot = self.partition(array, left, right)\n",
    "            self.qsort(array, left, pivot-1)\n",
    "            self.qsort(array, pivot+1, right)\n",
    "\n",
    "    def partition(self, array, left, right):\n",
    "        pivot = array[left] # 基准\n",
    "        while left < right:\n",
    "            while left < right and array[right] >= pivot:\n",
    "                right -= 1\n",
    "            array[left] = array[right]\n",
    "            while left < right and array[left] <= pivot:\n",
    "                left += 1\n",
    "            array[right] = array[left]\n",
    "        array[left] = pivot\n",
    "        return left\n",
    "    '''堆排序\n",
    "    时间复杂度:O() 空间复杂度:O()\n",
    "    '''\n",
    "    def heapify(self, array, n, i): \n",
    "        largest = i  \n",
    "        l = 2 * i + 1     # left = 2*i + 1 \n",
    "        r = 2 * i + 2     # right = 2*i + 2 \n",
    "        if l < n and array[i] < array[l]: \n",
    "            largest = l   \n",
    "        if r < n and array[largest] < array[r]: \n",
    "            largest = r   \n",
    "        if largest != i: \n",
    "            array[i], array[largest] = array[largest], array[i]  # 交换\n",
    "            self.heapify(array, n, largest) \n",
    "    \n",
    "    def heap_sort(self, array): \n",
    "        n = len(array)\n",
    "        # Build a maxheap. \n",
    "        for i in range(n, -1, -1): \n",
    "            self.heapify(array, n, i) \n",
    "        # 一个个交换元素\n",
    "        for i in range(n-1, 0, -1): \n",
    "            array[i], array[0] = array[0], array[i]   # 交换\n",
    "            self.heapify(array, i, 0) \n",
    "        return array\n",
    "        \n",
    "\n",
    "                \n",
    "array = [2,4,1,3,3,6,7,4,3]\n",
    "sort = Sort()\n",
    "# print(sort.bubble_sort(array)) # 冒泡\n",
    "# print(sort.select_sort(array)) # 选择\n",
    "# print(sort.incert_sort(array)) # 插入\n",
    "# print(sort.merge_sort(array)) # 归并\n",
    "# print(sort.fast_sort(array)) # 快速\n",
    "print(sort.heap_sort(array)) # 堆\n"
   ]
  },
  {
   "source": [
    "## 注意:我的归并排序是按照java改的,其中用到j++的操作,在java中意思是先赋值再对数加一,但是我在改的时候把加一这个环节放在了前边,自然会造成很多的错误,往往这些小细节也是最考验人的"
   ],
   "cell_type": "markdown",
   "metadata": {}
  },
  {
   "cell_type": "code",
   "execution_count": 99,
   "metadata": {},
   "outputs": [
    {
     "output_type": "stream",
     "name": "stdout",
     "text": [
      "[3]\n"
     ]
    }
   ],
   "source": [
    "k = [1,2,3,4,5]\n",
    "print(k[2:3])"
   ]
  },
  {
   "source": [
    "## 区间题\n",
    "\n",
    "对于区间S1=\\[l1,r1]和S2=\\[l2,r2]，如果它们之间没有重叠（没有交集），说明要么S1在S2的左侧，此时有 r1<l2；要么S1在S2的右侧，此时有l1>r2。​如果r1<l2和l1>r2二者均不满足,说明S1和S2必定有交集，它们的交集即为\\[max(l1,l2),min(r1,r2)]并集即为\\[min(l1,l2),max(r1,r2)]\n",
    "\n",
    "\n"
   ],
   "cell_type": "markdown",
   "metadata": {}
  },
  {
   "source": [
    "# 56. 合并区间\n",
    "\n",
    "以数组 intervals 表示若干个区间的集合，其中单个区间为 intervals\\[i] = \\[start\\[i], end\\[i]] 。请你合并所有重叠的区间，并返回一个不重叠的区间数组，该数组需恰好覆盖输入中的所有区间。\n"
   ],
   "cell_type": "markdown",
   "metadata": {}
  },
  {
   "cell_type": "code",
   "execution_count": 4,
   "metadata": {},
   "outputs": [
    {
     "output_type": "stream",
     "name": "stdout",
     "text": [
      "[[1, 5], [6, 9]]\n"
     ]
    }
   ],
   "source": [
    "class Solution:\n",
    "    def merge(self, intervals):\n",
    "        '''方法一(官方):排序\n",
    "        1.按照左端点排序,用数组merged存储最终的答案\n",
    "        2.将第一个区间加入merge数组,按顺序依次遍历每个区间\n",
    "        3.如果当前区间左端点在数组merge最后一个区间右端点之后,那么直接添加\n",
    "        4.如果当前区间左端点不在merge最后一个区间右端点之后,则合并当前区间,\n",
    "        将merge最后一个端点改为两个区间右端点的最大值\n",
    "        '''\n",
    "        intervals.sort(key=lambda x: x[0])\n",
    "        merged = []\n",
    "        for interval in intervals:\n",
    "            # 如果列表为空，或者当前区间与上一区间不重合，直接添加\n",
    "            if not merged or merged[-1][1] < interval[0]:\n",
    "                merged.append(interval)\n",
    "            # 否则的话，我们就可以与上一区间进行合并\n",
    "            else:               \n",
    "                merged[-1][1] = max(merged[-1][1], interval[1])\n",
    "        return merged\n",
    "\n",
    "intervals = [[1,3],[2,5],[6,7],[7,9]]\n",
    "sol = Solution()\n",
    "print(sol.merge(intervals))"
   ]
  },
  {
   "source": [
    "# 57. 插入区间\n",
    "给你一个无重叠的，按照区间起始端点排序的区间列表。在列表中插入一个新的区间，你需要确保列表中的区间仍然有序且不重叠（如果有必要的话，可以合并区间）。\n",
    "\n",
    "\n"
   ],
   "cell_type": "markdown",
   "metadata": {}
  },
  {
   "cell_type": "code",
   "execution_count": 196,
   "metadata": {},
   "outputs": [
    {
     "output_type": "stream",
     "name": "stdout",
     "text": [
      "[[6, 15], [16, 17]]\n"
     ]
    }
   ],
   "source": [
    "class Solution(object):\n",
    "    def insert(self, intervals, newInterval):\n",
    "        '''方法一(self):先双指针找到是否有重叠及重叠范围,再进行合并\n",
    "        不周全,对于有些输入不能得到正确的输出\n",
    "        '''\n",
    "        # if not newInterval:\n",
    "        #     return intervals\n",
    "        # if not intervals:\n",
    "        #     return [newInterval]\n",
    "        # n = len(intervals)\n",
    "        # l, r = 0, n-1\n",
    "        # if l == r:\n",
    "        #     if intervals[l][0] > newInterval[1]:\n",
    "        #         intervals.insert(l, newInterval)\n",
    "        #         return intervals\n",
    "        #     if intervals[l][1] < newInterval[0]:\n",
    "        #         intervals.insert(l+1, newInterval)\n",
    "        #         return intervals\n",
    "        # flag = 1\n",
    "        # while l < r and flag==1:\n",
    "        #     flag = 0\n",
    "        #     if intervals[l][1] < newInterval[0]:\n",
    "        #         l += 1\n",
    "        #         flag = 1\n",
    "        #     if intervals[r][0] > newInterval[1]:\n",
    "        #         r -= 1\n",
    "        #         flag = 1\n",
    "        # if l > r:\n",
    "        #     intervals.insert(l, newInterval)\n",
    "        # else:\n",
    "        #     temp = [min(intervals[l][0], newInterval[0]), max(intervals[r][1], newInterval[1])]\n",
    "        #     for i in range(r-l+1):\n",
    "        #         intervals.pop(l)\n",
    "        #     intervals.insert(l, temp)\n",
    "        # return intervals\n",
    "        '''方法二(官方):模拟\n",
    "        时间复杂度:O(n) 空间复杂度:O(1)\n",
    "        '''\n",
    "        left, right = newInterval\n",
    "        placed = False\n",
    "        ans = list()\n",
    "        for li, ri in intervals:\n",
    "            '''有且只有以下三种情况:'''\n",
    "            if li > right:\n",
    "                # 在插入区间的右侧且无交集\n",
    "                if not placed:\n",
    "                    ans.append([left, right])\n",
    "                    placed = True\n",
    "                ans.append([li, ri])\n",
    "            elif ri < left:\n",
    "                # 在插入区间的左侧且无交集\n",
    "                ans.append([li, ri])\n",
    "            else:\n",
    "                # 与插入区间有交集，计算它们的并集\n",
    "                left = min(left, li)\n",
    "                right = max(right, ri)\n",
    "        if not placed:\n",
    "            ans.append([left, right])\n",
    "        return ans\n",
    "\n",
    "\n",
    "\n",
    "intervals = [[8,15],[16,17]]\n",
    "newInterval = [6,8]\n",
    "sol = Solution()\n",
    "print(sol.insert(intervals, newInterval))"
   ]
  },
  {
   "source": [
    "# 75. 颜色分类\n",
    "\n",
    "给定一个包含红色、白色和蓝色，一共n个元素的数组，原地对它们进行排序，使得相同颜色的元素相邻，并按照红色、白色、蓝色顺序排列。此题中，我们使用整数 0、 1 和 2 分别表示红色、白色和蓝色。\n"
   ],
   "cell_type": "markdown",
   "metadata": {}
  },
  {
   "cell_type": "code",
   "execution_count": 213,
   "metadata": {},
   "outputs": [
    {
     "output_type": "stream",
     "name": "stdout",
     "text": [
      "[0, 0, 1, 1, 2, 2]\n"
     ]
    }
   ],
   "source": [
    "class Solution(object):\n",
    "    def sortColors(self, nums):\n",
    "        \"\"\"\n",
    "        :type nums: List[int]\n",
    "        :rtype: None Do not return anything, modify nums in-place instead.\n",
    "        \"\"\"\n",
    "        '''一个中等难度的题会让你这么做吗?题目的意思是让你在原来的数组上修改'''\n",
    "        # l0 = []\n",
    "        # l1 = []\n",
    "        # l2 = []\n",
    "        # for num in nums:\n",
    "        #     if num == 0: l0.append(num)\n",
    "        #     elif num == 1: l1.append(num)\n",
    "        #     elif num == 2: l2.append(num)\n",
    "        # return l0+l1+l2\n",
    "        '''方法二(官方):'''\n",
    "        n0 = 0\n",
    "        n1 = 0\n",
    "        for i, num in enumerate(nums):\n",
    "            nums[i] = 2\n",
    "            if num < 2:\n",
    "                nums[n1] = 1\n",
    "                n1 += 1\n",
    "            if num < 1:\n",
    "                nums[n0] = 0\n",
    "                n0 += 1\n",
    "        '''方法三(官方):单指针'''\n",
    "        n = len(nums)\n",
    "        ptr = 0\n",
    "        for i in range(n):\n",
    "            if nums[i] == 0:\n",
    "                nums[i], nums[ptr] = nums[ptr], nums[i]\n",
    "                ptr += 1\n",
    "        for i in range(ptr, n):\n",
    "            if nums[i] == 1:\n",
    "                nums[i], nums[ptr] = nums[ptr], nums[i]\n",
    "                ptr += 1\n",
    "        '''方法四(官方):双指针'''\n",
    "         n = len(nums)\n",
    "        p0 = p1 = 0\n",
    "        for i in range(n):\n",
    "            if nums[i] == 1:\n",
    "                nums[i], nums[p1] = nums[p1], nums[i]\n",
    "                p1 += 1\n",
    "            elif nums[i] == 0:\n",
    "                nums[i], nums[p0] = nums[p0], nums[i]\n",
    "                if p0 < p1:\n",
    "                    nums[i], nums[p1] = nums[p1], nums[i]\n",
    "                p0 += 1\n",
    "                p1 += 1\n",
    "\n",
    "nums = [2,0,2,1,1,0]\n",
    "sol = Solution()\n",
    "sol.sortColors(nums)\n",
    "print(nums)"
   ]
  },
  {
   "source": [
    "# 179. 最大数\n",
    "## 这道题的大体思路容易想到,但具体实施细节不容易\n",
    "\n",
    "给定一组非负整数 nums，重新排列每个数的顺序（每个数不可拆分）使之组成一个最大的整数。注意：输出结果可能非常大，所以你需要返回一个字符串而不是整数。\n",
    "\n",
    "我的思路:固定的位数进行排序,因此一定是位数越高数越大最好,首先比较每个数的第一位数大小,优先放第一位数大的那个数,如果有相同的数那么比较第二位数(如果有单位数则还要比较其他的第一位数)\n",
    "\n",
    "官方思路:要想组成最大的整数，一种直观的想法是把数值大的数放在高位。于是我们可以比较输入数组的每个元素的最高位，最高位相同的时候比较次高位，以此类推，完成排序，然后把它们拼接起来。这种排序方式对于输入数组 没有相同数字开头 的时候是有效的，例如 \\[45, 56, 81, 76, 123]。\n",
    "\n",
    "下面考虑输入数组 有相同数字开头 的情况，例如 \\[4,42]和 \\[4,45]。\n",
    "* 对于 \\[4,42]，比较 442 > 424，需要把4放在前面；\n",
    "* 对于 \\[4,45]，比较 445 < 454，需要把45放在前面。\n",
    "因此我们需要比较两个数不同的拼接顺序的结果，进而决定它们在结果中的排列顺序。\n",
    "\n",
    "由于需要拼接以后才能决定两个数在结果中的先后顺序，N个数就有N!种拼接的可能，我们是不是需要先得到 N个数的全排列以后，再选出最大的呢？答案是没有必要。** 上述排序规则满足传递性，两个元素比较就可以确定它们在排序以后的相对位置关系。**\n",
    "\n",
    "### 因此具体的解决思路是基于传统的排序方法,只不过是改变排序标准,从原来单纯地比较数字大小,变成现在比较两个元素组合之后的大小,通过这样的方式即可进行排序."
   ],
   "cell_type": "markdown",
   "metadata": {}
  },
  {
   "cell_type": "code",
   "execution_count": 101,
   "metadata": {},
   "outputs": [
    {
     "output_type": "stream",
     "name": "stdout",
     "text": [
      "665453212\n"
     ]
    }
   ],
   "source": [
    "class Solution(object):\n",
    "    def largestNumber(self, nums):\n",
    "        \"\"\"\n",
    "        :type nums: List[int]\n",
    "        :rtype: str\n",
    "        \"\"\"\n",
    "        '''方法一(self):按照首位进行排序,但是这种方法只是对于没有首位重复的输入有效'''\n",
    "        # for i in range(len(nums)):\n",
    "        #     nums[i] = str(nums[i])\n",
    "        # nums.sort(key=lambda x: int(x[0]), reverse=True)\n",
    "        # return nums\n",
    "\n",
    "        '''方法二(精选):用递归的方法'''\n",
    "#         def compare(x, y): return int(y+x) - int(x+y)\n",
    "#         nums = sorted(map(str, nums), key=cmp_to_key(compare))\n",
    "#         '''旧的sort函数接口接受一个类似于C的比较函数，根据两个参数的大小不同返回正、负或者0。新版本改用了key参数，将每个元素映射到一个key，然后用key的比较代替原来元素的比较，许多时候这样更方便，但是真的需要旧的比较函数接口的时候怎么办呢？这就需要cmp_to_key了，它接受一个比较函数，然后返回一个函数对象，这个函数调用后会为每个元素构造一个对象，这个返回对象作为key的时候，排序的结果，和使用比较函数是一样的。它相当于旧接口和新接口的转换器。什么原理呢？其实很巧妙，Python对象的比较过程可以用__lt__等函数重写，cmp_to_key的返回值也是一个重写了比较过程的对象，在调用自定义比较过程时会调用输入的比较函数，从而实现了设计目标。\n",
    "# '''\n",
    "#         return \"0\" if nums[0]==\"0\" else \"\".join(nums)\n",
    "\n",
    "        '''方法三(精选):\n",
    "        时间复杂度:O(n^2) 空间复杂度:O(1)\n",
    "        '''\n",
    "        # n=len(nums)\n",
    "        # nums=list(map(str,nums))\n",
    "        # print(nums)\n",
    "        # for i in range(n):\n",
    "        #     for j in range(i+1,n):\n",
    "        #         if nums[i]+nums[j]<nums[j]+nums[i]:\n",
    "        #             nums[i],nums[j]=nums[j],nums[i]\n",
    "        \n",
    "        # return str(int(\"\".join(nums)))\n",
    "\n",
    "        '''方法四(精选):循环小数法'''\n",
    "        # import math\n",
    "        # def fun(x):\n",
    "        #     if x==0:return 0\n",
    "        #     L=int(math.log10(x))+1\n",
    "        #     return x/(10**L-1)\n",
    "        # nums.sort(key=fun,reverse=True)\n",
    "        # nums=list(map(str,nums))\n",
    "        # return str(int(\"\".join(nums)))\n",
    "        '''方法五(self)'''\n",
    "        # nums = list(map(str, nums))\n",
    "        # def compare(x, y):\n",
    "        #     x = x+y\n",
    "        #     y = y+x\n",
    "        #     return int(x)-int(y)\n",
    "        # from functools import cmp_to_key\n",
    "        # nums = sorted(nums, key=cmp_to_key(lambda x, y: compare(x, y)), reverse = True)\n",
    "        # return str(int(\"\".join(nums)))\n",
    "        '''(精选)方法五的小变化'''\n",
    "        strs = map(str, nums)\n",
    "        def cmp(a, b):\n",
    "            if a + b == b + a: return 0\n",
    "            elif a + b > b + a: return 1\n",
    "            else: return -1\n",
    "        import functools\n",
    "        strs = sorted(strs, key=functools.cmp_to_key(cmp), reverse=True)\n",
    "        return ''.join(strs) if strs[0] != '0' else '0'\n",
    "\n",
    "nums = [12,2,45,3,6,65]\n",
    "# nums = [0,0]\n",
    "sol = Solution()\n",
    "print(sol.largestNumber(nums))"
   ]
  },
  {
   "cell_type": "code",
   "execution_count": 16,
   "metadata": {},
   "outputs": [
    {
     "output_type": "stream",
     "name": "stdout",
     "text": [
      "['1', '23', '3']\nr-u-n-o-o-b\nrunoob\n"
     ]
    }
   ],
   "source": [
    "'''map() 会根据提供的函数对指定序列做映射。第一个参数 function 以参数序列中的每一个元素调用 function 函数，返回包含每次 function 函数返回值的新列表。\n",
    "'''\n",
    "print(list(map(str,[1,23,3]))) # \n",
    "'''str.join(sequence)用于将序列中的元素以指定的字符连接生成一个新的字符串。\n",
    "'''\n",
    "s1 = \"-\"\n",
    "s2 = \"\"\n",
    "seq = (\"r\", \"u\", \"n\", \"o\", \"o\", \"b\") # 字符串序列\n",
    "print (s1.join( seq ))\n",
    "print (s2.join( seq ))"
   ]
  },
  {
   "cell_type": "code",
   "execution_count": 105,
   "metadata": {},
   "outputs": [
    {
     "output_type": "execute_result",
     "data": {
      "text/plain": [
       "1"
      ]
     },
     "metadata": {},
     "execution_count": 105
    }
   ],
   "source": [
    "1"
   ]
  },
  {
   "cell_type": "code",
   "execution_count": null,
   "metadata": {},
   "outputs": [],
   "source": []
  },
  {
   "cell_type": "code",
   "execution_count": null,
   "metadata": {},
   "outputs": [],
   "source": []
  },
  {
   "cell_type": "code",
   "execution_count": null,
   "metadata": {},
   "outputs": [],
   "source": []
  },
  {
   "cell_type": "code",
   "execution_count": null,
   "metadata": {},
   "outputs": [],
   "source": []
  },
  {
   "cell_type": "code",
   "execution_count": null,
   "metadata": {},
   "outputs": [],
   "source": []
  }
 ]
}