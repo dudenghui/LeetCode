{
 "metadata": {
  "language_info": {
   "codemirror_mode": {
    "name": "ipython",
    "version": 3
   },
   "file_extension": ".py",
   "mimetype": "text/x-python",
   "name": "python",
   "nbconvert_exporter": "python",
   "pygments_lexer": "ipython3",
   "version": "3.7.3"
  },
  "orig_nbformat": 2,
  "kernelspec": {
   "name": "python373jvsc74a57bd0b445a9a934c6138ffaa6e6c504878c62e56d3e974a500d266fd2c1470ca76961",
   "display_name": "Python 3.7.3 64-bit (conda)"
  }
 },
 "nbformat": 4,
 "nbformat_minor": 2,
 "cells": [
  {
   "cell_type": "code",
   "execution_count": null,
   "metadata": {},
   "outputs": [],
   "source": []
  },
  {
   "source": [
    "# 链表:基于连接技术实现的线性表称为连接表或者链表 [链接](https://leetcode-cn.com/tag/linked-list/problemset/)\n",
    "\n",
    "采用链接技术实现线性表的想法为:\n",
    "1. 把表中的元素分别存储在一批独立的存储块(表的节点).\n",
    "2. 保证组成表结构中的任一个节点可找到与其相关的下一个节点.\n",
    "3. 在前一个节点里用连接的方式显示地记录与下一个节点的关联.\n",
    "\n",
    "## 单链表\n",
    "单向链接表节点是一个二元组,其表元素域保存着同一个表里的下一个节点的标识.\n",
    "\n",
    "* 单链表由一些具体的表节点构成\n",
    "* 每一个节点是一个对象,有自己的标识,下面也常称其为该节点的链接\n",
    "* 节点之间通过节点链接建立起单向的顺序关系\n",
    "* 为了表示一个链表的结束,只需给表的最后节点的链接域设置一个不会作为节点对象标识的值(空链接)\n",
    "\n",
    "### 基于链表的操作:\n",
    "1. 创建空链表:把表头变量设置为空链接\n",
    "2. 删除链表:丢弃这个链表里所有的节点\n",
    "3. 判断表是否为空:将表头变量的值与空链表进行比较\n",
    "4. 判断表是否满\n",
    "### 加入元素\n",
    "1. 表首端插入:把新数据元素插入表中,作为表的第一个元素.这一个操作包含三步:\n",
    "* 创建新节点并存入数据\n",
    "* 把原链表首节点的链接存入新节点的链接域next\n",
    "* 修改表头变量,使之指向新节点\n",
    "2. 一般情况下的元素插入:在某一位置插入一个新节点,必须找到该位置之前的那个节点,修改它的next域\n",
    "* 创建新节点并存入数据\n",
    "* 把pre所指结点next域的值存入新结点的链接域next\n",
    "* 修改pre的next域,使之指向新结点\n",
    "### 删除元素\n",
    "1. 删除表首元素\n",
    "2. 一般情况的元素删除\n",
    "### 扫描、定位和遍历\n",
    "1. 扫描：由于单链表只有一个方向的链接,开始情况只有表头变量在掌握中,所以对单链表内容的一切检查都只能从表头变量开始,沿着表中链接逐步进行.\n",
    "2. 按下表定位\n",
    "3. 按元素定位\n",
    "\n",
    "### 链表操作复杂度\n",
    "1. 创建空表:O(1)\n",
    "2. 删除表:O(1)\n",
    "3. 判断表是否为空\n",
    "4. 加入元素\n",
    "* 首端:O(1)\n",
    "* 尾端和定位:O(n)\n",
    "5. 删除元素\n",
    "* 首端:O(1)\n",
    "* 尾端和定位:O(n)\n",
    "\n",
    "### 求表的长度\n",
    "采用扫描的方式,遍历所有节点完成计数\n"
   ],
   "cell_type": "markdown",
   "metadata": {}
  },
  {
   "source": [
    "## 单链表的实现"
   ],
   "cell_type": "markdown",
   "metadata": {}
  },
  {
   "cell_type": "code",
   "execution_count": 99,
   "metadata": {},
   "outputs": [
    {
     "output_type": "stream",
     "name": "stdout",
     "text": [
      "9\nFalse\n10\n10\n"
     ]
    }
   ],
   "source": [
    "from LinkList import * \n",
    "\n",
    "llist = LinkList()\n",
    "data = [1,2,3,4,5,6,7,8,9]\n",
    "llist.initlist_tail(data)\n",
    "print(llist.length)\n",
    "print(llist.isEmpty())\n",
    "llist.append(2)\n",
    "print(llist.length)\n",
    "llist.delete(2)\n",
    "print(llist.length)\n"
   ]
  },
  {
   "source": [
    "# 2. [两数相加]()\n",
    "\n",
    "给你两个`非空`的链表，表示两个非负的整数。它们每位数字都是按照 逆序 的方式存储的，并且每个节点只能存储 一位 数字。\n",
    "\n",
    "请你将两个数相加，并以相同形式返回一个表示和的链表。\n",
    "\n",
    "你可以假设除了数字 0 之外，这两个数都不会以 0 开头。\n",
    "\n"
   ],
   "cell_type": "markdown",
   "metadata": {}
  },
  {
   "cell_type": "code",
   "execution_count": 98,
   "metadata": {},
   "outputs": [
    {
     "output_type": "stream",
     "name": "stdout",
     "text": [
      "7\n0\n0\n0\n1\n"
     ]
    }
   ],
   "source": [
    "# Definition for singly-linked list.\n",
    "class ListNode(object):\n",
    "    def __init__(self, val=0, next=None):\n",
    "        self.val = val\n",
    "        self.next = next\n",
    "\n",
    "class LinkList(object):\n",
    "    def __init__(self):\n",
    "        self.head = None\n",
    "        self.length = 0\n",
    "\n",
    "    def initlist_tail(self, data):\n",
    "        self.head = ListNode(data[0])\n",
    "        pnext = self.head\n",
    "        for i in data[1:]:\n",
    "            node = ListNode(i)\n",
    "            pnext.next = node\n",
    "            pnext = pnext.next\n",
    "        self.length = len(data)\n",
    "    \n",
    "    def add_tail(self, node_or_val):\n",
    "        \n",
    "        if isinstance(node_or_val, ListNode):\n",
    "            item = node_or_val\n",
    "        else:\n",
    "            item = ListNode(node_or_val)\n",
    "\n",
    "        if self.head:\n",
    "            tail = self.find(self.length-1)\n",
    "            tail.next = item\n",
    "        else:\n",
    "            self.head = item    \n",
    "        self.length += 1\n",
    "        \n",
    "    def find(self, index):\n",
    "        '''根据索引index返回对应节点'''\n",
    "        if index < self.length:\n",
    "            if self.head:\n",
    "                if index == 0:\n",
    "                    return self.head\n",
    "                pnext = self.head\n",
    "                for i in range(index):\n",
    "                    p = pnext.next\n",
    "                    pnext = p\n",
    "                return p\n",
    "            else:\n",
    "                raise AssertionError\n",
    "        else:\n",
    "            return ListNode(0)\n",
    "\n",
    "    \n",
    "class Solution(object):\n",
    "    def addTwoNumbers(self, l1, l2):\n",
    "        \"\"\"\n",
    "        :type l1: ListNode\n",
    "        :type l2: ListNode\n",
    "        :rtype: ListNode\n",
    "        \"\"\"\n",
    "        rtype = LinkList()\n",
    "        carry = 0 # 进位\n",
    "        for i in range(max(l1.length, l2.length)):\n",
    "            if carry:\n",
    "                sum = l1.find(i).val+l2.find(i).val+1\n",
    "            else:\n",
    "                sum = l1.find(i).val+l2.find(i).val\n",
    "            unit = int(sum)%10 # 本位\n",
    "            rtype.add_tail(unit)\n",
    "            carry = int(sum/10) # 进位\n",
    "            # print(unit, carry)\n",
    "        if carry:\n",
    "            rtype.add_tail(1)\n",
    "        return rtype\n",
    "\n",
    "llist1 = LinkList()\n",
    "llist2 = LinkList()\n",
    "llist1.initlist_tail([2,4,5])\n",
    "llist2.initlist_tail([5,6,4,9])\n",
    "sol = Solution()\n",
    "rtype = sol.addTwoNumbers(llist1, llist2)\n",
    "\n",
    "pnext = rtype.head\n",
    "print(pnext.val)\n",
    "for i in range(1, rtype.length):\n",
    "    p = pnext.next\n",
    "    print(p.val)\n",
    "    pnext = p\n"
   ]
  },
  {
   "source": [
    "### 写了老长时间,发现不符合题目规范,题目中是让根据给出的ListNode类解答,我直接编出了很多类\n",
    "```\n",
    "class ListNode:\n",
    "    def __init__(self, val=0, next=None):\n",
    "        self.val = val\n",
    "        self.next = next\n",
    "```"
   ],
   "cell_type": "markdown",
   "metadata": {}
  },
  {
   "cell_type": "code",
   "execution_count": 124,
   "metadata": {},
   "outputs": [
    {
     "output_type": "stream",
     "name": "stdout",
     "text": [
      "7\n8\n7\n2\n"
     ]
    }
   ],
   "source": [
    "class ListNode:\n",
    "    def __init__(self, val=0, next=None):\n",
    "        self.val = val\n",
    "        self.next = next\n",
    "\n",
    "class Solution:\n",
    "    def addTwoNumbers(self, l1, l2):\n",
    "        carry = 0\n",
    "        ret = ListNode()\n",
    "        tmp = ret\n",
    "        while l1 or l2 or carry:\n",
    "            num = 0\n",
    "            if l1:\n",
    "                num += l1.val\n",
    "                l1 = l1.next\n",
    "            if l2:\n",
    "                num += l2.val\n",
    "                l2 = l2.next\n",
    "            if carry:\n",
    "                num += carry\n",
    "                carry = 0\n",
    "            carry, num = divmod(num, 10)\n",
    "            tmp.next = ListNode(num)\n",
    "            tmp = tmp.next\n",
    "        return ret.next\n",
    "\n",
    "list1 = [2,5,6]\n",
    "list2 = [5,3,1,2]\n",
    "l1 = ListNode(list1[0])\n",
    "pnext = l1\n",
    "for i in list1[1:]:\n",
    "    pnext.next = ListNode(i)\n",
    "    pnext = pnext.next\n",
    "l2 = ListNode(list2[0])\n",
    "pnext = l2\n",
    "for i in list2[1:]:\n",
    "    pnext.next = ListNode(i)\n",
    "    pnext = pnext.next\n",
    "\n",
    "sol = Solution()\n",
    "rtype = sol.addTwoNumbers(l1, l2)\n",
    "pnext = rtype\n",
    "print(pnext.val)\n",
    "while pnext.next:\n",
    "    p = pnext.next\n",
    "    print(p.val)\n",
    "    pnext = p"
   ]
  },
  {
   "cell_type": "code",
   "execution_count": null,
   "metadata": {},
   "outputs": [],
   "source": [
    "# Java代码\n",
    "/**\n",
    " * Definition for singly-linked list.\n",
    " * public class ListNode {\n",
    " *     int val;\n",
    " *     ListNode next;\n",
    " *     ListNode() {}\n",
    " *     ListNode(int val) { this.val = val; }\n",
    " *     ListNode(int val, ListNode next) { this.val = val; this.next = next; }\n",
    " * }\n",
    " */\n",
    "class Solution {\n",
    "    public ListNode addTwoNumbers(ListNode l1, ListNode l2) {\n",
    "        ListNode head = null, tail = null;\n",
    "        int carry = 0;\n",
    "        while (l1 != null || l2 != null) {\n",
    "            int n1 = l1 != null ? l1.val : 0;\n",
    "            int n2 = l2 != null ? l2.val : 0;\n",
    "            int sum = n1 + n2 + carry;\n",
    "            if (head == null) {\n",
    "                head = tail = new ListNode(sum % 10);\n",
    "            } else {\n",
    "                tail.next = new ListNode(sum % 10);\n",
    "                tail = tail.next;\n",
    "            }\n",
    "            carry = sum / 10;\n",
    "            if (l1 != null) {\n",
    "                l1 = l1.next;\n",
    "            }\n",
    "            if (l2 != null) {\n",
    "                l2 = l2.next;\n",
    "            }\n",
    "        }\n",
    "        if (carry > 0) {\n",
    "            tail.next = new ListNode(carry);\n",
    "        }\n",
    "        return head;\n",
    "    }\n",
    "}\n"
   ]
  },
  {
   "source": [
    "# 21. 合并两个有序链表\n",
    "将两个升序链表合并为一个新的 升序 链表并返回。新链表是通过拼接给定的两个链表的所有节点组成的。"
   ],
   "cell_type": "markdown",
   "metadata": {}
  },
  {
   "cell_type": "code",
   "execution_count": 4,
   "metadata": {},
   "outputs": [
    {
     "output_type": "stream",
     "name": "stdout",
     "text": [
      "1\n2\n2\n3\n4\n5\n6\n9\n"
     ]
    }
   ],
   "source": [
    "class ListNode:\n",
    "    def __init__(self, val=0, next=None):\n",
    "        self.val = val\n",
    "        self.next = next\n",
    "class Solution:\n",
    "    def mergeTwoLists(self, l1, l2):\n",
    "        '''方法一(self)'''\n",
    "        ret = ListNode()\n",
    "        tmp = ret\n",
    "        while l1 or l2:\n",
    "            if l1 and l2:\n",
    "                if l1.val < l2.val:\n",
    "                    tmp.next = ListNode(l1.val)\n",
    "                    l1 = l1.next\n",
    "                else:\n",
    "                    tmp.next = ListNode(l2.val)\n",
    "                    l2 = l2.next\n",
    "            elif l1:\n",
    "                tmp.next = ListNode(l1.val)\n",
    "                l1 = l1.next\n",
    "            else:\n",
    "                tmp.next = ListNode(l2.val)\n",
    "                l2 = l2.next\n",
    "\n",
    "            tmp = tmp.next\n",
    "        return ret.next\n",
    "        '''方法二(官方)'''\n",
    "        head = ListNode(0)\n",
    "        last = head # 待输出链表的 last 结点\n",
    "        while l1 and l2:\n",
    "            if l1.val > l2.val:\n",
    "                last.next = l2\n",
    "                l2 = l2.next\n",
    "            else:\n",
    "                last.next = l1\n",
    "                l1 = l1.next\n",
    "            last = last.next\n",
    "        '''l1 或 l2 可能还有剩余结点没有合并， \n",
    "        由于从上面的 while 循环中退出， \n",
    "        那么链表 l1 和 l2 至少有一个已经遍历结束'''\n",
    "        last.next = l1 if l1 else l2\n",
    "\n",
    "        return head.next\n",
    "\n",
    "list1 = [1,2,5,6]\n",
    "list2 = [2,3,4,9]\n",
    "l1 = ListNode(list1[0])\n",
    "pnext = l1\n",
    "for i in list1[1:]:\n",
    "    pnext.next = ListNode(i)\n",
    "    pnext = pnext.next\n",
    "l2 = ListNode(list2[0])\n",
    "pnext = l2\n",
    "for i in list2[1:]:\n",
    "    pnext.next = ListNode(i)\n",
    "    pnext = pnext.next\n",
    "\n",
    "sol = Solution()\n",
    "rtype = sol.mergeTwoLists(l1, l2)\n",
    "pnext = rtype\n",
    "print(pnext.val)\n",
    "while pnext.next:\n",
    "    pnext = pnext.next\n",
    "    print(pnext.val)"
   ]
  },
  {
   "source": [
    "# 22. 合并K个升序链表 [链接](https://leetcode-cn.com/problems/merge-k-sorted-lists/solution/he-bing-kge-pai-xu-lian-biao-by-leetcode-solutio-2/)\n",
    "给你一个链表数组，每个链表都已经按升序排列。请你将所有链表合并到一个升序链表中，返回合并后的链表。\n",
    "\n",
    "## 方法一:顺序合并\n",
    "\n",
    "我们可以想到一种最朴素的方法：用一个变量 ans 来维护以及合并的链表，第 i 次循环把第 i 个链表和 ans 合并，答案保存到 ans 中\n",
    "\n",
    "复杂度分析\n",
    "* 时间复杂度：O(k*k*n)。\n",
    "* 空间复杂度：没有用到与 k 和 n 规模相关的辅助空间，故渐进空间复杂度为 O(1)。\n",
    "\n"
   ],
   "cell_type": "markdown",
   "metadata": {}
  },
  {
   "source": [
    "## 方法二:分治合并\n",
    "\n",
    "考虑优化方法一，用分治的方法进行合并。\n",
    "\n",
    "* 将 kk 个链表配对并将同一对中的链表合并；\n",
    "* 第一轮合并以后， kk 个链表被合并成了k/2 个链表，平均长度为2n/k，然后是k/4 个链表，k/8 个链表等等；\n",
    "* 重复这一过程，直到我们得到了最终的有序链表。\n"
   ],
   "cell_type": "markdown",
   "metadata": {}
  },
  {
   "cell_type": "code",
   "execution_count": null,
   "metadata": {},
   "outputs": [],
   "source": [
    "## 方法三:使用优先队列合并\n",
    "我们需要维护当前每个链表没有被合并的元素的最前面一个，k个链表就最多有 k个满足这样条件的元素，每次在这些元素里面选取 val 属性最小的元素合并到答案中。在选取最小元素的时候，我们可以用优先队列来优化这个过程。\n",
    "\n"
   ]
  },
  {
   "cell_type": "code",
   "execution_count": 25,
   "metadata": {},
   "outputs": [
    {
     "output_type": "stream",
     "name": "stdout",
     "text": [
      "1\n3\n4\n4\n5\n34\n54\n67\n98\n"
     ]
    }
   ],
   "source": [
    "class ListNode:\n",
    "    def __init__(self, val=0, next=None):\n",
    "        self.val = val\n",
    "        self.next = next\n",
    "class Solution:\n",
    "    def mergeKLists(self, lists):\n",
    "\n",
    "        '''方法一(self):两两之间合成'''\n",
    "        # if not lists: # 一定要考虑列表为空时的边界条件\n",
    "        #     return None\n",
    "        # head = ListNode(0, lists[0])\n",
    "        # for i in range(1, len(lists)):\n",
    "        #     l1 = head.next\n",
    "        #     l2 = lists[i]\n",
    "\n",
    "        #     head = ListNode(0)\n",
    "        #     last = head # 待输出链表的 last 结点\n",
    "        #     while l1 and l2:\n",
    "        #         if l1.val > l2.val:\n",
    "        #             last.next = l2\n",
    "        #             l2 = l2.next\n",
    "        #         else:\n",
    "        #             last.next = l1\n",
    "        #             l1 = l1.next\n",
    "        #         last = last.next\n",
    "        #     last.next = l1 if l1 else l2\n",
    "        # return head.next\n",
    "\n",
    "        '''方法二(精选分治法):递归加归并'''\n",
    "        if not lists:return \n",
    "        n = len(lists)\n",
    "        return self.merge(lists, 0, n-1)\n",
    "    def merge(self,lists, left, right):\n",
    "        if left == right:\n",
    "            return lists[left]\n",
    "        mid = left + (right - left) // 2\n",
    "        l1 = self.merge(lists, left, mid)\n",
    "        l2 = self.merge(lists, mid+1, right)\n",
    "        return self.mergeTwoLists(l1, l2)\n",
    "    def mergeTwoLists(self,l1, l2):\n",
    "        if not l1:return l2\n",
    "        if not l2:return l1\n",
    "        if l1.val < l2.val:\n",
    "            l1.next = self.mergeTwoLists(l1.next, l2)\n",
    "            return l1\n",
    "        else:\n",
    "            l2.next = self.mergeTwoLists(l1, l2.next)\n",
    "            return l2\n",
    "\n",
    "\n",
    "def trans(list1):\n",
    "    l1 = ListNode(0)\n",
    "    pnext = l1\n",
    "    for i in list1:\n",
    "        pnext.next = ListNode(i)\n",
    "        pnext = pnext.next\n",
    "    return l1.next\n",
    "    \n",
    "l1 = [[1,4,5],[1,3,4],[34,54,67,98]]\n",
    "lists = [trans(l) for l in l1]\n",
    "sol = Solution()\n",
    "rtype = sol.mergeKLists(lists)\n",
    "pnext = rtype\n",
    "while pnext.next:\n",
    "    pnext = pnext.next\n",
    "    print(pnext.val)\n",
    "    "
   ]
  },
  {
   "cell_type": "code",
   "execution_count": 20,
   "metadata": {},
   "outputs": [
    {
     "output_type": "stream",
     "name": "stdout",
     "text": [
      "1\n"
     ]
    }
   ],
   "source": [
    "if not []:\n",
    "    print(1)"
   ]
  },
  {
   "source": [
    "# 19. 删除链表的倒数第 N 个结点\r\n",
    "给你一个链表，删除链表的倒数第 n 个结点，并且返回链表的头结点。\r\n",
    "\r\n",
    "进阶：你能尝试使用一趟扫描实现吗？"
   ],
   "cell_type": "markdown",
   "metadata": {}
  },
  {
   "source": [
    "## 方法一:计算链表长度\n",
    "一种容易想到的方法是，我们首先从头节点开始对链表进行一次遍历，得到链表的长度 L。随后我们再从头节点开始对链表进行一次遍历，当遍历到第 L-n+1 个节点时，它就是我们需要删除的节点。\n",
    "\n",
    "* 复杂度分析\n",
    "    - 时间复杂度：O(L)，其中 L 是链表的长度。\n",
    "    - 空间复杂度：O(1)。\n",
    "\n",
    "### 哑结点\n",
    "在对链表进行操作时，一种常用的技巧是添加一个哑节点（dummy node），它的 next指针指向链表的头节点。这样一来，我们就不需要对头节点进行特殊的判断了。\n",
    "\n",
    "例如当用例为\\[1\\]的时候"
   ],
   "cell_type": "markdown",
   "metadata": {}
  },
  {
   "cell_type": "code",
   "execution_count": 78,
   "metadata": {},
   "outputs": [
    {
     "output_type": "stream",
     "name": "stdout",
     "text": [
      "1\n3\n"
     ]
    }
   ],
   "source": [
    "class ListNode:\n",
    "    def __init__(self, val=0, next=None):\n",
    "        self.val = val\n",
    "        self.next = next\n",
    "class Solution:\n",
    "    def removeNthFromEnd(self, head: ListNode, n: int) -> ListNode:\n",
    "        '''方法一(self)'''\n",
    "        # lens = 0\n",
    "        # tmp = head\n",
    "        # while tmp:\n",
    "        #     lens += 1\n",
    "        #     tmp = tmp.next\n",
    "        # def removeFromHead(head: ListNode, index: int) -> ListNode:\n",
    "        #     if index == 1: return head.next\n",
    "        #     j = 1\n",
    "        #     node = head\n",
    "        #     prev = head\n",
    "        #     while node.next and j < index:\n",
    "        #         prev = node\n",
    "        #         node = node.next\n",
    "        #         j += 1\n",
    "        #     if j == index: prev.next = node.next\n",
    "        #     return head\n",
    "        # if lens > 1: return self.removeFromHead(head, lens-n+1)\n",
    "        # else: return None\n",
    "        \n",
    "        '''方法二(官方)'''\n",
    "        def getLength(head: ListNode) -> int:\n",
    "            length = 0\n",
    "            while head:\n",
    "                length += 1\n",
    "                head = head.next\n",
    "            return length\n",
    "        \n",
    "        dummy = ListNode(0, head)\n",
    "        length = getLength(head)\n",
    "        cur = dummy\n",
    "        for i in range(1, length - n + 1):\n",
    "            cur = cur.next\n",
    "        cur.next = cur.next.next\n",
    "        return dummy.next\n",
    "\n",
    "\n",
    "list1 = [1,2,3]\n",
    "l1 = ListNode(list1[0])\n",
    "pnext = l1\n",
    "for i in list1[1:]:\n",
    "    pnext.next = ListNode(i)\n",
    "    pnext = pnext.next\n",
    "\n",
    "sol = Solution()\n",
    "rtype = sol.removeNthFromEnd(l1, 2)\n",
    "pnext = rtype\n",
    "print(pnext.val)\n",
    "while pnext.next:\n",
    "    pnext = pnext.next\n",
    "    print(pnext.val)"
   ]
  },
  {
   "source": [
    "## 方法二:栈\n",
    "\n",
    "我们也可以在遍历链表的同时将所有节点依次入栈。根据栈「先进后出」的原则，我们弹出栈的第n个节点就是需要删除的节点，并且目前栈顶的节点就是待删除节点的前驱节点。这样一来，删除操作就变得十分方便了。\n",
    "\n",
    "复杂度分析\n",
    "* 时间复杂度：O(L)O(L)，其中 LL 是链表的长度。\n",
    "* 空间复杂度：O(L)O(L)，其中 LL 是链表的长度。主要为栈的开销。"
   ],
   "cell_type": "markdown",
   "metadata": {}
  },
  {
   "cell_type": "code",
   "execution_count": 84,
   "metadata": {},
   "outputs": [
    {
     "output_type": "stream",
     "name": "stdout",
     "text": [
      "5\n6\n"
     ]
    }
   ],
   "source": [
    "class Solution:\n",
    "    def removeNthFromEnd(self, head: ListNode, n: int) -> ListNode:\n",
    "        dummy = ListNode(0, head)\n",
    "        stack = list()\n",
    "        cur = dummy\n",
    "        while cur:\n",
    "            stack.append(cur)\n",
    "            cur = cur.next\n",
    "        for i in range(n):\n",
    "            stack.pop()\n",
    "\n",
    "        prev = stack[-1]\n",
    "        prev.next = prev.next.next\n",
    "        return dummy.next\n",
    "\n",
    "list1 = [5,6,7]\n",
    "l1 = ListNode(list1[0])\n",
    "pnext = l1\n",
    "for i in list1[1:]:\n",
    "    pnext.next = ListNode(i)\n",
    "    pnext = pnext.next\n",
    "\n",
    "sol = Solution()\n",
    "rtype = sol.removeNthFromEnd(l1, 1)\n",
    "pnext = rtype\n",
    "print(pnext.val)\n",
    "while pnext.next:\n",
    "    pnext = pnext.next\n",
    "    print(pnext.val)"
   ]
  },
  {
   "source": [
    "## 方法三:快慢双指针\n",
    "我们也可以在不预处理出链表的长度，以及使用常数空间的前提下解决本题。\n",
    "\n",
    "由于我们需要找到倒数第 nn 个节点，因此我们可以使用两个指针first和second同时对链表进行遍历，并且first比second超前nn个节点。当first遍历到链表的末尾时,second 就恰好处于倒数第 n 个节点。\n",
    "\n",
    "具体地，初始时first 和second 均指向头节点。我们首先使用first 对链表进行遍历，遍历的次数为 nn。此时，first 和second 之间间隔了n−1 个节点，即 first 比second超前了n个节点。\n",
    "\n",
    "在这之后，我们同时使用first 和second 对链表进行遍历。当first 遍历到链表的末尾（即first 为空指针）时，second 恰好指向倒数第n个节点。\n",
    "\n",
    "根据方法一和方法二，如果我们能够得到的是倒数第 nn 个节点的前驱节点而不是倒数第 nn 个节点的话，删除操作会更加方便。因此我们可以考虑在初始时将second 指向哑节点，其余的操作步骤不变。这样一来，当first 遍历到链表的末尾时,second 的下一个节点就是我们需要删除的节点。\n",
    "\n",
    "复杂度分析\n",
    "* 时间复杂度：O(L)O(L)，其中 LL 是链表的长度。\n",
    "* 空间复杂度：O(1)O(1)。"
   ],
   "cell_type": "markdown",
   "metadata": {}
  },
  {
   "cell_type": "code",
   "execution_count": 86,
   "metadata": {},
   "outputs": [
    {
     "output_type": "stream",
     "name": "stdout",
     "text": [
      "1\n2\n4\n5\n6\n"
     ]
    }
   ],
   "source": [
    "class Solution:\n",
    "    def removeNthFromEnd(self, head: ListNode, n: int) -> ListNode:\n",
    "        dummy = ListNode(0, head)\n",
    "        first = head\n",
    "        second = dummy\n",
    "        for i in range(n):\n",
    "            first = first.next\n",
    "        while first:\n",
    "            first = first.next\n",
    "            second = second.next\n",
    "        second.next = second.next.next\n",
    "        return dummy.next\n",
    "\n",
    "list1 = [1,2,4,5,6,7]\n",
    "l1 = ListNode(list1[0])\n",
    "pnext = l1\n",
    "for i in list1[1:]:\n",
    "    pnext.next = ListNode(i)\n",
    "    pnext = pnext.next\n",
    "\n",
    "sol = Solution()\n",
    "rtype = sol.removeNthFromEnd(l1, 1)\n",
    "pnext = rtype\n",
    "print(pnext.val)\n",
    "while pnext.next:\n",
    "    pnext = pnext.next\n",
    "    print(pnext.val)"
   ]
  },
  {
   "source": [
    "## 总结\n"
   ],
   "cell_type": "markdown",
   "metadata": {}
  },
  {
   "cell_type": "code",
   "execution_count": null,
   "metadata": {},
   "outputs": [],
   "source": []
  },
  {
   "cell_type": "code",
   "execution_count": null,
   "metadata": {},
   "outputs": [],
   "source": []
  },
  {
   "cell_type": "code",
   "execution_count": null,
   "metadata": {},
   "outputs": [],
   "source": []
  },
  {
   "cell_type": "code",
   "execution_count": null,
   "metadata": {},
   "outputs": [],
   "source": []
  },
  {
   "cell_type": "code",
   "execution_count": null,
   "metadata": {},
   "outputs": [],
   "source": []
  },
  {
   "cell_type": "code",
   "execution_count": null,
   "metadata": {},
   "outputs": [],
   "source": []
  },
  {
   "cell_type": "code",
   "execution_count": null,
   "metadata": {},
   "outputs": [],
   "source": []
  },
  {
   "cell_type": "code",
   "execution_count": null,
   "metadata": {},
   "outputs": [],
   "source": []
  },
  {
   "cell_type": "code",
   "execution_count": null,
   "metadata": {},
   "outputs": [],
   "source": []
  },
  {
   "cell_type": "code",
   "execution_count": null,
   "metadata": {},
   "outputs": [],
   "source": []
  },
  {
   "cell_type": "code",
   "execution_count": null,
   "metadata": {},
   "outputs": [],
   "source": []
  },
  {
   "cell_type": "code",
   "execution_count": null,
   "metadata": {},
   "outputs": [],
   "source": []
  },
  {
   "cell_type": "code",
   "execution_count": null,
   "metadata": {},
   "outputs": [],
   "source": []
  },
  {
   "cell_type": "code",
   "execution_count": null,
   "metadata": {},
   "outputs": [],
   "source": []
  },
  {
   "cell_type": "code",
   "execution_count": null,
   "metadata": {},
   "outputs": [],
   "source": []
  },
  {
   "cell_type": "code",
   "execution_count": null,
   "metadata": {},
   "outputs": [],
   "source": []
  },
  {
   "cell_type": "code",
   "execution_count": 112,
   "metadata": {},
   "outputs": [
    {
     "output_type": "error",
     "ename": "NameError",
     "evalue": "name 'Error' is not defined",
     "traceback": [
      "\u001b[1;31m---------------------------------------------------------------------------\u001b[0m",
      "\u001b[1;31mNameError\u001b[0m                                 Traceback (most recent call last)",
      "\u001b[1;32m<ipython-input-112-f0f6fedca864>\u001b[0m in \u001b[0;36m<module>\u001b[1;34m\u001b[0m\n\u001b[0;32m      1\u001b[0m \u001b[1;31m# assert False\u001b[0m\u001b[1;33m\u001b[0m\u001b[1;33m\u001b[0m\u001b[1;33m\u001b[0m\u001b[0m\n\u001b[1;32m----> 2\u001b[1;33m \u001b[1;32mraise\u001b[0m \u001b[0mError\u001b[0m\u001b[1;33m\u001b[0m\u001b[1;33m\u001b[0m\u001b[0m\n\u001b[0m",
      "\u001b[1;31mNameError\u001b[0m: name 'Error' is not defined"
     ]
    }
   ],
   "source": [
    "assert False # 断言\n",
    "raise Error # 报错\n",
    "try:\n",
    "    print(\"尝试这样做\")\n",
    "except IOError:\n",
    "    print(\"报不同的错误执行不同的策略\")\n",
    "else:\n",
    "    print(\"否则执行什么样的策略\")\n",
    "    "
   ]
  },
  {
   "cell_type": "code",
   "execution_count": 114,
   "metadata": {},
   "outputs": [
    {
     "output_type": "execute_result",
     "data": {
      "text/plain": [
       "(12, 1)"
      ]
     },
     "metadata": {},
     "execution_count": 114
    }
   ],
   "source": [
    "divmod(121, 10) # 返回商与余数"
   ]
  }
 ]
}