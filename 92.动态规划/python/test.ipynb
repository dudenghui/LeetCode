{
 "metadata": {
  "language_info": {
   "codemirror_mode": {
    "name": "ipython",
    "version": 3
   },
   "file_extension": ".py",
   "mimetype": "text/x-python",
   "name": "python",
   "nbconvert_exporter": "python",
   "pygments_lexer": "ipython3",
   "version": "3.7.3"
  },
  "orig_nbformat": 2,
  "kernelspec": {
   "name": "python373jvsc74a57bd0b445a9a934c6138ffaa6e6c504878c62e56d3e974a500d266fd2c1470ca76961",
   "display_name": "Python 3.7.3 64-bit ('base': conda)"
  }
 },
 "nbformat": 4,
 "nbformat_minor": 2,
 "cells": [
  {
   "cell_type": "code",
   "execution_count": null,
   "metadata": {},
   "outputs": [],
   "source": []
  },
  {
   "source": [
    "# 53. 最大子序和\n",
    "给定一个整数数组 nums ，找到一个具有最大和的连续子数组（子数组最少包含一个元素），返回其最大和。\n"
   ],
   "cell_type": "markdown",
   "metadata": {}
  },
  {
   "cell_type": "code",
   "execution_count": 3,
   "metadata": {},
   "outputs": [
    {
     "output_type": "stream",
     "name": "stdout",
     "text": [
      "1\n3\n0\n4\n7\n12\n10\n12\n"
     ]
    }
   ],
   "source": [
    "class Solution:\n",
    "    def maxSubArray(self, nums):\n",
    "        '''方法一(官方)\n",
    "        按照动态规划步骤分析:\n",
    "        1.建立状态转移方程,已知f(1)到f(n-1)的值如何求f(n)的值,f(n)=max(f(n-1)+n,n)\n",
    "        2.存储f(n)并按照顺序计算\n",
    "        '''\n",
    "        pre = 0\n",
    "        maxSum = nums[0]\n",
    "        for num in nums:\n",
    "            pre = max(num, pre+num)\n",
    "            # print(pre)\n",
    "            maxSum = max(pre, maxSum)\n",
    "        return maxSum\n",
    "\n",
    "sol = Solution()\n",
    "nums = [1,2,-3,4,3,5,-2]\n",
    "print(sol.maxSubArray(nums))"
   ]
  },
  {
   "cell_type": "code",
   "execution_count": 9,
   "metadata": {},
   "outputs": [
    {
     "output_type": "execute_result",
     "data": {
      "text/plain": [
       "3"
      ]
     },
     "metadata": {},
     "execution_count": 9
    }
   ],
   "source": [
    "# 96. 不同的二叉搜索树\n",
    "\n",
    " "
   ]
  },
  {
   "source": [
    "# 5. 最长回文子串\n",
    "给你一个字符串s，找到s中最长的回文子串。\n",
    "\n",
    "> 回文字符串特点:对于一个子串而言，如果它是回文串，并且长度大于 22，那么将它首尾的两个字母去除之后，它仍然是个回文串。例如对于字符串“ababa”，如果我们已经知道“bab” 是回文串，那么“ababa” 一定是回文串，这是因为它的首尾两个字母都是“a”。\n",
    "\n",
    "## 动态规划思路:\n",
    "使用二维数组P(i,j)表示i到j之间的子字符串是否为回文字符串,如果P(i,j)是回文字符串,那么P(i+1,j-1)也必定是回文字符串,反过来讲,只有在P(i+1,j-1)是回文字符串并且s[i]=s[j]的情况下P(i,j)才是回文字符串,因此可以建立P(i,j)与P(i+1,j-1)之间的状态转移方程,通过遍历i和j来寻找令P(i,j)为True的最大程度\n",
    "\n",
    "## 中心扩展法思路\n",
    "「边界情况」对应的子串实际上就是我们「扩展」出的回文串的「回文中心」。方法二的本质即为：我们枚举所有的「回文中心」并尝试「扩展」，直到无法扩展为止，此时的回文串长度即为此「回文中心」下的最长回文串长度。我们对所有的长度求出最大值，即可得到最终的答案。\n",
    "P(i,i)=True\n",
    "P(i,i+1)=(s[i]==s[i+1])\n",
    "P(i,i-1)=(s[i]==s[i-1])\n",
    "P(i,j)=P(i+1,j-1)and(s[i]==s[j])\n",
    "\n",
    "## [Manacher算法](https://leetcode-cn.com/problems/longest-palindromic-substring/solution/zui-chang-hui-wen-zi-chuan-by-leetcode-solution/)"
   ],
   "cell_type": "markdown",
   "metadata": {}
  },
  {
   "cell_type": "code",
   "execution_count": 42,
   "metadata": {},
   "outputs": [
    {
     "output_type": "stream",
     "name": "stdout",
     "text": [
      "dfd\n"
     ]
    }
   ],
   "source": [
    "class Solution(object):\n",
    "    def longestPalindrome(self, s):\n",
    "        \"\"\"\n",
    "        :type s: str\n",
    "        :rtype: str\n",
    "        \"\"\"\n",
    "        '''方法一(官方):动态规划\n",
    "        时间复杂度:O(n*n) 空间复杂度:O(n*n)\n",
    "        '''\n",
    "        # n = len(s)\n",
    "        # if n < 2: return s\n",
    "        # max_len = 1\n",
    "        # begin = 0\n",
    "        # # dp[i][j] 表示 s[i..j] 是否是回文串\n",
    "        # dp = [[False] * n] * n\n",
    "        # for i in range(n): dp[i][i] = True\n",
    "        # # 递推开始先枚举子串长度\n",
    "        # for L in range(2, n + 1):\n",
    "        #     # 枚举左边界，左边界的上限设置可以宽松一些\n",
    "        #     for i in range(n):\n",
    "        #         # 由 L 和 i 可以确定右边界，即 j - i + 1 = L 得\n",
    "        #         j = L + i - 1\n",
    "        #         if j >= n: break # 如果右边界越界，就可以退出当前循环                   \n",
    "        #         if s[i] != s[j]: dp[i][j] = False \n",
    "        #         else:\n",
    "        #             if j - i < 3: dp[i][j] = True\n",
    "        #             else: dp[i][j] = dp[i + 1][j - 1]\n",
    "        #         # dp[i][L] == true 成立，表示子串 s[i..L] 是回文，此时记录回文长度和起始位置\n",
    "        #         if dp[i][j] and j - i + 1 > max_len:\n",
    "        #             max_len = j - i + 1\n",
    "        #             begin = i\n",
    "        # return s[begin:begin + max_len]\n",
    "        '''方法二(官方):中心扩展算法\n",
    "        时间复杂度:O(n*n) 空间复杂度:O(1)\n",
    "        '''\n",
    "        start, end = 0, 0\n",
    "        for i in range(len(s)):\n",
    "            left1, right1 = self.expandAroundCenter(s, i, i)\n",
    "            left2, right2 = self.expandAroundCenter(s, i, i + 1)\n",
    "            if right1 - left1 > end - start:\n",
    "                start, end = left1, right1\n",
    "            if right2 - left2 > end - start:\n",
    "                start, end = left2, right2\n",
    "            # print(start, end)\n",
    "        return s[start: end + 1]\n",
    "    def expandAroundCenter(self, s, left, right):\n",
    "        while left >= 0 and right < len(s) and s[left] == s[right]:\n",
    "            left -= 1\n",
    "            right += 1\n",
    "        return left + 1, right - 1\n",
    "\n",
    "str = \"adfgtdfd\"\n",
    "sol = Solution()\n",
    "print(sol.longestPalindrome(str))\n"
   ]
  },
  {
   "source": [
    "# 62. 不同路径\n",
    "一个机器人位于一个 m x n 网格的左上角 （起始点在下图中标记为 “Start” ）。机器人每次只能向下或者向右移动一步。机器人试图达到网格的右下角（在下图中标记为 “Finish” ）。\n",
    "\n",
    "问总共有多少条不同的路径？\n",
    "\n",
    "$$ ans = C^{m-1}_{m+n-2}$$"
   ],
   "cell_type": "markdown",
   "metadata": {}
  },
  {
   "cell_type": "code",
   "execution_count": 70,
   "metadata": {},
   "outputs": [
    {
     "output_type": "stream",
     "name": "stdout",
     "text": [
      "1\n"
     ]
    }
   ],
   "source": [
    "class Solution(object):\n",
    "    def uniquePaths(self, m, n):\n",
    "        '''方法一(self):递归方法,容易超出时间限制'''\n",
    "        # if m==1 or n==1: return 1\n",
    "        # return self.uniquePaths(m-1, n) + self.uniquePaths(m, n-1)\n",
    "\n",
    "        '''方法二(self):动态规划\n",
    "        时间复杂度：O(mn) 空间复杂度：O(mn)\n",
    "        '''\n",
    "        array = [[0]*n]*m\n",
    "        if m<2 or n<2: return 1\n",
    "        for i in range(m): array[i][0] = 1\n",
    "        for i in range(n): array[0][i] = 1\n",
    "        for i in range(1, m):\n",
    "            for j in range(1, n):\n",
    "                array[i][j] = array[i-1][j] + array[i][j-1]\n",
    "        return array[m-1][n-1]\n",
    "        \n",
    "        '''方法三(官方):组合数学\n",
    "        从起点到终点需要走m+n-2步,包括m-1次向下和n-1次向右运动,相当于组合m-1个A和n-1个B\n",
    "        ans = C^{m-1}_{m+n-2}'''\n",
    "        # import math\n",
    "        # return math.comb(m+n-2, n-1)\n",
    "\n",
    "sol = Solution()\n",
    "print(sol.uniquePaths(1, 2))"
   ]
  },
  {
   "source": [
    "# 91. 解码方法\n",
    "一条包含字母 A-Z 的消息通过以下映射进行了编码 ：\n",
    "'A' -> 1 'B' -> 2 ... 'Z' -> 26\n",
    "要 解码 已编码的消息，所有数字必须基于上述映射的方法，反向映射回字母（可能有多种方法）。例如，\"11106\" 可以映射为：\n",
    "* \"AAJF\" ，将消息分组为 (1 1 10 6)\n",
    "* \"KJF\" ，将消息分组为 (11 10 6)\n",
    "\n",
    "注意，消息不能分组为  (1 11 06) ，因为 \"06\" 不能映射为 \"F\" ，这是由于 \"6\" 和 \"06\" 在映射中并不等价。\n",
    "\n",
    "给你一个只含数字的非空字符串s ，请计算并返回解码方法的总数。题目数据保证答案肯定是一个 32 位 的整数。\n",
    "\n"
   ],
   "cell_type": "markdown",
   "metadata": {}
  },
  {
   "cell_type": "code",
   "execution_count": 72,
   "metadata": {},
   "outputs": [
    {
     "output_type": "stream",
     "name": "stdout",
     "text": [
      "4\n"
     ]
    }
   ],
   "source": [
    "'''这一题还是一个思路问题,知道采用动态规划,也知道逐位进行利用,但是状态转换关系不好弄明白'''\n",
    "class Solution:\n",
    "    def numDecodings(self, s: str) -> int:\n",
    "        n = len(s)\n",
    "        f = [1] + [0] * n\n",
    "        for i in range(1, n + 1):\n",
    "            # 单独一位进行解码的情况,只要改位不为'0',那么就是前i位进行组合的情况\n",
    "            if s[i - 1] != '0': \n",
    "                f[i] += f[i - 1]\n",
    "            # 与前一位联合解码的情况,必须得是倒数第二位不为'0'\n",
    "            # 并且与前一位联合解码数的大小不超过26\n",
    "            '''有点类似青蛙跳的升级'''\n",
    "            if i > 1 and s[i - 2] != '0' and int(s[i-2:i]) <= 26: \n",
    "                f[i] += f[i - 2]\n",
    "        return f[n]\n",
    "\n",
    "str = \"2923820233\"\n",
    "sol = Solution()\n",
    "print(sol.numDecodings(str))"
   ]
  },
  {
   "cell_type": "code",
   "execution_count": null,
   "metadata": {},
   "outputs": [],
   "source": []
  },
  {
   "cell_type": "code",
   "execution_count": null,
   "metadata": {},
   "outputs": [],
   "source": []
  }
 ]
}